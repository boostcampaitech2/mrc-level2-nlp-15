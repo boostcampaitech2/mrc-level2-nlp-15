{
 "cells": [
  {
   "cell_type": "code",
   "execution_count": 6,
   "id": "cf0014a3-05e2-4d67-957e-77efb761e8c8",
   "metadata": {},
   "outputs": [],
   "source": [
    "from elasticsearch import Elasticsearch, helpers\n",
    "import pandas as pd\n",
    "from tqdm import tqdm\n",
    "import time\n",
    "import json\n",
    "import re\n",
    "\n",
    "def get_doc_id(context):\n",
    "    for k,v in wiki.items():\n",
    "        if v['text'] == context:\n",
    "            return k\n",
    "\n",
    "\n",
    "class elastic:\n",
    "    def __init__(self, INDEX_NAME, context_path=\"../data/wikipedia_documents.json\"):\n",
    "        self.index_name = INDEX_NAME\n",
    "        try:\n",
    "            self.es.transport.close()\n",
    "        except:\n",
    "            pass\n",
    "        self.context_path = context_path\n",
    "        config = {\n",
    "            \"host\": \"localhost\", \n",
    "            \"port\": 9200,\n",
    "            \"timeout\": 100,\n",
    "            \"max_retries\": 10,\n",
    "            \"retry_on_timeout\": True,\n",
    "            }\n",
    "        self.es = Elasticsearch([config])\n",
    "        \n",
    "        self.index_setting = {\n",
    "            \"settings\": {\n",
    "                \"index\": {\n",
    "                    \"analysis\": {\n",
    "                        \"analyzer\": {\n",
    "                            \"korean\": {\n",
    "                                \"type\": \"custom\",\n",
    "                                \"tokenizer\": \"nori_tokenizer\",\n",
    "                                \"filter\": [\"shingle\"],\n",
    "                            }\n",
    "                        }\n",
    "                    }\n",
    "                }\n",
    "            },\n",
    "            \"mappings\": {\n",
    "                \"properties\": {\n",
    "                    \"text\": {\n",
    "                        \"type\": \"text\",\n",
    "                        \"analyzer\": \"korean\",\n",
    "                        \"search_analyzer\": \"korean\",\n",
    "                    },\n",
    "                    \"title\": {\n",
    "                        \"type\": \"text\",\n",
    "                        \"analyzer\": \"korean\",\n",
    "                        \"search_analyzer\": \"korean\",\n",
    "                    },\n",
    "                    # \"document_id\": {\n",
    "                    #     \"type\": \"integer\",\n",
    "                    # }\n",
    "                }\n",
    "            },\n",
    "        }\n",
    "\n",
    "    def build_elatic(self):\n",
    "        with open(self.context_path) as file:\n",
    "            json_data = json.load(file)\n",
    "        docs = []\n",
    "        for i, j in json_data.items():\n",
    "            docs.append(\n",
    "                {\n",
    "                    \"_index\": \"wikipedia\",\n",
    "                    \"_source\": {\n",
    "                        \"text\": j[\"text\"], \n",
    "                        \"title\": j[\"title\"],\n",
    "                        # \"document_id\": i\n",
    "                        },\n",
    "                }\n",
    "            )\n",
    "\n",
    "        if self.es.indices.exists(self.index_name):\n",
    "            print(self.es.indices)\n",
    "            print(self.index_name)\n",
    "            pass\n",
    "        else:\n",
    "            self.es.indices.create(index=self.index_name, body=self.index_setting)\n",
    "            helpers.bulk(self.es, docs)\n",
    "\n",
    "    def retrieve(self,query_or_dataset,topk):\n",
    "        datas = []\n",
    "        for i in tqdm(range(len(query_or_dataset))):\n",
    "            cp = {i: v for i, v in query_or_dataset[i].items()}\n",
    "            if \"context\" in query_or_dataset[i].keys() and \"answers\" in query_or_dataset[i].keys():\n",
    "                cp['original_context'] = query_or_dataset[i]['context']\n",
    "\n",
    "            query = query_or_dataset[i]['question']\n",
    "            query = query.replace('/', '')\n",
    "            query = query.replace('~', ' ')\n",
    "            res = self.es.search(index=self.index_name, q=query, size=topk)\n",
    "            hits = res['hits']['hits']\n",
    "            context = []\n",
    "            score = []\n",
    "            document_id = []\n",
    "            for docu in hits:\n",
    "                # print(docu)\n",
    "                context.append(docu['_source']['text'])\n",
    "                score.append(docu['_score'])\n",
    "                document_id.append(get_doc_id(docu['_source']['text']))\n",
    "            # score = list(map(lambda x: str(x/sum(score)),score))\n",
    "            cp['context'] = '///'.join(context)#리스트를 사용하려면 join없이 그냥 context를 쓰면 됩니다.\n",
    "            cp['score'] = score\n",
    "            cp['document_id'] = document_id\n",
    "            datas.append(cp)\n",
    "\n",
    "        return pd.DataFrame(datas)\n",
    "\n",
    "    def retrieve_false(self, query_or_dataset, topk):\n",
    "        datas = []\n",
    "        for i in tqdm(range(len(query_or_dataset))):\n",
    "            cp = {i: v for i, v in query_or_dataset[i].items()}\n",
    "            if (\n",
    "                \"context\" in query_or_dataset[i].keys()\n",
    "                and \"answers\" in query_or_dataset[i].keys()\n",
    "            ):\n",
    "                cp[\"original_context\"] = query_or_dataset[i][\"context\"]\n",
    "\n",
    "            query = query_or_dataset[i][\"question\"]\n",
    "            query = query.replace(\"/\", \"\")\n",
    "            query = query.replace(\"~\", \" \")\n",
    "            res = self.es.search(index=self.index_name, q=query, size=topk+1)\n",
    "            x = res[\"hits\"][\"hits\"]\n",
    "            context = []\n",
    "            for docu in x:\n",
    "                cont = docu[\"_source\"][\"text\"]\n",
    "                # groud truth 제거\n",
    "                if cont == cp[\"original_context\"]: continue\n",
    "                context.append(docu[\"_source\"][\"text\"])\n",
    "            context = context[:topk]\n",
    "            cp[\"context\"] = \"///\".join(context)\n",
    "            datas.append(cp)\n",
    "\n",
    "        return pd.DataFrame(datas)\n",
    "\n",
    "    def get_relevant_doc(self, query: str, topk:int):\n",
    "        query = query.replace('/', '')\n",
    "        query = query.replace('~', ' ')\n",
    "        res = self.es.search(index=self.index_name, q=query, size=topk)\n",
    "        hits = res['hits']['hits']\n",
    "        context = []\n",
    "        for docu in hits:\n",
    "            context.append(docu['_source']['text'])\n",
    "        join_context = '<다음 문맥>'.join(context)\n",
    "        return join_context"
   ]
  },
  {
   "cell_type": "code",
   "execution_count": 7,
   "id": "f9a1d193-bf62-422e-852b-4709bbf6a1d8",
   "metadata": {},
   "outputs": [],
   "source": [
    "from datasets import load_from_disk\n",
    "\n",
    "dataset = load_from_disk(\"../data/train_dataset\")\n",
    "train_datasets = dataset[\"train\"]\n",
    "valid_datasets = dataset[\"validation\"]"
   ]
  },
  {
   "cell_type": "code",
   "execution_count": 8,
   "id": "54517cae-02e3-4a30-84af-bee8562ee878",
   "metadata": {},
   "outputs": [
    {
     "name": "stdout",
     "output_type": "stream",
     "text": [
      "<elasticsearch.client.indices.IndicesClient object at 0x7fe14f648430>\n",
      "wikipedia\n"
     ]
    },
    {
     "name": "stderr",
     "output_type": "stream",
     "text": [
      "<ipython-input-6-2d713e7bacb4>:80: DeprecationWarning: Using positional arguments for APIs is deprecated and will be disabled in 8.0.0. Instead use only keyword arguments for all APIs. See https://github.com/elastic/elasticsearch-py/issues/1698 for more information\n",
      "  if self.es.indices.exists(self.index_name):\n",
      "/opt/conda/lib/python3.8/site-packages/elasticsearch/connection/base.py:209: ElasticsearchWarning: Elasticsearch built-in security features are not enabled. Without authentication, your cluster could be accessible to anyone. See https://www.elastic.co/guide/en/elasticsearch/reference/7.15/security-minimal-setup.html to enable security.\n",
      "  warnings.warn(message, category=ElasticsearchWarning)\n"
     ]
    }
   ],
   "source": [
    "x = elastic(\"wikipedia\")\n",
    "x.build_elatic()\n"
   ]
  },
  {
   "cell_type": "markdown",
   "metadata": {},
   "source": [
    "## Train dataset retrieving for hard negatives"
   ]
  },
  {
   "cell_type": "code",
   "execution_count": 9,
   "id": "8a1eca8b-70b6-4d02-bfca-3df95496e759",
   "metadata": {},
   "outputs": [],
   "source": [
    "# p = x.retrieve_false(train_datasets, 100)\n",
    "# p.to_csv(\"/opt/ml/data/train_elastic_top100_noanswer.csv\")"
   ]
  },
  {
   "cell_type": "markdown",
   "metadata": {},
   "source": [
    "## Validation dataset retrieving for hard negatives"
   ]
  },
  {
   "cell_type": "code",
   "execution_count": 10,
   "metadata": {},
   "outputs": [],
   "source": [
    "# val = x.retrieve_false(valid_datasets, 100)\n",
    "# val.to_csv(\"/opt/ml/data/valid_elastic_top100_noanswer.csv\")"
   ]
  },
  {
   "cell_type": "code",
   "execution_count": 11,
   "metadata": {},
   "outputs": [],
   "source": [
    "# p.context[0][:1000]"
   ]
  },
  {
   "cell_type": "markdown",
   "metadata": {},
   "source": [
    "## Test dataset retrieval for elastic search"
   ]
  },
  {
   "cell_type": "code",
   "execution_count": 12,
   "metadata": {},
   "outputs": [
    {
     "data": {
      "text/plain": [
       "'이 문서는 나라 목록이며, 전 세계 206개 나라의 각 현황과 주권 승인 정보를 개요 형태로 나열하고 있다.\\n\\n이 목록은 명료화를 위해 두 부분으로 나뉘어 있다.\\n\\n# 첫 번째 부분은 바티칸 시국과 팔레스타인을 포함하여 유엔 등 국제 기구에 가입되어 국제적인 승인을 널리 받았다고 여기는 195개 나라를 나열하고 있다.\\n# 두 번째 부분은 일부 지역의 주권을 사실상 (데 팍토) 행사하고 있지만, 아직 국제적인 승인을 널리 받지 않았다고 여기는 11개 나라를 나열하고 있다.\\n\\n두 목록은 모두 가나다 순이다.\\n\\n일부 국가의 경우 국가로서의 자격에 논쟁의 여부가 있으며, 이 때문에 이러한 목록을 엮는 것은 매우 어렵고 논란이 생길 수 있는 과정이다. 이 목록을 구성하고 있는 국가를 선정하는 기준에 대한 정보는 \"포함 기준\" 단락을 통해 설명하였다. 나라에 대한 일반적인 정보는 \"국가\" 문서에서 설명하고 있다.'"
      ]
     },
     "execution_count": 12,
     "metadata": {},
     "output_type": "execute_result"
    }
   ],
   "source": [
    "\"\"\" remove same items \"\"\"\n",
    "import json\n",
    "context_path = '../data/wikipedia_documents.json'\n",
    "with open(context_path, 'r', encoding= \"utf-8\") as f:\n",
    "    wiki = json.load(f)\n",
    "search_corpus = list(dict.fromkeys([v['text'] for v in wiki.values()]))\n",
    "search_corpus[0]"
   ]
  },
  {
   "cell_type": "code",
   "execution_count": 13,
   "metadata": {},
   "outputs": [
    {
     "name": "stdout",
     "output_type": "stream",
     "text": [
      "dict_keys(['text', 'corpus_source', 'url', 'domain', 'title', 'author', 'html', 'document_id'])\n"
     ]
    },
    {
     "data": {
      "text/plain": [
       "{'text': '이 문서는 나라 목록이며, 전 세계 206개 나라의 각 현황과 주권 승인 정보를 개요 형태로 나열하고 있다.\\n\\n이 목록은 명료화를 위해 두 부분으로 나뉘어 있다.\\n\\n# 첫 번째 부분은 바티칸 시국과 팔레스타인을 포함하여 유엔 등 국제 기구에 가입되어 국제적인 승인을 널리 받았다고 여기는 195개 나라를 나열하고 있다.\\n# 두 번째 부분은 일부 지역의 주권을 사실상 (데 팍토) 행사하고 있지만, 아직 국제적인 승인을 널리 받지 않았다고 여기는 11개 나라를 나열하고 있다.\\n\\n두 목록은 모두 가나다 순이다.\\n\\n일부 국가의 경우 국가로서의 자격에 논쟁의 여부가 있으며, 이 때문에 이러한 목록을 엮는 것은 매우 어렵고 논란이 생길 수 있는 과정이다. 이 목록을 구성하고 있는 국가를 선정하는 기준에 대한 정보는 \"포함 기준\" 단락을 통해 설명하였다. 나라에 대한 일반적인 정보는 \"국가\" 문서에서 설명하고 있다.',\n",
       " 'corpus_source': '위키피디아',\n",
       " 'url': 'TODO',\n",
       " 'domain': None,\n",
       " 'title': '나라 목록',\n",
       " 'author': None,\n",
       " 'html': None,\n",
       " 'document_id': 0}"
      ]
     },
     "execution_count": 13,
     "metadata": {},
     "output_type": "execute_result"
    }
   ],
   "source": [
    "query_or_dataset = {int(k):v for k,v in wiki.items()}\n",
    "print(query_or_dataset[0].keys())\n",
    "query_or_dataset[0]"
   ]
  },
  {
   "cell_type": "code",
   "execution_count": 14,
   "metadata": {},
   "outputs": [
    {
     "data": {
      "text/plain": [
       "Dataset({\n",
       "    features: ['id', 'question'],\n",
       "    num_rows: 600\n",
       "})"
      ]
     },
     "execution_count": 14,
     "metadata": {},
     "output_type": "execute_result"
    }
   ],
   "source": [
    "import pandas as pd\n",
    "import numpy as np\n",
    "import json\n",
    "\n",
    "# load test dataset as dataframe\n",
    "test = load_from_disk('../data/test_dataset')\n",
    "test_datasets = test['validation']\n",
    "test_datasets"
   ]
  },
  {
   "cell_type": "code",
   "execution_count": 15,
   "metadata": {},
   "outputs": [
    {
     "data": {
      "text/plain": [
       "{'question': \"유령'은 어느 행성에서 지구로 왔는가?\", 'id': 'mrc-1-000653'}"
      ]
     },
     "execution_count": 15,
     "metadata": {},
     "output_type": "execute_result"
    }
   ],
   "source": [
    "test_datasets[0]"
   ]
  },
  {
   "cell_type": "code",
   "execution_count": 16,
   "metadata": {},
   "outputs": [
    {
     "name": "stderr",
     "output_type": "stream",
     "text": [
      "100%|██████████| 600/600 [07:09<00:00,  1.40it/s]\n"
     ]
    }
   ],
   "source": [
    "test = x.retrieve(test_datasets, 100)"
   ]
  },
  {
   "cell_type": "code",
   "execution_count": 20,
   "metadata": {},
   "outputs": [
    {
     "data": {
      "text/html": [
       "<div>\n",
       "<style scoped>\n",
       "    .dataframe tbody tr th:only-of-type {\n",
       "        vertical-align: middle;\n",
       "    }\n",
       "\n",
       "    .dataframe tbody tr th {\n",
       "        vertical-align: top;\n",
       "    }\n",
       "\n",
       "    .dataframe thead th {\n",
       "        text-align: right;\n",
       "    }\n",
       "</style>\n",
       "<table border=\"1\" class=\"dataframe\">\n",
       "  <thead>\n",
       "    <tr style=\"text-align: right;\">\n",
       "      <th></th>\n",
       "      <th>question</th>\n",
       "      <th>id</th>\n",
       "      <th>context</th>\n",
       "      <th>score</th>\n",
       "      <th>document_id</th>\n",
       "    </tr>\n",
       "  </thead>\n",
       "  <tbody>\n",
       "    <tr>\n",
       "      <th>0</th>\n",
       "      <td>유령'은 어느 행성에서 지구로 왔는가?</td>\n",
       "      <td>mrc-1-000653</td>\n",
       "      <td>목성의 대기에서 보이는 줄무늬는 적도와 평행하면서 행성을 둘러싸는 대(zone)와 ...</td>\n",
       "      <td>[20.489973, 20.10779, 19.855621, 19.532476, 18...</td>\n",
       "      <td>[43280, 47081, 35064, 24024, 42242, 10509, 978...</td>\n",
       "    </tr>\n",
       "    <tr>\n",
       "      <th>1</th>\n",
       "      <td>용병회사의 경기가 좋아진 것은 무엇이 끝난 이후부터인가?</td>\n",
       "      <td>mrc-1-001113</td>\n",
       "      <td>SK에서 방출된 이후 그는 일본을 여행하며 잠시 신변을 정리하고 있었다. 그 때 좌...</td>\n",
       "      <td>[23.782045, 21.42108, 21.085941, 20.75889, 19....</td>\n",
       "      <td>[20081, 23179, 15556, 13590, 18470, 50337, 291...</td>\n",
       "    </tr>\n",
       "  </tbody>\n",
       "</table>\n",
       "</div>"
      ],
      "text/plain": [
       "                          question            id  \\\n",
       "0            유령'은 어느 행성에서 지구로 왔는가?  mrc-1-000653   \n",
       "1  용병회사의 경기가 좋아진 것은 무엇이 끝난 이후부터인가?  mrc-1-001113   \n",
       "\n",
       "                                             context  \\\n",
       "0  목성의 대기에서 보이는 줄무늬는 적도와 평행하면서 행성을 둘러싸는 대(zone)와 ...   \n",
       "1  SK에서 방출된 이후 그는 일본을 여행하며 잠시 신변을 정리하고 있었다. 그 때 좌...   \n",
       "\n",
       "                                               score  \\\n",
       "0  [20.489973, 20.10779, 19.855621, 19.532476, 18...   \n",
       "1  [23.782045, 21.42108, 21.085941, 20.75889, 19....   \n",
       "\n",
       "                                         document_id  \n",
       "0  [43280, 47081, 35064, 24024, 42242, 10509, 978...  \n",
       "1  [20081, 23179, 15556, 13590, 18470, 50337, 291...  "
      ]
     },
     "execution_count": 20,
     "metadata": {},
     "output_type": "execute_result"
    }
   ],
   "source": [
    "test.head(2)"
   ]
  },
  {
   "cell_type": "code",
   "execution_count": 21,
   "metadata": {},
   "outputs": [
    {
     "data": {
      "text/html": [
       "<div>\n",
       "<style scoped>\n",
       "    .dataframe tbody tr th:only-of-type {\n",
       "        vertical-align: middle;\n",
       "    }\n",
       "\n",
       "    .dataframe tbody tr th {\n",
       "        vertical-align: top;\n",
       "    }\n",
       "\n",
       "    .dataframe thead th {\n",
       "        text-align: right;\n",
       "    }\n",
       "</style>\n",
       "<table border=\"1\" class=\"dataframe\">\n",
       "  <thead>\n",
       "    <tr style=\"text-align: right;\">\n",
       "      <th></th>\n",
       "      <th>question</th>\n",
       "      <th>id</th>\n",
       "      <th>context</th>\n",
       "      <th>score</th>\n",
       "      <th>document_id</th>\n",
       "    </tr>\n",
       "  </thead>\n",
       "  <tbody>\n",
       "    <tr>\n",
       "      <th>0</th>\n",
       "      <td>유령'은 어느 행성에서 지구로 왔는가?</td>\n",
       "      <td>mrc-1-000653</td>\n",
       "      <td>[목성의 대기에서 보이는 줄무늬는 적도와 평행하면서 행성을 둘러싸는 대(zone)와...</td>\n",
       "      <td>[20.489973, 20.10779, 19.855621, 19.532476, 18...</td>\n",
       "      <td>[43280, 47081, 35064, 24024, 42242, 10509, 978...</td>\n",
       "    </tr>\n",
       "    <tr>\n",
       "      <th>1</th>\n",
       "      <td>용병회사의 경기가 좋아진 것은 무엇이 끝난 이후부터인가?</td>\n",
       "      <td>mrc-1-001113</td>\n",
       "      <td>[SK에서 방출된 이후 그는 일본을 여행하며 잠시 신변을 정리하고 있었다. 그 때 ...</td>\n",
       "      <td>[23.782045, 21.42108, 21.085941, 20.75889, 19....</td>\n",
       "      <td>[20081, 23179, 15556, 13590, 18470, 50337, 291...</td>\n",
       "    </tr>\n",
       "  </tbody>\n",
       "</table>\n",
       "</div>"
      ],
      "text/plain": [
       "                          question            id  \\\n",
       "0            유령'은 어느 행성에서 지구로 왔는가?  mrc-1-000653   \n",
       "1  용병회사의 경기가 좋아진 것은 무엇이 끝난 이후부터인가?  mrc-1-001113   \n",
       "\n",
       "                                             context  \\\n",
       "0  [목성의 대기에서 보이는 줄무늬는 적도와 평행하면서 행성을 둘러싸는 대(zone)와...   \n",
       "1  [SK에서 방출된 이후 그는 일본을 여행하며 잠시 신변을 정리하고 있었다. 그 때 ...   \n",
       "\n",
       "                                               score  \\\n",
       "0  [20.489973, 20.10779, 19.855621, 19.532476, 18...   \n",
       "1  [23.782045, 21.42108, 21.085941, 20.75889, 19....   \n",
       "\n",
       "                                         document_id  \n",
       "0  [43280, 47081, 35064, 24024, 42242, 10509, 978...  \n",
       "1  [20081, 23179, 15556, 13590, 18470, 50337, 291...  "
      ]
     },
     "execution_count": 21,
     "metadata": {},
     "output_type": "execute_result"
    }
   ],
   "source": [
    "# split context column values with ///\n",
    "df_test = test.copy()\n",
    "df_test['context'] = df_test['context'].str.split('///')\n",
    "df_test.head(2)"
   ]
  },
  {
   "cell_type": "code",
   "execution_count": 22,
   "metadata": {},
   "outputs": [],
   "source": [
    "df_test.to_csv(\"/opt/ml/data/test_elastic_top100.csv\")"
   ]
  },
  {
   "cell_type": "code",
   "execution_count": 19,
   "metadata": {},
   "outputs": [],
   "source": [
    "# check whether document id is same as original document id\n",
    "for num, (i, j) in enumerate(wiki.items()) :\n",
    "    if int(i) != j['document_id'] :\n",
    "        print('안돼!!')\n",
    "        "
   ]
  },
  {
   "cell_type": "code",
   "execution_count": null,
   "metadata": {},
   "outputs": [],
   "source": []
  }
 ],
 "metadata": {
  "interpreter": {
   "hash": "d4d1e4263499bec80672ea0156c357c1ee493ec2b1c70f0acce89fc37c4a6abe"
  },
  "kernelspec": {
   "display_name": "Python 3.8.5 64-bit ('base': conda)",
   "name": "python3"
  },
  "language_info": {
   "codemirror_mode": {
    "name": "ipython",
    "version": 3
   },
   "file_extension": ".py",
   "mimetype": "text/x-python",
   "name": "python",
   "nbconvert_exporter": "python",
   "pygments_lexer": "ipython3",
   "version": "3.8.5"
  }
 },
 "nbformat": 4,
 "nbformat_minor": 5
}
