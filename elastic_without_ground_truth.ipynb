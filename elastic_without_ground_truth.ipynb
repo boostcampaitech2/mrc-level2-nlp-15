{
 "cells": [
  {
   "cell_type": "code",
   "execution_count": 1,
   "id": "cf0014a3-05e2-4d67-957e-77efb761e8c8",
   "metadata": {},
   "outputs": [],
   "source": [
    "from elasticsearch import Elasticsearch, helpers\n",
    "import pandas as pd\n",
    "from tqdm import tqdm\n",
    "import time\n",
    "import json\n",
    "import re\n",
    "\n",
    "from preprocess import preprocess\n",
    "\n",
    "class elastic:\n",
    "    def __init__(self, INDEX_NAME, context_path=\"../data/wikipedia_documents.json\"):\n",
    "        self.index_name = INDEX_NAME\n",
    "        try:\n",
    "            self.es.transport.close()\n",
    "        except:\n",
    "            pass\n",
    "        self.context_path = context_path\n",
    "        self.es = Elasticsearch(timeout=100, max_retries=10, retry_on_timeout=True)\n",
    "        self.index_setting = {\n",
    "            \"settings\": {\n",
    "                \"index\": {\n",
    "                    \"analysis\": {\n",
    "                        \"analyzer\": {\n",
    "                            \"korean\": {\n",
    "                                \"type\": \"custom\",\n",
    "                                \"tokenizer\": \"nori_tokenizer\",\n",
    "                                \"filter\": [\"shingle\"],\n",
    "                            }\n",
    "                        }\n",
    "                    }\n",
    "                }\n",
    "            },\n",
    "            \"mappings\": {\n",
    "                \"properties\": {\n",
    "                    \"text\": {\n",
    "                        \"type\": \"text\",\n",
    "                        \"analyzer\": \"korean\",\n",
    "                        \"search_analyzer\": \"korean\",\n",
    "                    },\n",
    "                    \"title\": {\n",
    "                        \"type\": \"text\",\n",
    "                        \"analyzer\": \"korean\",\n",
    "                        \"search_analyzer\": \"korean\",\n",
    "                    },\n",
    "                }\n",
    "            },\n",
    "        }\n",
    "\n",
    "    def build_elatic(self):\n",
    "        with open(self.context_path) as file:\n",
    "            json_data = json.load(file)\n",
    "        docs = []\n",
    "        for i, j in json_data.items():\n",
    "            docs.append(\n",
    "                {\n",
    "                    \"_index\": \"wikipedia\",\n",
    "                    \"_source\": {\"text\": j[\"text\"], \"title\": j[\"title\"]},\n",
    "                }\n",
    "            )\n",
    "\n",
    "        if self.es.indices.exists(self.index_name):\n",
    "            pass\n",
    "        else:\n",
    "            self.es.indices.create(index=self.index_name, body=self.index_setting)\n",
    "            helpers.bulk(self.es, docs)\n",
    "\n",
    "    def retrieve(self, query_or_dataset, topk):\n",
    "        datas = []\n",
    "        for i in tqdm(range(len(query_or_dataset))):\n",
    "            cp = {i: v for i, v in query_or_dataset[i].items()}\n",
    "            if (\n",
    "                \"context\" in query_or_dataset[i].keys()\n",
    "                and \"answers\" in query_or_dataset[i].keys()\n",
    "            ):\n",
    "                cp[\"original_context\"] = query_or_dataset[i][\"context\"]\n",
    "\n",
    "            query = query.replace(\"/\", \"\")\n",
    "            query = query.replace(\"~\", \" \")\n",
    "            res = self.es.search(index=self.index_name, q=query, size=topk+1)\n",
    "            x = res[\"hits\"][\"hits\"]\n",
    "            context = []\n",
    "            for docu in x:\n",
    "                context.append(docu[\"_source\"][\"text\"])\n",
    "            cp[\"context\"] = \"///\".join(context)\n",
    "            datas.append(cp)\n",
    "\n",
    "        return pd.DataFrame(datas)\n",
    "\n",
    "    def retrieve_false(self, query_or_dataset, topk):\n",
    "        datas = []\n",
    "        for i in tqdm(range(len(query_or_dataset))):\n",
    "            cp = {i: v for i, v in query_or_dataset[i].items()}\n",
    "            if (\n",
    "                \"context\" in query_or_dataset[i].keys()\n",
    "                and \"answers\" in query_or_dataset[i].keys()\n",
    "            ):\n",
    "                cp[\"original_context\"] = preprocess(query_or_dataset[i][\"context\"])\n",
    "\n",
    "            query = preprocess(query_or_dataset[i][\"question\"])\n",
    "            query = query.replace(\"/\", \"\")\n",
    "            query = query.replace(\"~\", \" \")\n",
    "            res = self.es.search(index=self.index_name, q=query, size=topk+1)\n",
    "            x = res[\"hits\"][\"hits\"]\n",
    "            context = []\n",
    "            for docu in x:\n",
    "                cont = preprocess(docu[\"_source\"][\"text\"])\n",
    "                # groud truth 제거\n",
    "                if cont == cp[\"original_context\"]: continue\n",
    "                context.append(preprocess(docu[\"_source\"][\"text\"]))\n",
    "            context = context[:topk]\n",
    "            cp[\"context\"] = \"///\".join(context)\n",
    "            datas.append(cp)\n",
    "\n",
    "        return pd.DataFrame(datas)"
   ]
  },
  {
   "cell_type": "code",
   "execution_count": 2,
   "id": "f9a1d193-bf62-422e-852b-4709bbf6a1d8",
   "metadata": {},
   "outputs": [],
   "source": [
    "from datasets import load_from_disk\n",
    "\n",
    "dataset = load_from_disk(\"../data/train_dataset\")\n",
    "train_datasets = dataset[\"train\"]\n",
    "valid_datasets = dataset[\"validation\"]\n"
   ]
  },
  {
   "cell_type": "code",
   "execution_count": 3,
   "id": "54517cae-02e3-4a30-84af-bee8562ee878",
   "metadata": {},
   "outputs": [
    {
     "name": "stderr",
     "output_type": "stream",
     "text": [
      "<ipython-input-1-6d0488a02ff3>:61: DeprecationWarning: Using positional arguments for APIs is deprecated and will be disabled in 8.0.0. Instead use only keyword arguments for all APIs. See https://github.com/elastic/elasticsearch-py/issues/1698 for more information\n",
      "  if self.es.indices.exists(self.index_name):\n",
      "/opt/conda/lib/python3.8/site-packages/elasticsearch/connection/base.py:209: ElasticsearchWarning: Elasticsearch built-in security features are not enabled. Without authentication, your cluster could be accessible to anyone. See https://www.elastic.co/guide/en/elasticsearch/reference/7.15/security-minimal-setup.html to enable security.\n",
      "  warnings.warn(message, category=ElasticsearchWarning)\n"
     ]
    }
   ],
   "source": [
    "x = elastic(\"wikipedia\")\n",
    "x.build_elatic()\n"
   ]
  },
  {
   "cell_type": "code",
   "execution_count": 4,
   "id": "8a1eca8b-70b6-4d02-bfca-3df95496e759",
   "metadata": {},
   "outputs": [
    {
     "name": "stderr",
     "output_type": "stream",
     "text": [
      "100%|██████████| 3952/3952 [04:58<00:00, 13.26it/s]\n"
     ]
    }
   ],
   "source": [
    "p = x.retrieve_false(train_datasets, 100)\n"
   ]
  },
  {
   "cell_type": "code",
   "execution_count": 9,
   "metadata": {},
   "outputs": [],
   "source": [
    "p.to_csv(\"/opt/ml/data/train_elastic_top100_noanswer.csv\")"
   ]
  },
  {
   "cell_type": "code",
   "execution_count": 12,
   "metadata": {},
   "outputs": [
    {
     "name": "stderr",
     "output_type": "stream",
     "text": [
      "  0%|          | 0/240 [00:00<?, ?it/s]/opt/conda/lib/python3.8/site-packages/elasticsearch/connection/base.py:209: ElasticsearchWarning: Elasticsearch built-in security features are not enabled. Without authentication, your cluster could be accessible to anyone. See https://www.elastic.co/guide/en/elasticsearch/reference/7.15/security-minimal-setup.html to enable security.\n",
      "  warnings.warn(message, category=ElasticsearchWarning)\n",
      "100%|██████████| 240/240 [00:18<00:00, 12.77it/s]\n"
     ]
    }
   ],
   "source": [
    "val = x.retrieve_false(valid_datasets, 100)\n",
    "val.to_csv(\"/opt/ml/data/valid_elastic_top100_noanswer.csv\")"
   ]
  },
  {
   "cell_type": "code",
   "execution_count": null,
   "metadata": {},
   "outputs": [],
   "source": []
  },
  {
   "cell_type": "code",
   "execution_count": 12,
   "metadata": {},
   "outputs": [
    {
     "data": {
      "text/plain": [
       "'내각(內閣, cabinet)은 행정부의 주요 각료들로 구성되는 국가의 주요기관이다. 의원내각제에서 내각은 수상과 여러 장관으로 조직되는 합의체로, 국가의 행정권을 담당하고 국회에 대한 연대책임을 갖는다. 의원내각제에 있어서 내각은 국가행정의 최고기관인 한편 국민이 구성시키는 의회에 의하여 철저히 견제되어 의회민주주의 체제를 이룬다. 그 직접적 유래는 영국에서 국왕의 정치를 자문하던 추밀원에서 찾을 수 있다. 특히 내각은 추밀원의 일개 회의에서 시작하였다가 권한이 집중되어 분리된 기관으로, 이후 국왕의 실권이 사라지고 일명 웨스트민스터 시스템으로 불리는 의원내각제가 성립하면서 의회에 의한 민주적 행정부를 이루게 되었다. 한편 국가원수에게 대부분의 권력이 집중되는 대통령중심제와 군주제에서 내각은 원칙적으로 의결권이 없거나 의결의 구속력이 없는 보좌기관에 불과한 경우가 많다.(예: 대한민국의 국무회의) 대한민국은 국무회의가 내각에 속하며 권한이 대통령에 비해 제한적이다. 과거 왕조시대 때는 고려시대의 중서문하성, 중추원, 육부 또는 조선시대의 의정부와 육조가 내각과 비슷한 성향을 지니고 있었다.///이하의 국가들은 의회에서 행정부 수반을 선출한다는 점에서 내각제와 닮았다. 그리고 이들 국가들 중 상당수는 행정부 수반이 의회해산권을 갖고, 의회는 내각불신임권을 갖는데 이점 역시 내각제와 닮았다. 하지만 내각제와 달리 의회에서 선출되는 자는 행정부 수반의 지위 뿐만 아니라 국가 원수의 지위도 가진다. 그래서 의회에서 선출되는 자의 직위는 총리가 아니라, 대통령이다. 이처럼 1인이 행정부 수반과 국가 원수의 지위를 겸한다는 점에서 대통령중심제와 닮았다. 이상과 같은 이유로 이들 국가들의 정부 형태는 대통령제와 내각제의 절충형이지만, 행정 권한이 2인에게로 분리되어 있지 않으므로 이원집정부제는 아니다. * 나우루 * 남아프리카 공화국 * 마셜 제도 * 마카오 * 미얀마 * 미크로네시아 연방 * 보츠와나 * 산마리노 * 수리남 * 키리바시 * 홍콩///이하의 국가들은 의회에서 행정부 수반을 선출한다는 점에서 내각제와 닮았다. 그리고 이들 국가들 중 상당수는 행정부 수반이 의회해산권을 갖고, 의회는 내각불신임권을 갖는데 이점 역시 내각제와 닮았다. 하지만 내각제와 달리 의회에서 선출되는 자는 행정부 수반의 지위 뿐만 아니라 국가 원수의 지위도 가진다. 그래서 의회에서 선출되는 자의 직위는 총리가 아니라, 대통령이다. 이처럼 1인이 행정부 수반과 국가 원수의 지위를 겸한다는 점에서 대통령중심제와 닮았다. 이상과 같은 이유로 이들 국가들의 정부 형태는 대통령제와 내각제의 절충형이지만, 행정 권한이 2인에게로 분리되어 있지 않으므로 이원집정부제는 아니다. * 나우루 * 남아프리카 공화국 * 마셜 제도 * 마카오 * 미얀마 * 미크로네시아 연방 * 보츠와나 * 산마리노 * 수리남 * 키리바시 * 홍콩'"
      ]
     },
     "execution_count": 12,
     "metadata": {},
     "output_type": "execute_result"
    }
   ],
   "source": [
    "p.context[0]"
   ]
  },
  {
   "cell_type": "code",
   "execution_count": 8,
   "metadata": {},
   "outputs": [
    {
     "data": {
      "text/plain": [
       "False"
      ]
     },
     "execution_count": 8,
     "metadata": {},
     "output_type": "execute_result"
    }
   ],
   "source": [
    "preprocess(train_datasets[0]['context']) in p.context[0]"
   ]
  },
  {
   "cell_type": "code",
   "execution_count": 13,
   "metadata": {},
   "outputs": [
    {
     "data": {
      "text/plain": [
       "'미국 상의원 또는 미국 상원(United States Senate)은 양원제인 미국 의회의 상원이다. 미국 부통령이 상원의장이 된다. 각 주당 2명의 상원의원이 선출되어 100명의 상원의원으로 구성되어 있다. 임기는 6년이며, 2년마다 50개주 중 1/3씩 상원의원을 새로 선출하여 연방에 보낸다. 미국 상원은 미국 하원과는 다르게 미국 대통령을 수반으로 하는 미국 연방 행정부에 각종 동의를 하는 기관이다. 하원이 세금과 경제에 대한 권한, 대통령을 포함한 대다수의 공무원을 파면할 권한을 갖고 있는 국민을 대표하는 기관인 반면 상원은 미국의 주를 대표한다. 즉 캘리포니아주, 일리노이주 같이 주 정부와 주 의회를 대표하는 기관이다. 그로 인하여 군대의 파병, 관료의 임명에 대한 동의, 외국 조약에 대한 승인 등 신속을 요하는 권한은 모두 상원에게만 있다. 그리고 하원에 대한 견제 역할(하원의 법안을 거부할 권한 등)을 담당한다. 2년의 임기로 인하여 급진적일 수밖에 없는 하원은 지나치게 급진적인 법안을 만들기 쉽다. 대표적인 예로 건강보험 개혁 당시 하원이 미국 연방 행정부에게 퍼블릭 옵션(공공건강보험기관)의 조항이 있는 반면 상원의 경우 하원안이 지나치게 세금이 많이 든다는 이유로 퍼블릭 옵션 조항을 제외하고 비영리건강보험기관이나 보험회사가 담당하도록 한 것이다. 이 경우처럼 상원은 하원이나 내각책임제가 빠지기 쉬운 국가들의 국회처럼 걸핏하면 발생하는 의회의 비정상적인 사태를 방지하는 기관이다. 상원은 급박한 처리사항의 경우가 아니면 법안을 먼저 내는 경우가 드물고 하원이 만든 법안을 수정하여 다시 하원에 되돌려보낸다. 이러한 방식으로 단원제가 빠지기 쉬운 함정을 미리 방지하는 것이다.날짜=2017-02-05'"
      ]
     },
     "execution_count": 13,
     "metadata": {},
     "output_type": "execute_result"
    }
   ],
   "source": [
    "preprocess(train_datasets[0]['context'])"
   ]
  },
  {
   "cell_type": "code",
   "execution_count": null,
   "metadata": {},
   "outputs": [],
   "source": []
  }
 ],
 "metadata": {
  "interpreter": {
   "hash": "d4d1e4263499bec80672ea0156c357c1ee493ec2b1c70f0acce89fc37c4a6abe"
  },
  "kernelspec": {
   "display_name": "Python 3.8.5 64-bit ('base': conda)",
   "name": "python3"
  },
  "language_info": {
   "codemirror_mode": {
    "name": "ipython",
    "version": 3
   },
   "file_extension": ".py",
   "mimetype": "text/x-python",
   "name": "python",
   "nbconvert_exporter": "python",
   "pygments_lexer": "ipython3",
   "version": "3.8.5"
  }
 },
 "nbformat": 4,
 "nbformat_minor": 5
}
