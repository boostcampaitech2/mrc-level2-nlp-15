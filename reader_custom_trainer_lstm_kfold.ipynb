{
 "cells": [
  {
   "cell_type": "markdown",
   "metadata": {},
   "source": [
    "References\n",
    "- [Chris Mccormick finetuning BERT for SQUAD](https://colab.research.google.com/drive/16VjEulbATgok4mELTSaq7GTQdh3JGhGy#scrollTo=Xm1wTn09RAR7)\n",
    "- [Discussion Regarding finetuning T5](https://github.com/huggingface/transformers/issues/4426) | [Exploring T5 by patil suraj](https://github.com/patil-suraj/exploring-T5)\n",
    "    - [SQUAD QA finetuning for T5](https://colab.research.google.com/github/patil-suraj/exploring-T5/blob/master/T5_on_TPU.ipynb#scrollTo=KdmKlMkfcLa0)\n",
    "    - [T5 finetuning for non extractive tasks](https://colab.research.google.com/drive/176NSaYjc2eeI-78oLH_F9-YV3po3qQQO?usp=sharing)\n",
    "- [Google's T5 fine tuning example for QA](https://colab.research.google.com/github/google-research/text-to-text-transfer-transformer/blob/master/notebooks/t5-trivia.ipynb#scrollTo=6rU32DjyeLuL)"
   ]
  },
  {
   "cell_type": "markdown",
   "metadata": {},
   "source": [
    "## Import Dataset"
   ]
  },
  {
   "cell_type": "code",
   "execution_count": 1,
   "metadata": {},
   "outputs": [],
   "source": [
    "import os\n",
    "os.environ[\"TOKENIZERS_PARALLELISM\"] = \"false\""
   ]
  },
  {
   "cell_type": "code",
   "execution_count": 2,
   "metadata": {},
   "outputs": [],
   "source": [
    "# https://stackoverflow.com/questions/2352181/how-to-use-a-dot-to-access-members-of-dictionary\n",
    "class dotdict(dict):\n",
    "    \"\"\"dot.notation access to dictionary attributes, as dict.key_name, not as dict[\"key_name\"] \"\"\"\n",
    "    __getattr__ = dict.get\n",
    "    __setattr__ = dict.__setitem__\n",
    "    __delattr__ = dict.__delitem__\n"
   ]
  },
  {
   "cell_type": "code",
   "execution_count": 3,
   "metadata": {},
   "outputs": [],
   "source": [
    "import textwrap\n",
    "\n",
    "# Wrap text to 80 characters.\n",
    "wrapper = textwrap.TextWrapper(width=80) \n"
   ]
  },
  {
   "cell_type": "code",
   "execution_count": 4,
   "metadata": {},
   "outputs": [
    {
     "data": {
      "text/plain": [
       "{'model_name_or_path': 'klue/roberta-large',\n",
       " 'save_steps': 100,\n",
       " 'num_train_epochs': 3,\n",
       " 'learning_rate': 2e-05,\n",
       " 'batch_size': 10,\n",
       " 'warmup_steps': 300,\n",
       " 'weight_decay': 0.01,\n",
       " 'validation': False,\n",
       " 'max_length': 512,\n",
       " 'DEBUG': True,\n",
       " 'num_rnn_layers': 2,\n",
       " 'num_folds': 4,\n",
       " 'gamma': 1.0,\n",
       " 'smoothing': 0.2}"
      ]
     },
     "execution_count": 4,
     "metadata": {},
     "output_type": "execute_result"
    }
   ],
   "source": [
    "import yaml\n",
    "\n",
    "# Read config.yaml file\n",
    "with open(\"config.yaml\") as infile:\n",
    "    SAVED_CFG = yaml.load(infile, Loader=yaml.FullLoader)\n",
    "    SAVED_CFG = dotdict(SAVED_CFG)\n",
    "\n",
    "# arguments setting\n",
    "data_args = dotdict(SAVED_CFG.data)\n",
    "model_args = dotdict(SAVED_CFG.custom_model)\n",
    "\n",
    "# adding additional arguments\n",
    "# model_args.model_name_or_path = \"jaeyoung/klue-roberta-large-wiki-mlm\"\n",
    "model_args.batch_size = 10\n",
    "model_args.num_rnn_layers = 2\n",
    "model_args.learning_rate = 2e-5\n",
    "model_args.num_folds = 4\n",
    "model_args.gamma = 1.0\n",
    "model_args.smoothing = 0.2\n",
    "model_args"
   ]
  },
  {
   "cell_type": "code",
   "execution_count": 5,
   "metadata": {},
   "outputs": [
    {
     "name": "stdout",
     "output_type": "stream",
     "text": [
      "lstm-trainer-CE-num_rnn_layers-2-no-clip-cosine-scheduler\n"
     ]
    }
   ],
   "source": [
    "name_of_experiment = f'lstm-trainer-CE-num_rnn_layers-{model_args.num_rnn_layers}-no-clip-cosine-scheduler'\n",
    "print(name_of_experiment)"
   ]
  },
  {
   "cell_type": "code",
   "execution_count": 6,
   "metadata": {},
   "outputs": [],
   "source": [
    "class Metrics(object):\n",
    "    def __init__(self):\n",
    "        self.reset()\n",
    "        \n",
    "    def reset(self):\n",
    "        self.val = 0\n",
    "        self.avg = 0\n",
    "        self.sum = 0\n",
    "        self.count = 0\n",
    "        \n",
    "    def update(self, val, n=1):\n",
    "        self.val = val\n",
    "        self.sum += val * n\n",
    "        self.count += n\n",
    "        self.avg = self.sum / self.count"
   ]
  },
  {
   "cell_type": "markdown",
   "metadata": {},
   "source": [
    "## Import from Fine_Tune_BERT_on_SQuAD_v1_1.ipynb"
   ]
  },
  {
   "cell_type": "code",
   "execution_count": 7,
   "metadata": {},
   "outputs": [],
   "source": [
    "import torch\n",
    "from datasets import load_from_disk\n",
    "from torch.utils.data import (DataLoader, RandomSampler, TensorDataset)\n",
    "\n",
    "datasets = load_from_disk(data_args.dataset_name)\n",
    "train_dataset_from_huggingface = datasets['train']\n",
    "valid_dataset_from_huggingface = datasets['validation']"
   ]
  },
  {
   "cell_type": "code",
   "execution_count": 8,
   "metadata": {},
   "outputs": [
    {
     "data": {
      "text/plain": [
       "{'title': '미국 상원',\n",
       " 'context': '미국 상의원 또는 미국 상원(United States Senate)은 양원제인 미국 의회의 상원이다.\\\\n\\\\n미국 부통령이 상원의장이 된다. 각 주당 2명의 상원의원이 선출되어 100명의 상원의원으로 구성되어 있다. 임기는 6년이며, 2년마다 50개주 중 1/3씩 상원의원을 새로 선출하여 연방에 보낸다.\\\\n\\\\n미국 상원은 미국 하원과는 다르게 미국 대통령을 수반으로 하는 미국 연방 행정부에 각종 동의를 하는 기관이다. 하원이 세금과 경제에 대한 권한, 대통령을 포함한 대다수의 공무원을 파면할 권한을 갖고 있는 국민을 대표하는 기관인 반면 상원은 미국의 주를 대표한다. 즉 캘리포니아주, 일리노이주 같이 주 정부와 주 의회를 대표하는 기관이다. 그로 인하여 군대의 파병, 관료의 임명에 대한 동의, 외국 조약에 대한 승인 등 신속을 요하는 권한은 모두 상원에게만 있다. 그리고 하원에 대한 견제 역할(하원의 법안을 거부할 권한 등)을 담당한다. 2년의 임기로 인하여 급진적일 수밖에 없는 하원은 지나치게 급진적인 법안을 만들기 쉽다. 대표적인 예로 건강보험 개혁 당시 하원이 미국 연방 행정부에게 퍼블릭 옵션(공공건강보험기관)의 조항이 있는 반면 상원의 경우 하원안이 지나치게 세금이 많이 든다는 이유로 퍼블릭 옵션 조항을 제외하고 비영리건강보험기관이나 보험회사가 담당하도록 한 것이다. 이 경우처럼 상원은 하원이나 내각책임제가 빠지기 쉬운 국가들의 국회처럼 걸핏하면 발생하는 의회의 비정상적인 사태를 방지하는 기관이다. 상원은 급박한 처리사항의 경우가 아니면 법안을 먼저 내는 경우가 드물고 하원이 만든 법안을 수정하여 다시 하원에 되돌려보낸다. 이러한 방식으로 단원제가 빠지기 쉬운 함정을 미리 방지하는 것이다.날짜=2017-02-05',\n",
       " 'question': '대통령을 포함한 미국의 행정부 견제권을 갖는 국가 기관은?',\n",
       " 'id': 'mrc-1-000067',\n",
       " 'answers': {'answer_start': [235], 'text': ['하원']},\n",
       " 'document_id': 18293,\n",
       " '__index_level_0__': 42}"
      ]
     },
     "execution_count": 8,
     "metadata": {},
     "output_type": "execute_result"
    }
   ],
   "source": [
    "train_dataset_from_huggingface[0]"
   ]
  },
  {
   "cell_type": "code",
   "execution_count": 9,
   "metadata": {},
   "outputs": [],
   "source": [
    "import pandas as pd\n",
    "import numpy as np\n",
    "\n",
    "def pull_out_dictionary(df_input: pd.DataFrame):\n",
    "    \"\"\"pull out str `{}` values from the pandas dataframe and shape it as a new column\"\"\"\n",
    "\n",
    "    df = df_input.copy()\n",
    "\n",
    "    # assign subject_entity and object_entity column values type as dictionary\n",
    "    # df[\"answers\"] = df[\"answers\"].apply(lambda x: eval(x))\n",
    "    \n",
    "    df = df.assign(\n",
    "        # subject_entity\n",
    "        answer_start=lambda x: x[\"answers\"].apply(lambda x: x[\"answer_start\"]),\n",
    "        text=lambda x: x[\"answers\"].apply(lambda x: x[\"text\"]),\n",
    "    )\n",
    "\n",
    "    # drop subject_entity and object_entity column\n",
    "    df = df.drop([\"answers\"], axis=1)\n",
    "\n",
    "    return df\n",
    "\n",
    "def pull_out_list(df_input: pd.DataFrame):\n",
    "    \"\"\" pull out single item out of the list \"\"\"\n",
    "    \n",
    "    df = df_input.copy()\n",
    "\n",
    "    df[\"answer_start\"] = df[\"answer_start\"].apply(lambda x: int(x[0]))\n",
    "    df[\"text\"] = df[\"text\"].apply(lambda x: x[0])\n",
    "    return df"
   ]
  },
  {
   "cell_type": "code",
   "execution_count": 10,
   "metadata": {},
   "outputs": [
    {
     "name": "stdout",
     "output_type": "stream",
     "text": [
      "(3952, 8)\n",
      "(240, 8)\n"
     ]
    }
   ],
   "source": [
    "\"\"\" Converting train and validation dataset to Pandas dataframe for convenience \"\"\"\n",
    "\n",
    "train_df = pull_out_dictionary(pd.DataFrame.from_records(datasets['train']))\n",
    "val_df = pull_out_dictionary(pd.DataFrame.from_records(datasets['validation']))\n",
    "\n",
    "train_df = pull_out_list(train_df)\n",
    "val_df = pull_out_list(val_df)\n",
    "\n",
    "print(train_df.shape)\n",
    "print(val_df.shape)"
   ]
  },
  {
   "cell_type": "code",
   "execution_count": 11,
   "metadata": {},
   "outputs": [
    {
     "name": "stdout",
     "output_type": "stream",
     "text": [
      "Index(['title', 'context', 'question', 'id', 'document_id',\n",
      "       '__index_level_0__', 'answer_start', 'text'],\n",
      "      dtype='object')\n"
     ]
    }
   ],
   "source": [
    "print(train_df.columns)"
   ]
  },
  {
   "cell_type": "code",
   "execution_count": 12,
   "metadata": {},
   "outputs": [
    {
     "data": {
      "text/html": [
       "<div>\n",
       "<style scoped>\n",
       "    .dataframe tbody tr th:only-of-type {\n",
       "        vertical-align: middle;\n",
       "    }\n",
       "\n",
       "    .dataframe tbody tr th {\n",
       "        vertical-align: top;\n",
       "    }\n",
       "\n",
       "    .dataframe thead th {\n",
       "        text-align: right;\n",
       "    }\n",
       "</style>\n",
       "<table border=\"1\" class=\"dataframe\">\n",
       "  <thead>\n",
       "    <tr style=\"text-align: right;\">\n",
       "      <th></th>\n",
       "      <th>text</th>\n",
       "      <th>corpus_source</th>\n",
       "      <th>url</th>\n",
       "      <th>domain</th>\n",
       "      <th>title</th>\n",
       "      <th>author</th>\n",
       "      <th>html</th>\n",
       "      <th>document_id</th>\n",
       "    </tr>\n",
       "  </thead>\n",
       "  <tbody>\n",
       "    <tr>\n",
       "      <th>0</th>\n",
       "      <td>이 문서는 나라 목록이며, 전 세계 206개 나라의 각 현황과 주권 승인 정보를 개...</td>\n",
       "      <td>위키피디아</td>\n",
       "      <td>TODO</td>\n",
       "      <td>None</td>\n",
       "      <td>나라 목록</td>\n",
       "      <td>None</td>\n",
       "      <td>None</td>\n",
       "      <td>0</td>\n",
       "    </tr>\n",
       "    <tr>\n",
       "      <th>1</th>\n",
       "      <td>이 목록에 실린 국가 기준은 1933년 몬테비데오 협약 1장을 참고로 하였다. 협정...</td>\n",
       "      <td>위키피디아</td>\n",
       "      <td>TODO</td>\n",
       "      <td>None</td>\n",
       "      <td>나라 목록</td>\n",
       "      <td>None</td>\n",
       "      <td>None</td>\n",
       "      <td>1</td>\n",
       "    </tr>\n",
       "  </tbody>\n",
       "</table>\n",
       "</div>"
      ],
      "text/plain": [
       "                                                text corpus_source   url  \\\n",
       "0  이 문서는 나라 목록이며, 전 세계 206개 나라의 각 현황과 주권 승인 정보를 개...         위키피디아  TODO   \n",
       "1  이 목록에 실린 국가 기준은 1933년 몬테비데오 협약 1장을 참고로 하였다. 협정...         위키피디아  TODO   \n",
       "\n",
       "  domain  title author  html document_id  \n",
       "0   None  나라 목록   None  None           0  \n",
       "1   None  나라 목록   None  None           1  "
      ]
     },
     "execution_count": 12,
     "metadata": {},
     "output_type": "execute_result"
    }
   ],
   "source": [
    "import pandas as pd\n",
    "import numpy as np\n",
    "import json\n",
    "\n",
    "# load test dataset as dataframe\n",
    "with open(\"/opt/ml/data/wikipedia_documents.json\", \"r\", encoding=\"utf-8\") as reader:\n",
    "    input_data = json.load(reader)\n",
    "test_df = pd.DataFrame(input_data).T\n",
    "test_df.head(2)"
   ]
  },
  {
   "cell_type": "markdown",
   "metadata": {},
   "source": [
    "## Load Tokenizer\n",
    "Fixed: roberta not receiving sequence ids"
   ]
  },
  {
   "cell_type": "code",
   "execution_count": 13,
   "metadata": {},
   "outputs": [
    {
     "name": "stdout",
     "output_type": "stream",
     "text": [
      "sequence id not used: klue/roberta-large\n"
     ]
    }
   ],
   "source": [
    "from transformers import AutoModel, AutoTokenizer, AutoConfig\n",
    "\n",
    "# load tokenizer and configuration according to the model (ex: klue/roberta-large)\n",
    "if \"roberta\" in model_args.model_name_or_path:\n",
    "    tokenizer = AutoTokenizer.from_pretrained(\n",
    "        model_args.model_name_or_path, \n",
    "        model_input_names = [\"input_ids\", \"attention_mask\"],\n",
    "        use_fast=True # use rust based tokenizer    \n",
    "    )\n",
    "    print(\"sequence id not used:\", model_args.model_name_or_path)\n",
    "else:\n",
    "    tokenizer = AutoTokenizer.from_pretrained(model_args.model_name_or_path)\n",
    "    print(model_args.model_name_or_path)\n",
    "\n",
    "config = AutoConfig.from_pretrained(model_args.model_name_or_path)"
   ]
  },
  {
   "cell_type": "code",
   "execution_count": 14,
   "metadata": {},
   "outputs": [
    {
     "data": {
      "text/plain": [
       "'현대 ##적 인사 ##조 ##직 ##관리 ##의 시발점 ##이 된 책 ##은 ?'"
      ]
     },
     "execution_count": 14,
     "metadata": {},
     "output_type": "execute_result"
    }
   ],
   "source": [
    "# sample tokenization\n",
    "tokens = tokenizer.tokenize(train_dataset_from_huggingface[1]['question'])\n",
    "\" \".join(tokens)"
   ]
  },
  {
   "cell_type": "code",
   "execution_count": 15,
   "metadata": {},
   "outputs": [
    {
     "name": "stdout",
     "output_type": "stream",
     "text": [
      "['크리스토', '##포', '알', '##하우스']\n",
      "Wrong Example: tensor([[21533,     7,     7,  1862,  1381,     7,     7,  6634]])\n",
      "Correctly Encoded: tensor([[21533,  2208,  1381, 17975]], dtype=torch.int32)\n"
     ]
    }
   ],
   "source": [
    "# test batch tokenization\n",
    "# https://github.com/huggingface/transformers/issues/10297#issuecomment-783464293\n",
    "sample_answer_token = ['크리스토', '##포', '알', '##하우스']\n",
    "print(sample_answer_token)\n",
    "print(\"Wrong Example:\", tokenizer.encode(sample_answer_token, add_special_tokens=False, return_tensors='pt', is_split_into_words=True))\n",
    "# apply int for torch Tensor\n",
    "print(\"Correctly Encoded:\" ,torch.IntTensor([tokenizer.convert_tokens_to_ids(sample_answer_token)]))"
   ]
  },
  {
   "cell_type": "markdown",
   "metadata": {},
   "source": [
    "## Custom Dataset Class"
   ]
  },
  {
   "cell_type": "code",
   "execution_count": 16,
   "metadata": {},
   "outputs": [
    {
     "data": {
      "text/plain": [
       "(3952, 8)"
      ]
     },
     "execution_count": 16,
     "metadata": {},
     "output_type": "execute_result"
    }
   ],
   "source": [
    "train_df.shape"
   ]
  },
  {
   "cell_type": "code",
   "execution_count": 17,
   "metadata": {},
   "outputs": [
    {
     "name": "stdout",
     "output_type": "stream",
     "text": [
      "{'title': '미국 상원', 'context': '미국 상의원 또는 미국 상원(United States Senate)은 양원제인 미국 의회의 상원이다.\\\\n\\\\n미국 부통령이 상원의장이 된다. 각 주당 2명의 상원의원이 선출되어 100명의 상원의원으로 구성되어 있다. 임기는 6년이며, 2년마다 50개주 중 1/3씩 상원의원을 새로 선출하여 연방에 보낸다.\\\\n\\\\n미국 상원은 미국 하원과는 다르게 미국 대통령을 수반으로 하는 미국 연방 행정부에 각종 동의를 하는 기관이다. 하원이 세금과 경제에 대한 권한, 대통령을 포함한 대다수의 공무원을 파면할 권한을 갖고 있는 국민을 대표하는 기관인 반면 상원은 미국의 주를 대표한다. 즉 캘리포니아주, 일리노이주 같이 주 정부와 주 의회를 대표하는 기관이다. 그로 인하여 군대의 파병, 관료의 임명에 대한 동의, 외국 조약에 대한 승인 등 신속을 요하는 권한은 모두 상원에게만 있다. 그리고 하원에 대한 견제 역할(하원의 법안을 거부할 권한 등)을 담당한다. 2년의 임기로 인하여 급진적일 수밖에 없는 하원은 지나치게 급진적인 법안을 만들기 쉽다. 대표적인 예로 건강보험 개혁 당시 하원이 미국 연방 행정부에게 퍼블릭 옵션(공공건강보험기관)의 조항이 있는 반면 상원의 경우 하원안이 지나치게 세금이 많이 든다는 이유로 퍼블릭 옵션 조항을 제외하고 비영리건강보험기관이나 보험회사가 담당하도록 한 것이다. 이 경우처럼 상원은 하원이나 내각책임제가 빠지기 쉬운 국가들의 국회처럼 걸핏하면 발생하는 의회의 비정상적인 사태를 방지하는 기관이다. 상원은 급박한 처리사항의 경우가 아니면 법안을 먼저 내는 경우가 드물고 하원이 만든 법안을 수정하여 다시 하원에 되돌려보낸다. 이러한 방식으로 단원제가 빠지기 쉬운 함정을 미리 방지하는 것이다.날짜=2017-02-05', 'question': '대통령을 포함한 미국의 행정부 견제권을 갖는 국가 기관은?', 'id': 'mrc-1-000067', 'document_id': 18293, '__index_level_0__': 42, 'answer_start': 235, 'text': '하원'}\n",
      "dict_keys(['title', 'context', 'question', 'id', 'document_id', '__index_level_0__', 'answer_start', 'text'])\n",
      "3952\n"
     ]
    }
   ],
   "source": [
    "# change dataframe to dictionary\n",
    "train_df_dict = train_df.to_dict('records')\n",
    "valid_df_dict = val_df.to_dict('records')\n",
    "print(train_df_dict[0])\n",
    "print(train_df_dict[0].keys())\n",
    "print(len(train_df_dict))"
   ]
  },
  {
   "cell_type": "code",
   "execution_count": 18,
   "metadata": {},
   "outputs": [
    {
     "data": {
      "text/plain": [
       "4"
      ]
     },
     "execution_count": 18,
     "metadata": {},
     "output_type": "execute_result"
    }
   ],
   "source": [
    "tokenizer.mask_token_id"
   ]
  },
  {
   "cell_type": "code",
   "execution_count": 19,
   "metadata": {},
   "outputs": [
    {
     "name": "stdout",
     "output_type": "stream",
     "text": [
      "\n"
     ]
    }
   ],
   "source": [
    "DEBUG_MODE = True\n",
    "\n",
    "def drop_truncated_data(dict_df):\n",
    "\n",
    "    # Lists to store the encoded samples.\n",
    "    all_input_ids = []\n",
    "    attention_masks = []\n",
    "    start_positions = []\n",
    "    end_positions = []\n",
    "    num_dropped = 0\n",
    "\n",
    "    for num, item in enumerate(dict_df):\n",
    "        answer_tokens = tokenizer.tokenize(item['text'], add_special_tokens=False)\n",
    "        # print(answer_tokens)\n",
    "        sentinel_str = \" \".join([tokenizer.mask_token]*len(answer_tokens))\n",
    "        # print(sentinel_str)\n",
    "        start_char_i = item['answer_start']\n",
    "        # print(start_char_i)\n",
    "        end_char_i = start_char_i + len(item['text'])\n",
    "        # print(end_char_i)\n",
    "        \n",
    "        context_w_sentinel = \\\n",
    "            item['context'][:start_char_i] \\\n",
    "            + sentinel_str \\\n",
    "            + item['context'][end_char_i:]\n",
    "        # print(context_w_sentinel)\n",
    "        encoded_dict = tokenizer.encode_plus(\n",
    "            item['question'],\n",
    "            context_w_sentinel,\n",
    "            add_special_tokens=True,\n",
    "            max_length = model_args.max_seq_length,\n",
    "            padding='max_length',\n",
    "            return_attention_mask=True,\n",
    "            return_tensors='pt',\n",
    "            truncation = True\n",
    "        )\n",
    "        # print(encoded_dict)\n",
    "\n",
    "        input_ids = encoded_dict['input_ids']\n",
    "        # print(input_ids[0])\n",
    "        is_mask_token = (input_ids[0] == tokenizer.mask_token_id)\n",
    "        # print(is_mask_token)\n",
    "        mask_token_indeces = is_mask_token.nonzero(as_tuple=False)[:, 0]\n",
    "        # print(mask_token_indeces)\n",
    "        if not len(mask_token_indeces) == len(answer_tokens):\n",
    "            num_dropped += 1\n",
    "            continue\n",
    "\n",
    "        start_index = mask_token_indeces[0]\n",
    "        end_index = mask_token_indeces[-1]\n",
    "        # print(start_index, end_index)\n",
    "\n",
    "        # change start_index tensor and end_index tensor into integer type\n",
    "        start_index = start_index.item()\n",
    "        end_index = end_index.item()\n",
    "        # print(start_index, end_index)\n",
    "\n",
    "        # print(answer_tokens)\n",
    "        answer_token_ids = tokenizer.convert_tokens_to_ids(answer_tokens)\n",
    "        # print(answer_token_ids)\n",
    "        # print(input_ids)\n",
    "        input_ids[0, start_index : end_index + 1] = torch.tensor(answer_token_ids)\n",
    "        \n",
    "        \n",
    "        all_input_ids.append(input_ids)\n",
    "        attention_masks.append(encoded_dict['attention_mask'])\n",
    "        start_positions.append(start_index)\n",
    "        end_positions.append(end_index)\n",
    "        # break\n",
    "\n",
    "\n",
    "    # Convert the lists of tensors into 2D tensors.\n",
    "    all_input_ids = torch.cat(all_input_ids, dim=0)\n",
    "    attention_masks = torch.cat(attention_masks, dim=0)\n",
    "\n",
    "    # Convert the \"labels\" (the start and end indeces) into tensors.\n",
    "    start_positions = torch.tensor(start_positions)\n",
    "    end_positions = torch.tensor(end_positions)\n",
    "\n",
    "    return all_input_ids, attention_masks, start_positions, end_positions\n",
    "\n",
    "# print(drop_truncated_data(train_df_dict))\n",
    "# print(drop_truncated_data(valid_df_dict))\n",
    "print()"
   ]
  },
  {
   "cell_type": "code",
   "execution_count": 20,
   "metadata": {},
   "outputs": [],
   "source": [
    "from torch.utils.data import DataLoader\n",
    "\n",
    "train_truncated = drop_truncated_data(train_df_dict)\n",
    "train_dataset = TensorDataset(train_truncated[0], train_truncated[1], train_truncated[2], train_truncated[3])\n",
    "train_dataloader = DataLoader(train_dataset, batch_size=model_args.batch_size, shuffle=True)\n",
    "\n",
    "valid_truncated = drop_truncated_data(valid_df_dict)\n",
    "valid_dataset = TensorDataset(valid_truncated[0], valid_truncated[1], valid_truncated[2], valid_truncated[3])\n",
    "valid_dataloader = DataLoader(valid_dataset, batch_size=model_args.batch_size, shuffle=False)"
   ]
  },
  {
   "cell_type": "code",
   "execution_count": 21,
   "metadata": {},
   "outputs": [
    {
     "name": "stdout",
     "output_type": "stream",
     "text": [
      "(3952, 8)\n",
      "3706\n",
      "(240, 8)\n"
     ]
    },
    {
     "data": {
      "text/plain": [
       "220"
      ]
     },
     "execution_count": 21,
     "metadata": {},
     "output_type": "execute_result"
    }
   ],
   "source": [
    "print(train_df.shape)\n",
    "print(len(train_dataset))\n",
    "\n",
    "print(val_df.shape)\n",
    "len(valid_dataset)"
   ]
  },
  {
   "cell_type": "markdown",
   "metadata": {},
   "source": [
    "## Define Loss"
   ]
  },
  {
   "cell_type": "code",
   "execution_count": 22,
   "metadata": {},
   "outputs": [],
   "source": [
    "import torch\n",
    "import torch.nn as nn\n",
    "import torch.nn.functional as F\n",
    "from torch.autograd import Variable\n",
    "\n",
    "class FocalLoss(nn.Module):\n",
    "    # https://github.com/clcarwin/focal_loss_pytorch/blob/master/focalloss.py\n",
    "    def __init__(self, gamma=0.5, alpha=None, size_average=True):\n",
    "        super(FocalLoss, self).__init__()\n",
    "        self.gamma = gamma\n",
    "        self.alpha = alpha\n",
    "        if isinstance(alpha, (float, int)):\n",
    "            self.alpha = torch.Tensor([alpha, 1 - alpha])\n",
    "        if isinstance(alpha, list):\n",
    "            self.alpha = torch.Tensor(alpha)\n",
    "        self.size_average = size_average\n",
    "\n",
    "    def forward(self, input, target):\n",
    "        if input.dim() > 2:\n",
    "            input = input.view(input.size(0), input.size(1), -1)  # N,C,H,W => N,C,H*W\n",
    "            input = input.transpose(1, 2)  # N,C,H*W => N,H*W,C\n",
    "            input = input.contiguous().view(-1, input.size(2))  # N,H*W,C => N*H*W,C\n",
    "        target = target.view(-1, 1)\n",
    "\n",
    "        logpt = F.log_softmax(input)\n",
    "        logpt = logpt.gather(1, target)\n",
    "        logpt = logpt.view(-1)\n",
    "        pt = Variable(logpt.data.exp())\n",
    "\n",
    "        if self.alpha is not None:\n",
    "            if self.alpha.type() != input.data.type():\n",
    "                self.alpha = self.alpha.type_as(input.data)\n",
    "            at = self.alpha.gather(0, target.data.view(-1))\n",
    "            logpt = logpt * Variable(at)\n",
    "\n",
    "        loss = -1 * (1 - pt) ** self.gamma * logpt\n",
    "        if self.size_average:\n",
    "            return loss.mean()\n",
    "        else:\n",
    "            return loss.sum()\n"
   ]
  },
  {
   "cell_type": "code",
   "execution_count": 23,
   "metadata": {},
   "outputs": [],
   "source": [
    "import torch\n",
    "import torch.nn.functional as F\n",
    "from torch.nn.modules.loss import _WeightedLoss\n",
    "\n",
    "\n",
    "class LabelSmoothCrossEntropyLoss(_WeightedLoss):\n",
    "    # https://github.com/NingAnMe/Label-Smoothing-for-CrossEntropyLoss-PyTorch/blob/main/label_smothing_cross_entropy_loss.py\n",
    "    def __init__(self, weight=None, reduction='mean', smoothing=0.0):\n",
    "        super().__init__(weight=weight, reduction=reduction)\n",
    "        self.smoothing = smoothing\n",
    "        self.weight = weight\n",
    "        self.reduction = reduction\n",
    "\n",
    "    @staticmethod\n",
    "    def _smooth_one_hot(targets: torch.Tensor, n_classes: int, smoothing=0.0):\n",
    "        assert 0 <= smoothing < 1\n",
    "        with torch.no_grad():\n",
    "            targets = torch.empty(size=(targets.size(0), n_classes),\n",
    "                                  device=targets.device) \\\n",
    "                .fill_(smoothing / (n_classes - 1)) \\\n",
    "                .scatter_(1, targets.data.unsqueeze(1), 1. - smoothing)\n",
    "        return targets\n",
    "\n",
    "    def forward(self, inputs, targets):\n",
    "        targets = LabelSmoothCrossEntropyLoss._smooth_one_hot(targets, inputs.size(-1),\n",
    "                                                              self.smoothing)\n",
    "        lsm = F.log_softmax(inputs, -1)\n",
    "\n",
    "        if self.weight is not None:\n",
    "            lsm = lsm * self.weight.unsqueeze(0)\n",
    "\n",
    "        loss = -(targets * lsm).sum(-1)\n",
    "\n",
    "        if self.reduction == 'sum':\n",
    "            loss = loss.sum()\n",
    "        elif self.reduction == 'mean':\n",
    "            loss = loss.mean()\n",
    "\n",
    "        return loss"
   ]
  },
  {
   "cell_type": "code",
   "execution_count": 24,
   "metadata": {},
   "outputs": [],
   "source": [
    "# https://github.com/cvqluu/Angular-Penalty-Softmax-Losses-Pytorch -> doesn't work, full of bugs\n",
    "# https://github.com/ronghuaiyang/arcface-pytorch/blob/master/models/metrics.py -> fail"
   ]
  },
  {
   "cell_type": "code",
   "execution_count": 25,
   "metadata": {},
   "outputs": [],
   "source": [
    "# https://github.com/CoinCheung/pytorch-loss/blob/master/dice_loss.py -> Not working\n",
    "# https://github.com/ShannonAI/dice_loss_for_NLP/blob/master/loss/dice_loss.py -> Loss too big: 300 or more\n"
   ]
  },
  {
   "cell_type": "markdown",
   "metadata": {},
   "source": [
    "## Load Model"
   ]
  },
  {
   "cell_type": "code",
   "execution_count": 26,
   "metadata": {},
   "outputs": [
    {
     "name": "stdout",
     "output_type": "stream",
     "text": [
      "cuda:0\n",
      "Tue Nov  2 05:59:22 2021       \n",
      "+-----------------------------------------------------------------------------+\n",
      "| NVIDIA-SMI 450.80.02    Driver Version: 450.80.02    CUDA Version: 11.0     |\n",
      "|-------------------------------+----------------------+----------------------+\n",
      "| GPU  Name        Persistence-M| Bus-Id        Disp.A | Volatile Uncorr. ECC |\n",
      "| Fan  Temp  Perf  Pwr:Usage/Cap|         Memory-Usage | GPU-Util  Compute M. |\n",
      "|                               |                      |               MIG M. |\n",
      "|===============================+======================+======================|\n",
      "|   0  Tesla V100-PCIE...  Off  | 00000000:00:05.0 Off |                  Off |\n",
      "| N/A   34C    P0    36W / 250W |      4MiB / 32510MiB |      0%      Default |\n",
      "|                               |                      |                  N/A |\n",
      "+-------------------------------+----------------------+----------------------+\n",
      "                                                                               \n",
      "+-----------------------------------------------------------------------------+\n",
      "| Processes:                                                                  |\n",
      "|  GPU   GI   CI        PID   Type   Process name                  GPU Memory |\n",
      "|        ID   ID                                                   Usage      |\n",
      "|=============================================================================|\n",
      "|  No running processes found                                                 |\n",
      "+-----------------------------------------------------------------------------+\n"
     ]
    }
   ],
   "source": [
    "model_args.DEBUG = False\n",
    "device = torch.device('cuda:0' if torch.cuda.is_available() and model_args.DEBUG == False else 'cpu')\n",
    "print(device)\n",
    "!nvidia-smi"
   ]
  },
  {
   "cell_type": "code",
   "execution_count": 27,
   "metadata": {},
   "outputs": [],
   "source": [
    "# from transformers import AutoModelForQuestionAnswering, AutoConfig\n",
    "\n",
    "# \"\"\" default model \"\"\"\n",
    "# model_config = AutoConfig.from_pretrained(model_args.model_name_or_path)\n",
    "# model = AutoModelForQuestionAnswering.from_pretrained(\n",
    "#     model_args.model_name_or_path,\n",
    "#     config=model_config,\n",
    "#     )\n",
    "# model"
   ]
  },
  {
   "cell_type": "markdown",
   "metadata": {},
   "source": [
    "![img](https://discuss.pytorch.org/uploads/default/original/2X/e/e7496a33d835f085d800ee17c0ade05895a89551.png)\n",
    "\n",
    "- t: length of passage (or input text)\n",
    "- depth: number of rnn layers"
   ]
  },
  {
   "cell_type": "code",
   "execution_count": 28,
   "metadata": {},
   "outputs": [
    {
     "name": "stderr",
     "output_type": "stream",
     "text": [
      "Some weights of the model checkpoint at klue/roberta-large were not used when initializing RobertaModel: ['lm_head.layer_norm.bias', 'lm_head.decoder.bias', 'lm_head.dense.bias', 'lm_head.layer_norm.weight', 'lm_head.decoder.weight', 'lm_head.bias', 'lm_head.dense.weight']\n",
      "- This IS expected if you are initializing RobertaModel from the checkpoint of a model trained on another task or with another architecture (e.g. initializing a BertForSequenceClassification model from a BertForPreTraining model).\n",
      "- This IS NOT expected if you are initializing RobertaModel from the checkpoint of a model that you expect to be exactly identical (initializing a BertForSequenceClassification model from a BertForSequenceClassification model).\n",
      "Some weights of RobertaModel were not initialized from the model checkpoint at klue/roberta-large and are newly initialized: ['roberta.pooler.dense.bias', 'roberta.pooler.dense.weight']\n",
      "You should probably TRAIN this model on a down-stream task to be able to use it for predictions and inference.\n"
     ]
    }
   ],
   "source": [
    "import torch\n",
    "import torch.nn as nn\n",
    "import torch.nn.functional as F\n",
    "from transformers import AutoModel, AutoConfig, AutoModelForQuestionAnswering\n",
    "from torch.cuda.amp import autocast\n",
    "\n",
    "\"\"\" https://github.com/snexus/nlp-question-answering-system/blob/main/model.py \"\"\"\n",
    "\n",
    "class QAModel(nn.Module):\n",
    "    def __init__(self, MODEL_NAME, dropout_proba=0.1):\n",
    "        super().__init__()        \n",
    "        self.model_config= AutoConfig.from_pretrained(MODEL_NAME)\n",
    "        self.transformer = AutoModel.from_pretrained(MODEL_NAME, config= self.model_config)\n",
    "        self.embed_dim = self.model_config.hidden_size # roberta hidden dim = 1024\n",
    "        #self.device=\"cuda\" if torch.cuda.is_available else \"cpu\"\n",
    "        # We replace the head with lstm layer\n",
    "        self.lstm= nn.LSTM(\n",
    "            input_size= self.embed_dim, \n",
    "            hidden_size= self.embed_dim, \n",
    "            num_layers= model_args.num_rnn_layers,\n",
    "            dropout= 0.2,\n",
    "            batch_first= True, \n",
    "            bidirectional= True\n",
    "            )\n",
    "        self.qa_head = nn.Linear(in_features=self.embed_dim*2, out_features=2, bias=True)\n",
    "        self.dropout = nn.Dropout(p=dropout_proba)\n",
    "\n",
    "    def forward(self, input_ids, attention_mask, start_positions, end_positions):\n",
    "        \"\"\"\n",
    "        Forward step for the question-answering model\n",
    "\n",
    "        Parameters\n",
    "        ----------\n",
    "        input_enc - encoding dictionary from the tokenizer.\n",
    "\n",
    "        Returns\n",
    "        -------\n",
    "        start_logits - logit corresponding to the start position of the answer (batch_size, sentence_size, 1)\n",
    "        start_positions - true start position (batch_size, 1) or None\n",
    "        end_logits - logit corresponding to the end position of the answer (batch_size, sentence_size, 1)\n",
    "        end_positions - ture end position (batch_size, 1) or None\n",
    "        \"\"\"\n",
    "        #input_ids=input_ids.to(self.device)\n",
    "        #attention_mask=attention_mask.to(self.device)\n",
    "        trans_out = self.transformer(input_ids, attention_mask=attention_mask)\n",
    "\n",
    "        # Extract hidden state from the transformer\n",
    "        hidden_out = trans_out.last_hidden_state  # (batch_size, len_sentence, embed_dim)\n",
    "\n",
    "        hidden, (last_hidden, last_cell) = self.lstm(hidden_out)\n",
    "\n",
    "        #cat_hidden = torch.cat((last_hidden[0], last_hidden[1]), dim=1)\n",
    "        #print(cat_hidden.shape)\n",
    "\n",
    "        # Pass through the linear layer, we need to learn it's parameters\n",
    "        out = self.qa_head(hidden)  # (batch_size, len_sentence, 2)\n",
    "        #print(\"out : \",out)\n",
    "        #print(\"out : \",out.shape)\n",
    "        start_logits, end_logits = out.split(1, dim=-1)\n",
    "        start_logits = start_logits.squeeze(-1)  # (bs, max_query_len)\n",
    "        end_logits = end_logits.squeeze(-1)\n",
    "\n",
    "        # # Pass through classification\n",
    "        # out_cls = F.relu(self.class_layer(hidden_out)).permute(2, 0, 1)  # (1, batch_size, len_sentence)\n",
    "        # out_cls_logits = F.max_pool1d(out_cls, kernel_size=out_cls.shape[-1]).squeeze(-1).permute(1,\n",
    "        #                                                                                           0)  # (batch_size, 2)\n",
    "\n",
    "        # if start_positions is not None and end_positions is not None:\n",
    "        #     start_positions = torch.LongTensor(start_positions)\n",
    "        #     end_positions = torch.LongTensor(end_positions)\n",
    "            # start_positions = torch.tensor(start_positions, dtype=torch.long).reshape(-1, 1).squeeze(-1)\n",
    "            # end_positions = torch.tensor(end_positions, dtype=torch.long).reshape(-1, 1).squeeze(-1)  # (batch_size)\n",
    "\n",
    "            # is_impossible = torch.tensor(is_impossible, dtype=torch.long).detach().reshape(-1, 1).squeeze(\n",
    "            #     -1)  # (batch_size)\n",
    "\n",
    "            # ignored_index = start_logits.size(1)\n",
    "            # start_positions.clamp_(0, ignored_index)\n",
    "            # end_positions.clamp_(0, ignored_index)\n",
    "\n",
    "        return {\n",
    "            \"start_logits\": start_logits, \n",
    "            \"start_positions\": start_positions,\n",
    "            \"end_logits\": end_logits,\n",
    "            \"end_positions\": end_positions\n",
    "            }  # , ignored_index\n",
    "\n",
    "\n",
    "\n",
    "    def save(self, path: str, epoch: int, train_iter: float, optimizer, train_loss: float, eval_loss: float):\n",
    "        \"\"\"\n",
    "        Persist model on disk.\n",
    "        \"\"\"\n",
    "\n",
    "\n",
    "        torch.save({\n",
    "            'epoch': epoch,\n",
    "            'model_state_dict': self.state_dict(),\n",
    "            'optimizer_state_dict': optimizer.state_dict(),\n",
    "            'train_loss': train_loss,\n",
    "            'eval_loss': eval_loss,\n",
    "            'train_iter': train_iter\n",
    "        }, path)\n",
    "\n",
    "    def compute_loss(self, start_logits, start_positions, end_logits, end_positions, return_outputs=False):\n",
    "        #print(start_logits.size(), start_positions.size())\n",
    "        if len(start_positions.size()) > 1:\n",
    "            start_positions = start_positions.squeeze(-1)\n",
    "        if len(end_positions.size()) > 1:\n",
    "            end_positions = end_positions.squeeze(-1)\n",
    "        \n",
    "        # train의 prepare_train_features함수에서 index안에 정답이 없으면 cls토큰을 정답위치로 해주기 떄문에\n",
    "        # 주석부분은 사용하지 않습니다!\n",
    "        # ignored_index = start_logits.size(1)\n",
    "        # start_positions = start_positions.clamp(0, ignored_index)\n",
    "        # end_positions = end_positions.clamp(0, ignored_index)\n",
    "\n",
    "        # Available Pytorch Loss: https://github.com/CoinCheung/pytorch-loss\n",
    "        # YOU CAN USE DIFFERENT LOSS FOR START_LOGIT AND END_LOGIT\n",
    "        # loss_fct = nn.CrossEntropyLoss() # so far the best performance \n",
    "        # loss_fct = AngularPenaltySMLoss(model_args.max_length, model_args.max_length, loss_type='arcface')\n",
    "        # loss_fct = DiceLoss(with_logits=False, ohem_ratio=0.1)\n",
    "\n",
    "        start_loss_fct, end_loss_fct = nn.CrossEntropyLoss(), nn.CrossEntropyLoss() # -> so far the best performance\n",
    "        # start_loss_fct, end_loss_fct = FocalLoss(gamma=model_args.gamma), FocalLoss(gamma=model_args.gamma)\n",
    "        # start_loss_fct, end_loss_fct = LabelSmoothCrossEntropyLoss(smoothing=model_args.smoothing), LabelSmoothCrossEntropyLoss(smoothing=model_args.smoothing)\n",
    "        \n",
    "        # in_features = model_args.max_length\n",
    "        # out_features = 1 # Number of classes: each for start and end\n",
    "        # print(start_logits.size(), start_positions.size())\n",
    "        # print(start_logits, start_positions)\n",
    "        \n",
    "\n",
    "        #start_logit_g = start_logits.to(self.device, non_blocking=True)\n",
    "        #end_logit_g = end_logits.to(self.device, non_blocking=True)\n",
    "        #start_pos_g = start_positions.to(self.device, non_blocking=True)\n",
    "        #end_pos_g = end_positions.to(self.device, non_blocking=True)\n",
    "        # print(start_logits.shape, start_positions.shape)\n",
    "        start_loss = start_loss_fct(start_logits, start_positions)\n",
    "        end_loss = end_loss_fct(end_logits, end_positions)\n",
    "        total_loss = (start_loss + end_loss) / 2\n",
    "\n",
    "        return (total_loss, outputs) if return_outputs else total_loss\n",
    "\n",
    "\n",
    "# from transformers import DistilBertModel\n",
    "# from preprocess import SquadPreprocessor\n",
    "#\n",
    "# sp = SquadPreprocessor()\n",
    "# train_enc, val_enc = sp.get_encodings(random_sample_train=0.0005, random_sample_val=0.1, return_tensors=\"pt\")\n",
    "#\n",
    "# # Decoding\n",
    "# #    print(sp.tokenizer.decode(train_enc['input_ids'][0]))\n",
    "#\n",
    "# dbm = DistilBertModel.from_pretrained('distilbert-base-uncased', return_dict=True)\n",
    "# model = QAModel(transformer_model=dbm, device=torch.device(\"cpu\"))\n",
    "#\n",
    "# start_logit, start_pos_, end_logits, end_pos_, out_cls_logits, is_impossible = model(train_enc)\n",
    "# loss_fun_ = nn.CrossEntropyLoss()\n",
    "# print(model.compute_loss(start_logit, start_pos_, end_logits, end_pos_, out_cls_logits))\n",
    "\n",
    "model = QAModel(model_args.model_name_or_path)"
   ]
  },
  {
   "cell_type": "code",
   "execution_count": 29,
   "metadata": {},
   "outputs": [
    {
     "name": "stdout",
     "output_type": "stream",
     "text": [
      "Tue Nov  2 05:59:33 2021       \n",
      "+-----------------------------------------------------------------------------+\n",
      "| NVIDIA-SMI 450.80.02    Driver Version: 450.80.02    CUDA Version: 11.0     |\n",
      "|-------------------------------+----------------------+----------------------+\n",
      "| GPU  Name        Persistence-M| Bus-Id        Disp.A | Volatile Uncorr. ECC |\n",
      "| Fan  Temp  Perf  Pwr:Usage/Cap|         Memory-Usage | GPU-Util  Compute M. |\n",
      "|                               |                      |               MIG M. |\n",
      "|===============================+======================+======================|\n",
      "|   0  Tesla V100-PCIE...  Off  | 00000000:00:05.0 Off |                  Off |\n",
      "| N/A   34C    P0    36W / 250W |   2931MiB / 32510MiB |      0%      Default |\n",
      "|                               |                      |                  N/A |\n",
      "+-------------------------------+----------------------+----------------------+\n",
      "                                                                               \n",
      "+-----------------------------------------------------------------------------+\n",
      "| Processes:                                                                  |\n",
      "|  GPU   GI   CI        PID   Type   Process name                  GPU Memory |\n",
      "|        ID   ID                                                   Usage      |\n",
      "|=============================================================================|\n",
      "+-----------------------------------------------------------------------------+\n"
     ]
    }
   ],
   "source": [
    "model.to(device)\n",
    "!nvidia-smi"
   ]
  },
  {
   "cell_type": "markdown",
   "metadata": {},
   "source": [
    "## Define Optimizer and Scheduler"
   ]
  },
  {
   "cell_type": "code",
   "execution_count": 30,
   "metadata": {},
   "outputs": [],
   "source": [
    "from adamp import AdamP\n",
    "\n",
    "optimizer = AdamP(model.parameters(),\n",
    "                  lr = model_args.learning_rate, # args.learning_rate - default is 5e-5\n",
    "                  eps = 1e-8 # args.adam_epsilon  - default is 1e-8.\n",
    "                )"
   ]
  },
  {
   "cell_type": "code",
   "execution_count": 31,
   "metadata": {},
   "outputs": [],
   "source": [
    "from transformers import get_linear_schedule_with_warmup\n",
    "from transformers import get_cosine_schedule_with_warmup\n",
    "\n",
    "# Number of training epochs (authors recommend between 2 and 4)\n",
    "epochs = model_args.num_train_epochs\n",
    "\n",
    "# Total number of training steps is number of batches * number of epochs.\n",
    "total_steps = len(train_dataloader) * epochs\n",
    "\n",
    "# Create the learning rate scheduler.\n",
    "scheduler = get_cosine_schedule_with_warmup(optimizer, \n",
    "                                            num_warmup_steps = 0, # Default value in run_glue.py\n",
    "                                            num_training_steps = total_steps)"
   ]
  },
  {
   "cell_type": "markdown",
   "metadata": {},
   "source": [
    "## Training Loop"
   ]
  },
  {
   "cell_type": "code",
   "execution_count": 32,
   "metadata": {},
   "outputs": [],
   "source": [
    "class Metrics(object):\n",
    "    def __init__(self):\n",
    "        self.reset()\n",
    "        \n",
    "    def reset(self):\n",
    "        self.val = 0\n",
    "        self.avg = 0\n",
    "        self.sum = 0\n",
    "        self.count = 0\n",
    "        \n",
    "    def update(self, val, n=1):\n",
    "        self.val = val\n",
    "        self.sum += val * n\n",
    "        self.count += n\n",
    "        self.avg = self.sum / self.count"
   ]
  },
  {
   "cell_type": "code",
   "execution_count": 33,
   "metadata": {},
   "outputs": [
    {
     "data": {
      "text/plain": [
       "'lstm-trainer-CE-num_rnn_layers-2-no-clip-cosine-scheduler'"
      ]
     },
     "execution_count": 33,
     "metadata": {},
     "output_type": "execute_result"
    }
   ],
   "source": [
    "name_of_experiment"
   ]
  },
  {
   "cell_type": "code",
   "execution_count": 34,
   "metadata": {},
   "outputs": [
    {
     "name": "stderr",
     "output_type": "stream",
     "text": [
      "Failed to detect the name of this notebook, you can set it manually with the WANDB_NOTEBOOK_NAME environment variable to enable code saving.\n"
     ]
    },
    {
     "name": "stdout",
     "output_type": "stream",
     "text": [
      "lstm-trainer-CE-num_rnn_layers-2-no-clip-cosine-scheduler\n"
     ]
    },
    {
     "name": "stderr",
     "output_type": "stream",
     "text": [
      "\u001b[34m\u001b[1mwandb\u001b[0m: Currently logged in as: \u001b[33msnoop2head\u001b[0m (use `wandb login --relogin` to force relogin)\n",
      "\u001b[34m\u001b[1mwandb\u001b[0m: wandb version 0.12.6 is available!  To upgrade, please run:\n",
      "\u001b[34m\u001b[1mwandb\u001b[0m:  $ pip install wandb --upgrade\n"
     ]
    },
    {
     "data": {
      "text/html": [
       "\n",
       "                    Syncing run <strong><a href=\"https://wandb.ai/happyface-boostcamp/KLUE-QA/runs/vbg6523o\" target=\"_blank\">lstm-trainer-CE-num_rnn_layers-2-no-clip-cosine-scheduler</a></strong> to <a href=\"https://wandb.ai/happyface-boostcamp/KLUE-QA\" target=\"_blank\">Weights & Biases</a> (<a href=\"https://docs.wandb.com/integrations/jupyter.html\" target=\"_blank\">docs</a>).<br/>\n",
       "\n",
       "                "
      ],
      "text/plain": [
       "<IPython.core.display.HTML object>"
      ]
     },
     "metadata": {},
     "output_type": "display_data"
    },
    {
     "name": "stdout",
     "output_type": "stream",
     "text": [
      "\n",
      "======== Epoch 1 / 3 ========\n",
      "Training 371 batches...\n"
     ]
    },
    {
     "data": {
      "application/vnd.jupyter.widget-view+json": {
       "model_id": "e4d5afd8f7a14807be751c15d205669e",
       "version_major": 2,
       "version_minor": 0
      },
      "text/plain": [
       "HBox(children=(FloatProgress(value=0.0, max=371.0), HTML(value='')))"
      ]
     },
     "metadata": {},
     "output_type": "display_data"
    },
    {
     "name": "stdout",
     "output_type": "stream",
     "text": [
      "Epoch: 1/3 Step: 100 Train Loss: 3.1886\n",
      "Running Validation...\n"
     ]
    },
    {
     "data": {
      "application/vnd.jupyter.widget-view+json": {
       "model_id": "99f5322f09a245b8980c566fdd7dd1e2",
       "version_major": 2,
       "version_minor": 0
      },
      "text/plain": [
       "HBox(children=(FloatProgress(value=0.0, max=22.0), HTML(value='')))"
      ]
     },
     "metadata": {},
     "output_type": "display_data"
    },
    {
     "name": "stdout",
     "output_type": "stream",
     "text": [
      "\n",
      "Epoch: 1/3 Step: 100 Dev Loss: 1.8230 Dev Acc: 0.4318\n",
      "Saved model with highest EM accuracy: 0.4318\n",
      "Epoch: 1/3 Step: 200 Train Loss: 0.9556\n",
      "Running Validation...\n"
     ]
    },
    {
     "data": {
      "application/vnd.jupyter.widget-view+json": {
       "model_id": "7fec70119b384a32bcd85c78d044bc85",
       "version_major": 2,
       "version_minor": 0
      },
      "text/plain": [
       "HBox(children=(FloatProgress(value=0.0, max=22.0), HTML(value='')))"
      ]
     },
     "metadata": {},
     "output_type": "display_data"
    },
    {
     "name": "stdout",
     "output_type": "stream",
     "text": [
      "\n",
      "Epoch: 1/3 Step: 200 Dev Loss: 0.8777 Dev Acc: 0.6818\n",
      "Saved model with highest EM accuracy: 0.6818\n",
      "Epoch: 1/3 Step: 300 Train Loss: 0.6717\n",
      "Running Validation...\n"
     ]
    },
    {
     "data": {
      "application/vnd.jupyter.widget-view+json": {
       "model_id": "d0aaa468b67c46269d9878ce21ad2689",
       "version_major": 2,
       "version_minor": 0
      },
      "text/plain": [
       "HBox(children=(FloatProgress(value=0.0, max=22.0), HTML(value='')))"
      ]
     },
     "metadata": {},
     "output_type": "display_data"
    },
    {
     "name": "stdout",
     "output_type": "stream",
     "text": [
      "\n",
      "Epoch: 1/3 Step: 300 Dev Loss: 0.8036 Dev Acc: 0.7500\n",
      "Saved model with highest EM accuracy: 0.7500\n",
      "\n",
      "\n",
      "======== Epoch 2 / 3 ========\n",
      "Training 371 batches...\n"
     ]
    },
    {
     "data": {
      "application/vnd.jupyter.widget-view+json": {
       "model_id": "24f354d17eaf481a993456b586384511",
       "version_major": 2,
       "version_minor": 0
      },
      "text/plain": [
       "HBox(children=(FloatProgress(value=0.0, max=371.0), HTML(value='')))"
      ]
     },
     "metadata": {},
     "output_type": "display_data"
    },
    {
     "name": "stdout",
     "output_type": "stream",
     "text": [
      "Epoch: 2/3 Step: 100 Train Loss: 0.3481\n",
      "Running Validation...\n"
     ]
    },
    {
     "data": {
      "application/vnd.jupyter.widget-view+json": {
       "model_id": "5a7862d547064fd9b7860de3b38e890f",
       "version_major": 2,
       "version_minor": 0
      },
      "text/plain": [
       "HBox(children=(FloatProgress(value=0.0, max=22.0), HTML(value='')))"
      ]
     },
     "metadata": {},
     "output_type": "display_data"
    },
    {
     "name": "stdout",
     "output_type": "stream",
     "text": [
      "\n",
      "Epoch: 2/3 Step: 100 Dev Loss: 0.6970 Dev Acc: 0.7591\n",
      "Saved model with highest EM accuracy: 0.7591\n",
      "Epoch: 2/3 Step: 200 Train Loss: 0.2195\n",
      "Running Validation...\n"
     ]
    },
    {
     "data": {
      "application/vnd.jupyter.widget-view+json": {
       "model_id": "7b9191702c75455498047012037e98a5",
       "version_major": 2,
       "version_minor": 0
      },
      "text/plain": [
       "HBox(children=(FloatProgress(value=0.0, max=22.0), HTML(value='')))"
      ]
     },
     "metadata": {},
     "output_type": "display_data"
    },
    {
     "name": "stdout",
     "output_type": "stream",
     "text": [
      "\n",
      "Epoch: 2/3 Step: 200 Dev Loss: 0.6517 Dev Acc: 0.7500\n",
      "Epoch: 2/3 Step: 300 Train Loss: 0.2214\n",
      "Running Validation...\n"
     ]
    },
    {
     "data": {
      "application/vnd.jupyter.widget-view+json": {
       "model_id": "9adfd8dd4c624fc8a118bcc55793b9f8",
       "version_major": 2,
       "version_minor": 0
      },
      "text/plain": [
       "HBox(children=(FloatProgress(value=0.0, max=22.0), HTML(value='')))"
      ]
     },
     "metadata": {},
     "output_type": "display_data"
    },
    {
     "name": "stdout",
     "output_type": "stream",
     "text": [
      "\n",
      "Epoch: 2/3 Step: 300 Dev Loss: 0.5980 Dev Acc: 0.7955\n",
      "Saved model with highest EM accuracy: 0.7955\n",
      "\n",
      "\n",
      "======== Epoch 3 / 3 ========\n",
      "Training 371 batches...\n"
     ]
    },
    {
     "data": {
      "application/vnd.jupyter.widget-view+json": {
       "model_id": "fdfffb422b2c4e418a1b03b6838dfc57",
       "version_major": 2,
       "version_minor": 0
      },
      "text/plain": [
       "HBox(children=(FloatProgress(value=0.0, max=371.0), HTML(value='')))"
      ]
     },
     "metadata": {},
     "output_type": "display_data"
    },
    {
     "name": "stdout",
     "output_type": "stream",
     "text": [
      "Epoch: 3/3 Step: 100 Train Loss: 0.1454\n",
      "Running Validation...\n"
     ]
    },
    {
     "data": {
      "application/vnd.jupyter.widget-view+json": {
       "model_id": "e00b63f472254644aa4084c22a572316",
       "version_major": 2,
       "version_minor": 0
      },
      "text/plain": [
       "HBox(children=(FloatProgress(value=0.0, max=22.0), HTML(value='')))"
      ]
     },
     "metadata": {},
     "output_type": "display_data"
    },
    {
     "name": "stdout",
     "output_type": "stream",
     "text": [
      "\n",
      "Epoch: 3/3 Step: 100 Dev Loss: 0.5752 Dev Acc: 0.8136\n",
      "Saved model with highest EM accuracy: 0.8136\n",
      "Epoch: 3/3 Step: 200 Train Loss: 0.0790\n",
      "Running Validation...\n"
     ]
    },
    {
     "data": {
      "application/vnd.jupyter.widget-view+json": {
       "model_id": "30f548528d6b45418f9ce673e28d0977",
       "version_major": 2,
       "version_minor": 0
      },
      "text/plain": [
       "HBox(children=(FloatProgress(value=0.0, max=22.0), HTML(value='')))"
      ]
     },
     "metadata": {},
     "output_type": "display_data"
    },
    {
     "name": "stdout",
     "output_type": "stream",
     "text": [
      "\n",
      "Epoch: 3/3 Step: 200 Dev Loss: 0.5613 Dev Acc: 0.8000\n",
      "Epoch: 3/3 Step: 300 Train Loss: 0.0695\n",
      "Running Validation...\n"
     ]
    },
    {
     "data": {
      "application/vnd.jupyter.widget-view+json": {
       "model_id": "4124b0b1e8a944b4a0616a2d0f4857d0",
       "version_major": 2,
       "version_minor": 0
      },
      "text/plain": [
       "HBox(children=(FloatProgress(value=0.0, max=22.0), HTML(value='')))"
      ]
     },
     "metadata": {},
     "output_type": "display_data"
    },
    {
     "name": "stdout",
     "output_type": "stream",
     "text": [
      "\n",
      "Epoch: 3/3 Step: 300 Dev Loss: 0.5848 Dev Acc: 0.7909\n",
      "\n",
      "\n",
      "Training complete!\n"
     ]
    }
   ],
   "source": [
    "import time\n",
    "import wandb\n",
    "import random\n",
    "import numpy as np\n",
    "\n",
    "from tqdm.auto import tqdm\n",
    "import wandb \n",
    "\n",
    "seed_val = 42\n",
    "\n",
    "random.seed(seed_val)\n",
    "np.random.seed(seed_val)\n",
    "torch.manual_seed(seed_val)\n",
    "torch.cuda.manual_seed_all(seed_val)\n",
    "\n",
    "training_stats = []\n",
    "\n",
    "# https://wandb.ai/happyface-boostcamp/KLUE-QA\n",
    "print(name_of_experiment)\n",
    "wandb.init(\n",
    "    project='KLUE-QA', \n",
    "    entity='happyface-boostcamp', \n",
    "    name=name_of_experiment,\n",
    "    config=model_args\n",
    "    )\n",
    "\n",
    "\n",
    "fold_num = 0\n",
    "# best_eval_loss = 1.0\n",
    "best_acc = 0.0\n",
    "\n",
    "# Initialize using Metrics \n",
    "train_acc, train_loss = Metrics(), Metrics()\n",
    "dev_acc, dev_loss = Metrics(), Metrics()\n",
    "dev_start_acc, dev_end_acc = Metrics(), Metrics()\n",
    "\n",
    "for epoch_i in range(0, epochs):\n",
    "\n",
    "    print(\"\")\n",
    "    print('======== Epoch {:} / {:} ========'.format(epoch_i + 1, epochs))    \n",
    "    print('Training {:,} batches...'.format(len(train_dataloader)))\n",
    "\n",
    "    # change the model to train mode\n",
    "    model.train()\n",
    "    num_batches = len(train_dataloader)\n",
    "\n",
    "    # For each batch of training data...\n",
    "    for step, batch in enumerate(tqdm(train_dataloader)):\n",
    "        \n",
    "        # get info from batch\n",
    "        b_input_ids = batch[0].to(device)\n",
    "        b_input_mask = batch[1].to(device)\n",
    "        b_start_pos = batch[2].to(device)\n",
    "        b_end_pos = batch[3].to(device)\n",
    "\n",
    "        # get outputs from the model\n",
    "        model.zero_grad()        \n",
    "        outputs = model(\n",
    "            b_input_ids, \n",
    "            attention_mask=b_input_mask, \n",
    "            start_positions=b_start_pos,\n",
    "            end_positions=b_end_pos,\n",
    "        )\n",
    "\n",
    "        # get logits(probability) and loss\n",
    "        start_logits = outputs['start_logits']\n",
    "        end_logits = outputs['end_logits']\n",
    "        loss = model.compute_loss(\n",
    "            start_logits = start_logits,\n",
    "            start_positions = outputs['start_positions'],\n",
    "            end_logits = end_logits,\n",
    "            end_positions = outputs['end_positions'],\n",
    "        )\n",
    "        \n",
    "        # record train loss\n",
    "        # print(loss.item())\n",
    "        train_loss.update(loss.item(), len(b_input_ids))\n",
    "\n",
    "        # backward propagation & optimizer stepping\n",
    "        loss.backward()\n",
    "        # torch.nn.utils.clip_grad_norm_(model.parameters(), 1.0) -> same accuracy but reduces loss\n",
    "        optimizer.step()\n",
    "        scheduler.step()\n",
    "\n",
    "        # EVALUATE every 100 steps\n",
    "        if step != 0 and step % 100 == 0:\n",
    "            print('Epoch: {}/{}'.format(epoch_i+1, model_args.num_train_epochs), 'Step: {}'.format(step), 'Train Loss: {:.4f}'.format(train_loss.avg))\n",
    "            print(\"Running Validation...\")\n",
    "\n",
    "            # initialize prediction and labels for future accuracy calculation\n",
    "            pred_start, pred_end, true_start, true_end = [], [], [], []\n",
    "\n",
    "            # Evaluate data for one epoch\n",
    "            for batch in tqdm(valid_dataloader):\n",
    "                \n",
    "                # get info from batch\n",
    "                b_input_ids = batch[0].to(device)\n",
    "                b_input_mask = batch[1].to(device)\n",
    "                b_start_pos = batch[2].to(device)\n",
    "                b_end_pos = batch[3].to(device)\n",
    "\n",
    "                # Evaluate and get outputs\n",
    "                # model.eval() # lstm does not accept model.eval()\n",
    "                with torch.no_grad():        \n",
    "                    outputs = model(\n",
    "                        b_input_ids, \n",
    "                        # token_type_ids=b_seg_ids, \n",
    "                        attention_mask=b_input_mask,\n",
    "                        start_positions=b_start_pos,\n",
    "                        end_positions=b_end_pos,\n",
    "                    )\n",
    "\n",
    "                # get logits(probability) and loss\n",
    "                start_logits = outputs['start_logits']\n",
    "                end_logits = outputs['end_logits']        \n",
    "                loss = model.compute_loss(\n",
    "                    start_logits = start_logits,\n",
    "                    start_positions = outputs['start_positions'],\n",
    "                    end_logits = end_logits,\n",
    "                    end_positions = outputs['end_positions'],\n",
    "                )\n",
    "\n",
    "                # record evaluation loss\n",
    "                dev_loss.update(loss.item(), len(b_input_ids))\n",
    "\n",
    "                # get logits and predictions for evaluation accuracy\n",
    "                start_logits = start_logits.detach().cpu().numpy()\n",
    "                end_logits = end_logits.detach().cpu().numpy()                \n",
    "                b_start_pos = b_start_pos.to('cpu').numpy()\n",
    "                b_end_pos = b_end_pos.to('cpu').numpy()\n",
    "                answer_start = np.argmax(start_logits, axis=1)\n",
    "                answer_end = np.argmax(end_logits, axis=1)\n",
    "\n",
    "                # append the prediction and ground truth to the list for comparison\n",
    "                pred_start.append(answer_start)\n",
    "                pred_end.append(answer_end)\n",
    "                true_start.append(b_start_pos)\n",
    "                true_end.append(b_end_pos)\n",
    "\n",
    "            # compare start for accuracy calculation\n",
    "            pred_start = np.concatenate(pred_start, axis=0)\n",
    "            true_start = np.concatenate(true_start, axis=0)\n",
    "            num_start_correct = np.sum(pred_start == true_start)\n",
    "            dev_start_acc.update((pred_start == true_start).mean(), len(true_start))\n",
    "            \n",
    "            # compare end for accuracy calculation\n",
    "            pred_end = np.concatenate(pred_end, axis=0)\n",
    "            true_end = np.concatenate(true_end, axis=0)\n",
    "            num_end_correct = np.sum(pred_end == true_end)\n",
    "            dev_end_acc.update((pred_end == true_end).mean(), len(true_end))\n",
    "            \n",
    "            # compare both start and end for EM accuracy calculation\n",
    "            total_correct = num_start_correct + num_end_correct\n",
    "            total_indeces = len(true_start) + len(true_end)\n",
    "            \n",
    "            # get both cases where pred_start == true_start and pred_end == true_end\n",
    "            both_correct = np.mean(np.logical_and(pred_start == true_start, pred_end == true_end))\n",
    "            dev_acc.update(both_correct, len(b_input_ids))\n",
    "\n",
    "            # Report the final accuracy for this validation run.\n",
    "            print('Epoch: {}/{}'.format(epoch_i+1, epochs), 'Step: {}'.format(step), 'Dev Loss: {:.4f}'.format(dev_loss.avg), 'Dev Acc: {:.4f}'.format(dev_acc.avg))\n",
    "            \n",
    "            # log on wandb\n",
    "            wandb.log(\n",
    "                    {\n",
    "                        'train/loss': train_loss.avg,\n",
    "                        'train/learning_rate':optimizer.param_groups[0]['lr'], \n",
    "                        'eval/loss': dev_loss.avg,\n",
    "                        'eval/accuracy':dev_acc.avg,\n",
    "                        'eval/start_accuracy':dev_start_acc.avg,\n",
    "                        'eval/end_accuracy':dev_end_acc.avg,\n",
    "                        }\n",
    "                    )\n",
    "\n",
    "            # save the best model based on evaluation loss\n",
    "            # if best_eval_loss > dev_loss.avg:\n",
    "            #     best_eval_loss = dev_loss.avg\n",
    "            #     torch.save(model.state_dict(), './results/{}-fold-{}-best-eval-loss-model.pt'.format(fold_num+1, model_args.num_folds))\n",
    "            #     print('Saved model with lowest validation loss: {:.4f}'.format(best_eval_loss))\n",
    "            #     wandb.log({'best_eval_loss':best_eval_loss})\n",
    "            \n",
    "            # save the best model based on EM accuracy\n",
    "            if best_acc < dev_acc.avg:\n",
    "                best_acc = dev_acc.avg\n",
    "                torch.save(model.state_dict(), './results/{}-fold-{}-best-acc-model.pt'.format(fold_num+1, model_args.num_folds))\n",
    "                print('Saved model with highest EM accuracy: {:.4f}'.format(best_acc))\n",
    "                wandb.log({'best_acc':best_acc})\n",
    "\n",
    "            # reset metrics\n",
    "            train_loss.reset()\n",
    "            dev_loss.reset()\n",
    "            dev_acc.reset()\n",
    "            dev_start_acc.reset()\n",
    "            dev_end_acc.reset()\n",
    "            \n",
    "\n",
    "print(\"\")\n",
    "print(\"Training complete!\")"
   ]
  },
  {
   "cell_type": "code",
   "execution_count": 35,
   "metadata": {},
   "outputs": [
    {
     "name": "stdout",
     "output_type": "stream",
     "text": [
      "Tue Nov  2 06:29:22 2021       \n",
      "+-----------------------------------------------------------------------------+\n",
      "| NVIDIA-SMI 450.80.02    Driver Version: 450.80.02    CUDA Version: 11.0     |\n",
      "|-------------------------------+----------------------+----------------------+\n",
      "| GPU  Name        Persistence-M| Bus-Id        Disp.A | Volatile Uncorr. ECC |\n",
      "| Fan  Temp  Perf  Pwr:Usage/Cap|         Memory-Usage | GPU-Util  Compute M. |\n",
      "|                               |                      |               MIG M. |\n",
      "|===============================+======================+======================|\n",
      "|   0  Tesla V100-PCIE...  Off  | 00000000:00:05.0 Off |                  Off |\n",
      "| N/A   55C    P0    48W / 250W |  29163MiB / 32510MiB |      0%      Default |\n",
      "|                               |                      |                  N/A |\n",
      "+-------------------------------+----------------------+----------------------+\n",
      "                                                                               \n",
      "+-----------------------------------------------------------------------------+\n",
      "| Processes:                                                                  |\n",
      "|  GPU   GI   CI        PID   Type   Process name                  GPU Memory |\n",
      "|        ID   ID                                                   Usage      |\n",
      "|=============================================================================|\n",
      "+-----------------------------------------------------------------------------+\n"
     ]
    }
   ],
   "source": [
    "!nvidia-smi"
   ]
  },
  {
   "cell_type": "markdown",
   "metadata": {},
   "source": [
    "## Inference"
   ]
  },
  {
   "cell_type": "code",
   "execution_count": 36,
   "metadata": {},
   "outputs": [
    {
     "data": {
      "text/plain": [
       "Dataset({\n",
       "    features: ['id', 'question'],\n",
       "    num_rows: 600\n",
       "})"
      ]
     },
     "execution_count": 36,
     "metadata": {},
     "output_type": "execute_result"
    }
   ],
   "source": [
    "test_datasets = load_from_disk(data_args.test_dataset_name)\n",
    "test_dataset =test_datasets['validation']\n",
    "\n",
    "# 240 public questions + 360 private questions = 600 total questions\n",
    "test_dataset"
   ]
  },
  {
   "cell_type": "code",
   "execution_count": 37,
   "metadata": {},
   "outputs": [
    {
     "data": {
      "text/plain": [
       "{'question': \"유령'은 어느 행성에서 지구로 왔는가?\", 'id': 'mrc-1-000653'}"
      ]
     },
     "execution_count": 37,
     "metadata": {},
     "output_type": "execute_result"
    }
   ],
   "source": [
    "test_dataset[0]"
   ]
  },
  {
   "cell_type": "code",
   "execution_count": null,
   "metadata": {},
   "outputs": [],
   "source": []
  }
 ],
 "metadata": {
  "interpreter": {
   "hash": "d4d1e4263499bec80672ea0156c357c1ee493ec2b1c70f0acce89fc37c4a6abe"
  },
  "kernelspec": {
   "display_name": "Python 3.8.5 64-bit ('base': conda)",
   "name": "python3"
  },
  "language_info": {
   "codemirror_mode": {
    "name": "ipython",
    "version": 3
   },
   "file_extension": ".py",
   "mimetype": "text/x-python",
   "name": "python",
   "nbconvert_exporter": "python",
   "pygments_lexer": "ipython3",
   "version": "3.8.5"
  },
  "orig_nbformat": 4
 },
 "nbformat": 4,
 "nbformat_minor": 2
}
