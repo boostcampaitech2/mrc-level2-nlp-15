{
 "cells": [
  {
   "cell_type": "code",
   "execution_count": 36,
   "metadata": {},
   "outputs": [],
   "source": [
    "# https://stackoverflow.com/questions/2352181/how-to-use-a-dot-to-access-members-of-dictionary\n",
    "class dotdict(dict):\n",
    "    \"\"\"dot.notation access to dictionary attributes, as dict.key_name, not as dict[\"key_name\"] \"\"\"\n",
    "    __getattr__ = dict.get\n",
    "    __setattr__ = dict.__setitem__\n",
    "    __delattr__ = dict.__delitem__\n"
   ]
  },
  {
   "cell_type": "code",
   "execution_count": 37,
   "metadata": {},
   "outputs": [],
   "source": [
    "import yaml\n",
    "\n",
    "# Read config.yaml file\n",
    "with open(\"config.yaml\") as infile:\n",
    "    SAVED_CFG = yaml.load(infile, Loader=yaml.FullLoader)\n",
    "    SAVED_CFG = dotdict(SAVED_CFG)\n",
    "\n",
    "# arguments setting\n",
    "data_args = dotdict(SAVED_CFG.data)\n",
    "model_args = dotdict(SAVED_CFG.custom_model)\n"
   ]
  },
  {
   "cell_type": "code",
   "execution_count": 38,
   "metadata": {},
   "outputs": [
    {
     "data": {
      "text/plain": [
       "Dataset({\n",
       "    features: ['id', 'question'],\n",
       "    num_rows: 600\n",
       "})"
      ]
     },
     "execution_count": 38,
     "metadata": {},
     "output_type": "execute_result"
    }
   ],
   "source": [
    "from datasets import load_from_disk\n",
    "\n",
    "questions = load_from_disk(data_args.test_dataset_name)\n",
    "question_dataset =questions['validation']\n",
    "\n",
    "# 240 public questions + 360 private questions = 600 total questions\n",
    "question_dataset"
   ]
  },
  {
   "cell_type": "code",
   "execution_count": 39,
   "metadata": {},
   "outputs": [
    {
     "name": "stdout",
     "output_type": "stream",
     "text": [
      "600\n",
      "{'question': \"유령'은 어느 행성에서 지구로 왔는가?\", 'id': 'mrc-1-000653'}\n"
     ]
    },
    {
     "data": {
      "text/plain": [
       "\"유령'은 어느 행성에서 지구로 왔는가?\""
      ]
     },
     "execution_count": 39,
     "metadata": {},
     "output_type": "execute_result"
    }
   ],
   "source": [
    "print(len(question_dataset))\n",
    "print(question_dataset[0])\n",
    "question_dataset[0][\"question\"]"
   ]
  },
  {
   "cell_type": "code",
   "execution_count": 41,
   "metadata": {},
   "outputs": [
    {
     "name": "stdout",
     "output_type": "stream",
     "text": [
      "(60613, 8)\n"
     ]
    },
    {
     "data": {
      "text/html": [
       "<div>\n",
       "<style scoped>\n",
       "    .dataframe tbody tr th:only-of-type {\n",
       "        vertical-align: middle;\n",
       "    }\n",
       "\n",
       "    .dataframe tbody tr th {\n",
       "        vertical-align: top;\n",
       "    }\n",
       "\n",
       "    .dataframe thead th {\n",
       "        text-align: right;\n",
       "    }\n",
       "</style>\n",
       "<table border=\"1\" class=\"dataframe\">\n",
       "  <thead>\n",
       "    <tr style=\"text-align: right;\">\n",
       "      <th></th>\n",
       "      <th>text</th>\n",
       "      <th>corpus_source</th>\n",
       "      <th>url</th>\n",
       "      <th>domain</th>\n",
       "      <th>title</th>\n",
       "      <th>author</th>\n",
       "      <th>html</th>\n",
       "      <th>document_id</th>\n",
       "    </tr>\n",
       "  </thead>\n",
       "  <tbody>\n",
       "    <tr>\n",
       "      <th>0</th>\n",
       "      <td>이 문서는 나라 목록이며, 전 세계 206개 나라의 각 현황과 주권 승인 정보를 개...</td>\n",
       "      <td>위키피디아</td>\n",
       "      <td>TODO</td>\n",
       "      <td>None</td>\n",
       "      <td>나라 목록</td>\n",
       "      <td>None</td>\n",
       "      <td>None</td>\n",
       "      <td>0</td>\n",
       "    </tr>\n",
       "    <tr>\n",
       "      <th>1</th>\n",
       "      <td>이 목록에 실린 국가 기준은 1933년 몬테비데오 협약 1장을 참고로 하였다. 협정...</td>\n",
       "      <td>위키피디아</td>\n",
       "      <td>TODO</td>\n",
       "      <td>None</td>\n",
       "      <td>나라 목록</td>\n",
       "      <td>None</td>\n",
       "      <td>None</td>\n",
       "      <td>1</td>\n",
       "    </tr>\n",
       "  </tbody>\n",
       "</table>\n",
       "</div>"
      ],
      "text/plain": [
       "                                                text corpus_source   url  \\\n",
       "0  이 문서는 나라 목록이며, 전 세계 206개 나라의 각 현황과 주권 승인 정보를 개...         위키피디아  TODO   \n",
       "1  이 목록에 실린 국가 기준은 1933년 몬테비데오 협약 1장을 참고로 하였다. 협정...         위키피디아  TODO   \n",
       "\n",
       "  domain  title author  html document_id  \n",
       "0   None  나라 목록   None  None           0  \n",
       "1   None  나라 목록   None  None           1  "
      ]
     },
     "execution_count": 41,
     "metadata": {},
     "output_type": "execute_result"
    }
   ],
   "source": [
    "import json\n",
    "import pandas as pd\n",
    "# load test dataset as dataframe\n",
    "with open(\"/opt/ml/data/wikipedia_documents.json\", \"r\", encoding=\"utf-8\") as reader:\n",
    "    input_data = json.load(reader)\n",
    "test_df = pd.DataFrame(input_data).T\n",
    "print(test_df.shape)\n",
    "test_df.head(2)"
   ]
  },
  {
   "cell_type": "code",
   "execution_count": 18,
   "metadata": {},
   "outputs": [
    {
     "data": {
      "text/plain": [
       "{'text': '이 문서는 나라 목록이며, 전 세계 206개 나라의 각 현황과 주권 승인 정보를 개요 형태로 나열하고 있다.\\n\\n이 목록은 명료화를 위해 두 부분으로 나뉘어 있다.\\n\\n# 첫 번째 부분은 바티칸 시국과 팔레스타인을 포함하여 유엔 등 국제 기구에 가입되어 국제적인 승인을 널리 받았다고 여기는 195개 나라를 나열하고 있다.\\n# 두 번째 부분은 일부 지역의 주권을 사실상 (데 팍토) 행사하고 있지만, 아직 국제적인 승인을 널리 받지 않았다고 여기는 11개 나라를 나열하고 있다.\\n\\n두 목록은 모두 가나다 순이다.\\n\\n일부 국가의 경우 국가로서의 자격에 논쟁의 여부가 있으며, 이 때문에 이러한 목록을 엮는 것은 매우 어렵고 논란이 생길 수 있는 과정이다. 이 목록을 구성하고 있는 국가를 선정하는 기준에 대한 정보는 \"포함 기준\" 단락을 통해 설명하였다. 나라에 대한 일반적인 정보는 \"국가\" 문서에서 설명하고 있다.',\n",
       " 'corpus_source': '위키피디아',\n",
       " 'url': 'TODO',\n",
       " 'domain': None,\n",
       " 'title': '나라 목록',\n",
       " 'author': None,\n",
       " 'html': None,\n",
       " 'document_id': 0}"
      ]
     },
     "execution_count": 18,
     "metadata": {},
     "output_type": "execute_result"
    }
   ],
   "source": [
    "test_json = test_df.to_dict(orient=\"records\")\n",
    "test_json[0]"
   ]
  },
  {
   "cell_type": "code",
   "execution_count": 8,
   "metadata": {},
   "outputs": [],
   "source": [
    "from elasticsearch import Elasticsearch\n",
    "import pprint  \n",
    "INDEX_NAME = \"toy_index\"\n",
    "\n",
    "INDEX_SETTINGS = {\n",
    "  \"settings\" : {\n",
    "    \"index\":{\n",
    "      \"analysis\":{\n",
    "        \"analyzer\":{\n",
    "          \"korean\":{\n",
    "            \"type\":\"custom\",\n",
    "            \"tokenizer\":\"nori_tokenizer\",\n",
    "            \"filter\": [ \"shingle\" ],\n",
    "\n",
    "          }\n",
    "        }\n",
    "      }\n",
    "    }\n",
    "  },\n",
    "  \"mappings\": {\n",
    "\n",
    "      \"properties\" : {\n",
    "        \"content\" : {\n",
    "          \"type\" : \"text\",\n",
    "          \"analyzer\": \"korean\",\n",
    "          \"search_analyzer\": \"korean\"\n",
    "        },\n",
    "        \"title\" : {\n",
    "          \"type\" : \"text\",\n",
    "          \"analyzer\": \"korean\",\n",
    "          \"search_analyzer\": \"korean\"\n",
    "        }\n",
    "      }\n",
    "\n",
    "  }\n",
    "}\n"
   ]
  },
  {
   "cell_type": "code",
   "execution_count": 9,
   "metadata": {},
   "outputs": [],
   "source": [
    "try:\n",
    "    es.transport.close()\n",
    "except:\n",
    "    pass\n",
    "es = Elasticsearch()"
   ]
  },
  {
   "cell_type": "code",
   "execution_count": 11,
   "metadata": {},
   "outputs": [
    {
     "name": "stderr",
     "output_type": "stream",
     "text": [
      "<ipython-input-11-b31c6028f9a8>:1: DeprecationWarning: Using positional arguments for APIs is deprecated and will be disabled in 8.0.0. Instead use only keyword arguments for all APIs. See https://github.com/elastic/elasticsearch-py/issues/1698 for more information\n",
      "  if es.indices.exists(INDEX_NAME):\n",
      "<ipython-input-11-b31c6028f9a8>:3: DeprecationWarning: The 'body' parameter is deprecated for the 'create' API and will be removed in a future version. Instead use API parameters directly. See https://github.com/elastic/elasticsearch-py/issues/1698 for more information\n",
      "  es.indices.create(index=INDEX_NAME, body=INDEX_SETTINGS)\n"
     ]
    },
    {
     "data": {
      "text/plain": [
       "{'acknowledged': True, 'shards_acknowledged': True, 'index': 'toy_index'}"
      ]
     },
     "execution_count": 11,
     "metadata": {},
     "output_type": "execute_result"
    }
   ],
   "source": [
    "if es.indices.exists(INDEX_NAME):\n",
    "    es.indices.delete(index=INDEX_NAME)\n",
    "es.indices.create(index=INDEX_NAME, body=INDEX_SETTINGS)"
   ]
  },
  {
   "cell_type": "code",
   "execution_count": 34,
   "metadata": {},
   "outputs": [
    {
     "name": "stderr",
     "output_type": "stream",
     "text": [
      "0it [00:00, ?it/s]<ipython-input-34-331b441f56ed>:5: DeprecationWarning: The 'body' parameter is deprecated for the 'index' API and will be removed in a future version. Instead use the 'document' parameter. See https://github.com/elastic/elasticsearch-py/issues/1698 for more information\n",
      "  es.index(index=INDEX_NAME, id=doc_id, body=item)\n",
      "/opt/conda/lib/python3.8/site-packages/elasticsearch/connection/base.py:209: ElasticsearchWarning: Elasticsearch built-in security features are not enabled. Without authentication, your cluster could be accessible to anyone. See https://www.elastic.co/guide/en/elasticsearch/reference/7.15/security-minimal-setup.html to enable security.\n",
      "  warnings.warn(message, category=ElasticsearchWarning)\n",
      "477it [00:51,  9.50it/s]"
     ]
    },
    {
     "ename": "KeyboardInterrupt",
     "evalue": "",
     "output_type": "error",
     "traceback": [
      "\u001b[0;31m---------------------------------------------------------------------------\u001b[0m",
      "\u001b[0;31mKeyboardInterrupt\u001b[0m                         Traceback (most recent call last)",
      "\u001b[0;32m<ipython-input-34-331b441f56ed>\u001b[0m in \u001b[0;36m<module>\u001b[0;34m\u001b[0m\n\u001b[1;32m      4\u001b[0m \u001b[0;32mfor\u001b[0m \u001b[0mdoc_id\u001b[0m\u001b[0;34m,\u001b[0m \u001b[0mitem\u001b[0m \u001b[0;32min\u001b[0m \u001b[0mtqdm\u001b[0m\u001b[0;34m(\u001b[0m\u001b[0menumerate\u001b[0m\u001b[0;34m(\u001b[0m\u001b[0mtest_json\u001b[0m\u001b[0;34m)\u001b[0m\u001b[0;34m)\u001b[0m\u001b[0;34m:\u001b[0m\u001b[0;34m\u001b[0m\u001b[0;34m\u001b[0m\u001b[0m\n\u001b[1;32m      5\u001b[0m     \u001b[0mes\u001b[0m\u001b[0;34m.\u001b[0m\u001b[0mindex\u001b[0m\u001b[0;34m(\u001b[0m\u001b[0mindex\u001b[0m\u001b[0;34m=\u001b[0m\u001b[0mINDEX_NAME\u001b[0m\u001b[0;34m,\u001b[0m \u001b[0mid\u001b[0m\u001b[0;34m=\u001b[0m\u001b[0mdoc_id\u001b[0m\u001b[0;34m,\u001b[0m \u001b[0mbody\u001b[0m\u001b[0;34m=\u001b[0m\u001b[0mitem\u001b[0m\u001b[0;34m)\u001b[0m\u001b[0;34m\u001b[0m\u001b[0;34m\u001b[0m\u001b[0m\n\u001b[0;32m----> 6\u001b[0;31m     \u001b[0mtime\u001b[0m\u001b[0;34m.\u001b[0m\u001b[0msleep\u001b[0m\u001b[0;34m(\u001b[0m\u001b[0;36m0.1\u001b[0m\u001b[0;34m)\u001b[0m\u001b[0;34m\u001b[0m\u001b[0;34m\u001b[0m\u001b[0m\n\u001b[0m",
      "\u001b[0;31mKeyboardInterrupt\u001b[0m: "
     ]
    }
   ],
   "source": []
  },
  {
   "cell_type": "code",
   "execution_count": null,
   "metadata": {},
   "outputs": [
    {
     "name": "stdout",
     "output_type": "stream",
     "text": [
      "{'_id': '1',\n",
      " '_ignored': ['text.keyword'],\n",
      " '_index': 'toy_index',\n",
      " '_primary_term': 1,\n",
      " '_seq_no': 213,\n",
      " '_source': {'author': None,\n",
      "             'corpus_source': '위키피디아',\n",
      "             'document_id': 1,\n",
      "             'domain': None,\n",
      "             'html': None,\n",
      "             'text': '이 목록에 실린 국가 기준은 1933년 몬테비데오 협약 1장을 참고로 하였다. 협정에 따르면, 국가는 '\n",
      "                     '다음의 조건을 만족해야 한다.\\n'\n",
      "                     '* (a) 영속적인 국민\\n'\n",
      "                     '* (b) 일정한 영토\\n'\n",
      "                     '* (c) 정부\\n'\n",
      "                     '* (d) 타국과의 관계 참여 자격.\\n'\n",
      "                     '특히, 마지막 조건은 국제 공동체의 참여 용인을 내포하고 있기 때문에, 다른 나라의 승인이 매우 '\n",
      "                     '중요한 역할을 할 수 있다.  이 목록에 포함된 모든 국가는 보통 이 기준을 만족하는 것으로 보이는 '\n",
      "                     '자주적이고 독립적인 국가이다. 하지만 몬테비데오 협약 기준을 만족하는지의 여부는 많은 국가가 논쟁이 '\n",
      "                     '되고 있는 실정이다. 또한, 몬테비데오 협약 기준만이 국가 지위의 충분한 자격이든 아니든, 국제법의 '\n",
      "                     '견해 차이는 존재할 수 있다. 이 물음에 대한 다른 이론에 대한 고리는 아래에서 볼 수 있다.\\n'\n",
      "                     '\\n'\n",
      "                     '위 기준에 논거하여 이 목록은 다음 206개 국가를 포함하고 있다.\\n'\n",
      "                     '* 일반 국제 승인을 받은 195개 자주 국가.\\n'\n",
      "                     '** 유엔 가입 국가 193개\\n'\n",
      "                     '** 성좌의 명칭으로 유엔에서 국제 승인을 받은 국가: 바티칸 시국\\n'\n",
      "                     '** 팔레스타인지역에 위치하며 유엔 영구 옵서버 국가: 팔레스타인\\n'\n",
      "                     '* 유엔의 가입국이 아니며, 일반 국제 승인을 받지 않은 11개 자주 국가.\\n'\n",
      "                     '** 유엔 회원국으로부터 승인을 받은 8개 국가: 남오세티야, 니우에, 북키프로스 튀르크 공화국, '\n",
      "                     '사하라 아랍 민주 공화국, 압하지야, 중화민국, 코소보, 쿡 제도,\\n'\n",
      "                     '** 유엔 비회원국으로부터 승인을 받은 2개 국가: 아르차흐 공화국, 트란스니스트리아\\n'\n",
      "                     '** 어떤 나라에서도 승인 받지 않은 국가: 소말릴란드\\n'\n",
      "                     '\\n'\n",
      "                     '위 목록에 포함되지 않은 다음 국가는 몬테비데오 협약의 모든 조건을 만족하지 못하거나, 자주적이고 '\n",
      "                     '독립적임을 주장하지 않는 국가이다.\\n'\n",
      "                     '* 남극 대륙 전체는 정부와 영속 인구가 없다. 7개 국가가 남극 대륙 일부를 차지하고 있으며, 이중 '\n",
      "                     '5개 국가가 서로의 영유권을 인정하고 있다.  남극 조약에 따라서 규제되는 이 권리는 어떤 나라에서도 '\n",
      "                     '승인을 받지 않았다. \\n'\n",
      "                     '* EU 유럽 연합은 27개 가입 국가를 보유한 독특한 초국가 기구이다. 가입 국가는 입법권, '\n",
      "                     '행정권, 사법권 기준을 유럽 연합 위원회로 이양하며, 유럽 연합은 엄밀히 말해 일반적인 주권 국가 '\n",
      "                     '간주와 관계 없이 주권 국가로의 특징을 가지고 있다. 유럽 연합은 주권 국가를 주장하지 않으며, 다른 '\n",
      "                     '나라와의 관계에서 제한된 지위를 가지고 있다.\\n'\n",
      "                     '* 미국과 오스트레일리아, 기타 국가에서 주 (State)라고 칭하는 행정 구역은 주 (행정 구역)을 '\n",
      "                     '참고하라. 이러한 하부 국가 개념의 행정 구역은 일부를 제외하고는 다른 나라와 관계를 형성하지 '\n",
      "                     '않는다. 예를 들어서 독일 제국의 주는 해외 영사관을 가졌으며, 소비에트 연방의 한 부분이었던 '\n",
      "                     '우크라이나 소비에트 사회주의 공화국 (현재의 우크라이나)과 벨로루시 소비에트 사회주의 공화국 (현재의 '\n",
      "                     '벨라루스)는 유엔 가입국이었다. 무엇보다 중요한 것은, 이러한 주들은 자주적이고 독립적임을 주장하지 '\n",
      "                     '않는다는 것이다.\\n'\n",
      "                     '* 몰타 기사단 몰타 기사단은 \"총회에 유효 참관국 자격으로 참여할 수 있으며, 본부에서 영속적인 '\n",
      "                     '지위를 유지하는 기타 국가\" 분류에 속하는 유엔 참관 국가이다.  이 단체는 104개 국가와 쌍방 '\n",
      "                     '외교 관계를 맺고 있으나, 로마 내의 치외 법권 영역 이외에는 일정한 영토가 없다.  단체의 '\n",
      "                     '웹사이트에서는 \"항상 국가에게 국제법의 독립 주체로 인정 받는다.\"고 선언하고 있다.  기사단의 헌법 '\n",
      "                     '에서는 다음과 같이 설명하고 있다. \"기사단은 국제법의 주체이며, 주권 기능을 행사한다.\"  기사단은 '\n",
      "                     '자주 주권을 주장하고 있지만, 이름에서 볼 수 있듯이 주권 국가라고 주장하지는 않는다. 다른 '\n",
      "                     '대사관처럼 이탈리아는 이론상 기사단과 외교 관계를 파기할 수 있으며, 이탈리아 국민이 아닌 단원을 '\n",
      "                     '이탈리아 영토에서 강제로 추방할 수 있다. 기사단의 단원은 모두 다른 나라의 국민이기 때문에, 사실상 '\n",
      "                     '이들은 모두 자신의 국가에서 살고 있으며, 로마에서 기사단의 치외 법권 영역에 거주하는 단원은 오직 '\n",
      "                     '공식 직무에만 연관하여 활동한다. 따라서, 기사단은 영속적인 국민의 특성이 부족하다고 볼 수 있다.\\n'\n",
      "                     '* 마이크로네이션으로 여겨지는 국가는 자주적이고 독립적이라고 주장하고, 다른 나라와 외교 관계를 '\n",
      "                     '맺고자 시도하여도 포함하지 않았다. 마이크로네이션이 정말로 점유한 영토를 지배하는지, 마이크로네이션의 '\n",
      "                     \"'인구' 감소 빈도가 낮은 지의 여부는 논쟁이 되고 있다.\\n\"\n",
      "                     '* ISIS 등은 다른 나라들 못지 않은 영역을 두고 있으며 스스로를 \"나라\"라고 자처하지만, '\n",
      "                     \"국제법상 주권이 결여되어 있으며 국제법에 위배되는 테러리즘을 일삼아 '나라'로 간주되지도 않는다. \"\n",
      "                     '다만 준국가로 분류한다.',\n",
      "             'title': '나라 목록',\n",
      "             'url': 'TODO'},\n",
      " '_type': '_doc',\n",
      " '_version': 2,\n",
      " 'found': True}\n"
     ]
    }
   ],
   "source": [
    "doc = es.get(index=INDEX_NAME, id=1)\n",
    "pprint.pprint(doc)"
   ]
  },
  {
   "cell_type": "code",
   "execution_count": null,
   "metadata": {},
   "outputs": [],
   "source": [
    "tv = es.termvectors(index=INDEX_NAME, id=2,body={\"fields\" : [\"content\",\"title\"]})"
   ]
  },
  {
   "cell_type": "code",
   "execution_count": null,
   "metadata": {},
   "outputs": [
    {
     "name": "stdout",
     "output_type": "stream",
     "text": [
      "{'_id': '2',\n",
      " '_index': 'toy_index',\n",
      " '_type': '_doc',\n",
      " '_version': 2,\n",
      " 'found': True,\n",
      " 'term_vectors': {'title': {'field_statistics': {'doc_count': 312,\n",
      "                                                 'sum_doc_freq': 794,\n",
      "                                                 'sum_ttf': 794},\n",
      "                            'terms': {'백남준': {'term_freq': 1,\n",
      "                                              'tokens': [{'end_offset': 3,\n",
      "                                                          'position': 0,\n",
      "                                                          'start_offset': 0}]}}}},\n",
      " 'took': 14}\n"
     ]
    }
   ],
   "source": [
    "pprint.pprint(tv)"
   ]
  },
  {
   "cell_type": "code",
   "execution_count": null,
   "metadata": {},
   "outputs": [
    {
     "name": "stdout",
     "output_type": "stream",
     "text": [
      "{'_shards': {'failed': 0, 'skipped': 0, 'successful': 1, 'total': 1},\n",
      " 'hits': {'hits': [{'_id': '100',\n",
      "                    '_ignored': ['text.keyword'],\n",
      "                    '_index': 'toy_index',\n",
      "                    '_score': 4.098283,\n",
      "                    '_source': {'author': None,\n",
      "                                'corpus_source': '위키피디아',\n",
      "                                'document_id': 100,\n",
      "                                'domain': None,\n",
      "                                'html': None,\n",
      "                                'text': '블랙데이가 언제부터 어떻게 시작됐는지는 정확히 알 수 없다. '\n",
      "                                        '처음으로 언급된 것은 1990년대 신문 기사들로, 어느 신문은 '\n",
      "                                        '블랙데이에 대해 “애인이 없는 남녀 청소년들이 검은색 옷을 입고 '\n",
      "                                        '끼리끼리 몰려다니다 짜장면과 블랙 커피, 아메리카노등 검은색 계통의 '\n",
      "                                        '음식을 먹으며 서로 위로하는 날”로 해석하기도 했다\\n'\n",
      "                                        '이 때문에 한쪽에서는 청소년 사이에서 시작된 유행이 2000년대 '\n",
      "                                        '들어 2-30대로 퍼져나가게 된 것은 아니냐 하는 해석도 있다. \\n'\n",
      "                                        '\\n'\n",
      "                                        \"'블랙데이'라는 명칭은 화이트데이에서 유래되었다는 설이 유력하다. \"\n",
      "                                        '커플들의 기념일인 3월  14일 화이트데이와는 정 반대로, 한달 뒤 '\n",
      "                                        '솔로들의 날인 4월 14일을 화이트의 반대인 블랙으로 비튼 것이다 '\n",
      "                                        '한편 솔로의 우울함을 블랙으로 표현했다는 설도 있다\\n'\n",
      "                                        '\\n'\n",
      "                                        \"여느 '데이'와 마찬가지로, 빼빼로데이처럼 마케팅으로 탄생한 것이 \"\n",
      "                                        '아니냐는 비판이 있으나, 특정회사의 독점 상품이 아닌 일반적인 '\n",
      "                                        '짜장면이기 때문에 비판의 근거는 약한 편이다 실제로 '\n",
      "                                        '중국집(Chinese restaurant)들이 블랙데이 기념으로 '\n",
      "                                        '특별히 짜장면을 판촉하지도 않으며, 이날에 한해 매출이 크게 오르는 '\n",
      "                                        '것도 아니라고 한다',\n",
      "                                'title': '블랙데이',\n",
      "                                'url': 'TODO'},\n",
      "                    '_type': '_doc'},\n",
      "                   {'_id': '84',\n",
      "                    '_ignored': ['text.keyword'],\n",
      "                    '_index': 'toy_index',\n",
      "                    '_score': 3.93666,\n",
      "                    '_source': {'author': None,\n",
      "                                'corpus_source': '위키피디아',\n",
      "                                'document_id': 84,\n",
      "                                'domain': None,\n",
      "                                'html': None,\n",
      "                                'text': '4월(四月, April)은 그레고리력에서 한 해의 네 번째 달이며, '\n",
      "                                        '30일까지 있다. 대한민국에서는 4월이 과학의 달이다. 이 달과 그 '\n",
      "                                        '해의 12월은 항상 같은 요일로 끝난다. 또한, 이 달과 그 해의 '\n",
      "                                        '7월은 항상 같은 요일로 시작하며, 윤년인 경우 그 해의 1월과도 '\n",
      "                                        '같은 요일로 시작한다.\\n'\n",
      "                                        '\\n'\n",
      "                                        '400년동안 이 달은 수요일, 금요일, 일요일로 58번, 월요일, '\n",
      "                                        '화요일로 57번, 목요일, 토요일로 56번 시작한다.\\n'\n",
      "                                        '\\n'\n",
      "                                        '중국은 청명절, 일본은 쇼와의 날, 베트남은 훙왕 기일로 인해 '\n",
      "                                        '4월에는 반드시 공휴일이 있으나 대한민국에서 4월의 공휴일은 부처님 '\n",
      "                                        '오신 날이 4월 말인 경우를 제외하고는 2006년 이후로 없으나, '\n",
      "                                        '4년에 한 번씩 하는 총선의 선거일이 4월로 잡히기 때문에 4년에 '\n",
      "                                        '한 번씩 공휴일이 생긴다. 또한 식목일이 공휴일이던 2006년 '\n",
      "                                        '이전에도 식목일이 주말과 겹쳐 공휴일이 없는 경우도 '\n",
      "                                        '있었다.(대표적인 예로 1981년, 1987년, 1992년, '\n",
      "                                        '1998년 등) 반면 북한은 청명절과 태양절, 인민군 창건일 중 '\n",
      "                                        '어느 하나가 주말에 겹치더라도 반드시 공휴일이 있다.\\n'\n",
      "                                        '\\n'\n",
      "                                        '음력 2월과 음력 3월이 이 달에 있으며 4월에는 음력 2월 '\n",
      "                                        '15~16일, 3월 15~16일의 보름달을 관측할 수 있다.',\n",
      "                                'title': '4월',\n",
      "                                'url': 'TODO'},\n",
      "                    '_type': '_doc'},\n",
      "                   {'_id': '16',\n",
      "                    '_ignored': ['text.keyword'],\n",
      "                    '_index': 'toy_index',\n",
      "                    '_score': 3.7167926,\n",
      "                    '_source': {'author': None,\n",
      "                                'corpus_source': '위키피디아',\n",
      "                                'document_id': 16,\n",
      "                                'domain': None,\n",
      "                                'html': None,\n",
      "                                'text': '통계학은 관찰 및 조사로 얻을 수 있는 데이터로부터, 응용 수학의 '\n",
      "                                        '기법을 이용해 수치상의 성질, 규칙성 또는 불규칙성을 찾아낸다. '\n",
      "                                        '통계적 기법은, 실험 계획, 데이터의 요약이나 해석을 실시하는데 '\n",
      "                                        '있어서의 근거를 제공하는 학문이며, 폭넓은 분야에서 응용되어 '\n",
      "                                        '실생활에 적용되고 있다 통계학은 실증적인 뿌리를 가지고 있으며 '\n",
      "                                        '실질적 활용에 초점을 맞추고 있기 때문에, 흔히 순수수학과는 다소 '\n",
      "                                        '구분되는 응용수학의 일종으로 여겨진다. 통계학의 방법을 통해, '\n",
      "                                        '실제의 수치들을 왜곡하여 해석하는 것을 막고 연구를 바탕으로 '\n",
      "                                        '합리적인 의사결정을 할 수 있다.\\n'\n",
      "                                        '  \\n'\n",
      "                                        '통계학은 과학, 산업, 또는 사회의 문제에 적용되며 모집단을 '\n",
      "                                        '연구하는 과정이 우선시된다. 모집단은 \"한나라 안에 사는 모든 '\n",
      "                                        '사람\" 또는 \"크리스탈을 구성하는 모든 원자\"와 같이 일정한 특성을 '\n",
      "                                        '지닌 집단이면 어느 것이든 가능하다. 통계학자들은 '\n",
      "                                        '전체인구(인구조사를 하는 기업)에 대한 데이터를 편집한다. 이것은 '\n",
      "                                        '정부의 통계관련 법률요약집같은 조직화된 방법으로 수행될 수도 있다. '\n",
      "                                        '기술통계학은 모집단의 데이터를 요약하는데 사용된다. 도수 및 비율 '\n",
      "                                        '(경주 등) 범주 형 데이터를 설명하는 측면에서 더 유용할 동안 '\n",
      "                                        '수치 기술자는 연속적인 데이터 유형 (소득 등)에 대한 평균과 표준 '\n",
      "                                        '편차를 포함한다. 데이터 분석 방법 엄청난 자료가 연구되는 현대 '\n",
      "                                        '사회에서 경제지표연구, 마케팅, 여론조사, 농업, 생명과학, 의료의 '\n",
      "                                        '임상연구 등 다양한 분야에서 응용되고 있는 통계는 단연 우리 '\n",
      "                                        '사회에서 가장 필요하고 실용적인 학문이라고 할 수 있다.',\n",
      "                                'title': '통계학',\n",
      "                                'url': 'TODO'},\n",
      "                    '_type': '_doc'},\n",
      "                   {'_id': '67',\n",
      "                    '_ignored': ['text.keyword'],\n",
      "                    '_index': 'toy_index',\n",
      "                    '_score': 3.4591928,\n",
      "                    '_source': {'author': None,\n",
      "                                'corpus_source': '위키피디아',\n",
      "                                'document_id': 67,\n",
      "                                'domain': None,\n",
      "                                'html': None,\n",
      "                                'text': '자연에서는 자기 닮음으로 표현될 수 있는 유한한 구조물들이 자주 '\n",
      "                                        '발견된다.\\n'\n",
      "                                        '* 번개: 번개는 같은 길을 반복해서 계단을 이루듯이 방전한다. '\n",
      "                                        '습도,기압,온도 등 여러 조건에 의해 복잡하게 경로가 결정되기 '\n",
      "                                        '때문에, 일직선이 아니고 구불구불한 형태를 지닌다. 불규칙해 '\n",
      "                                        '보이지만, 전체적인 모습과 가지 하나하나가 비슷한 구조를 이루고 '\n",
      "                                        '있다. 즉, 자기닮음의 프랙탈 구조를 가지고 있다.\\n'\n",
      "                                        '* 강줄기: 강의 부분과 전체는 닮았다. 나일강의 모습과 한강의 '\n",
      "                                        '모습이 전체적으로 비슷하고, 어느 지역에서건 강의 모습은 비슷한 '\n",
      "                                        '형태를 지닌다. 지류와 전체적인 강줄기의 모습은 닮았다. 수많은 '\n",
      "                                        '비가 내리면서 산에 많은 분기점이 생긴다. 이 하나하나가 작은 강이 '\n",
      "                                        '되어 큰 줄기로 만났다가 작은 줄기로 뻗어나가는 행위를 반복한다.\\n'\n",
      "                                        '* 나무: 나무는 큰 가지가 나뉘면서 여러 가지가 생기고, 이 작은 '\n",
      "                                        '가지에 또 여러 작은 가지들이 갈라 진다. 나무는 저마다의 프랙탈 '\n",
      "                                        '차원을 가지고 있다. 이런 나무의 프랙탈 형태는 물과 영양분의 '\n",
      "                                        '운반을 전체에 고르게 보내는 역할을 한다.\\n'\n",
      "                                        '* 뇌의 표면: 뇌의 표면에는 여러 주름져 있다. 커다란 주름에 '\n",
      "                                        '다시 작은 주름들이 계속되어 나간다. 지적 능력의 향상을 위해 여러 '\n",
      "                                        '주름으로 최대한 공간을 만들어서 뇌세포를 배치시킨다. 이런 뇌의 '\n",
      "                                        '주름의 패턴은 여러 주름이 자기닮음의 형식으로 뻗어나간다는 점에서 '\n",
      "                                        '프랙탈의 형식을 띠고 있다.\\n'\n",
      "                                        '* 산호: 군체들이 응집을 통해 밖으로 성장하면서 바깥쪽으로 '\n",
      "                                        '자라나는 표면에 물질이 연속적으로 쌓인다. 나무뿌리와 비슷한 원리로 '\n",
      "                                        '프랙탈 차원을 가진다.\\n'\n",
      "                                        '* 구름: 매우 균일한 프랙탈로, 뭉게구름의 경우 대략 '\n",
      "                                        '1.35차원을 가진다. 무작위적으로 일어난 응결과정에서 생성된 '\n",
      "                                        '구름은 생성된 물방울들이 주위 물방울들을 끌어모으면서 프랙탈의 '\n",
      "                                        '형태를 띄게 된다.',\n",
      "                                'title': '프랙탈',\n",
      "                                'url': 'TODO'},\n",
      "                    '_type': '_doc'},\n",
      "                   {'_id': '174',\n",
      "                    '_ignored': ['text.keyword'],\n",
      "                    '_index': 'toy_index',\n",
      "                    '_score': 2.7838902,\n",
      "                    '_source': {'author': None,\n",
      "                                'corpus_source': '위키피디아',\n",
      "                                'document_id': 174,\n",
      "                                'domain': None,\n",
      "                                'html': None,\n",
      "                                'text': '이 소나타가 처음 알려지게 된 시기에는 베토벤이 어느 정자에서 첫 '\n",
      "                                        '악장을 즉흥적으로 만들었고 하여 \"정자 소나타\"라고도 불렸다.\\n'\n",
      "                                        '\\n'\n",
      "                                        '그러나 훗날 베토벤이 사망하고 5년 후인 1832년에 독일의 음악 '\n",
      "                                        '평론가이자 시인, 기자였던 렐슈타프는 이 음악이 그에게 연상 시키는 '\n",
      "                                        '것에 대한 논평을 써냈는데, 그것은 이 음악의 첫 악장에 관한 '\n",
      "                                        '것으로, \"몽롱한 분위기가 달빛이 비치는 스위스 루체른 호수의 '\n",
      "                                        '물결에 흔들리는 작은 배 같다\"라는 내용이었다. 이로부터 10여년이 '\n",
      "                                        '지난 후 독일과 영국의 출판물은 일반적으로 \"월광( , '\n",
      "                                        'Moonlight, Mondschein) 소나타\"라는 제목을 '\n",
      "                                        '채택했고, 19세기 후반에 이르러 소나타는 이 통칭으로 '\n",
      "                                        '유명해졌다.\\n'\n",
      "                                        '\\n'\n",
      "                                        '한편 작곡자의 제자였던 체르니도 렐슈타프의 언급에 앞서, \"야경, '\n",
      "                                        '저 멀리서 영혼의 슬픈 목소리가 들린다\"라고 말한 바 있다.\\n'\n",
      "                                        '\\n'\n",
      "                                        '또 다른 해석의 배경은 쉬프에 의해 제공되었다. 그는 모차르트의 돈 '\n",
      "                                        '조반니 중 슬픈 장면에서의 리듬적인 연관성을 보고 그것이 \"죽음의 '\n",
      "                                        '장면\" 또는 \"장례식 행진\"이라고 생각했다. 바렌보임도 이 논문을 '\n",
      "                                        '지지했다.  쉬프는 모차르트의 오페라 1막에서 죽어가는 코멘다토레의 '\n",
      "                                        '장면에 관하여 베토벤이 자신의 원고에 메모를 남겼다고 언급했지만, '\n",
      "                                        '베토벤은 1803-1804년 까지 그 메모를 남기지 않았다는 '\n",
      "                                        '점에서, 1800-1801년에 쓰여진 소나타, \"작품번호 '\n",
      "                                        '27-2\"과는 직접적인 관련이 없는 것으로 여겨졌다. \\n'\n",
      "                                        '\\n'\n",
      "                                        '이 작품은, \"월광 소나타\"라는 별칭과 함께 널리 알려지기 이전에도 '\n",
      "                                        '이미 사람들의 상상을 불러일으키며 큰  인기를 끌었던 작품이었고, '\n",
      "                                        '베토벤의 생전에도 그의 가장 인기있는 피아노 작품 중 하나였다. '\n",
      "                                        '너무도 유명해서 베토벤은 그의 학생인 카를 체르니에게 \"나는 확실히 '\n",
      "                                        '더 나은 것을 썼네\"라고 말했다. \\n'\n",
      "                                        '\\n'\n",
      "                                        '그것은 형식적인 자유와 감정적으로 결정된 표현 방식으로 낭만주의의 '\n",
      "                                        '중요한 선구자로 간주되었다. 그것의 표현 방식은 훗날 쇼팽의 '\n",
      "                                        '\"즉흥환상곡\"이나  폴크만의 \"피아노 삼중주 나단조, 작품번호 '\n",
      "                                        '5\"에서 채택되었다. 리스트는 극도로 까다롭다고 생각되는 이 작품에 '\n",
      "                                        '관해서 학생들이 연주하는 것을 허락하지 않았다고 보고했다.  '\n",
      "                                        '실로티는 리스트가 베히슈타인 그랜드 피아노로 소나타를 연주하면서 '\n",
      "                                        '너무나도 매혹되어 나중에 다른 연주가로부터 그 곡을 듣고 싶어하지 '\n",
      "                                        '않았다고 전했다.  쇼스타코비치는 그의 \"비올라와 피아노를 위한 '\n",
      "                                        '소나타, 작품번호 147\"의 마지막 악장을 위해, \"월광 '\n",
      "                                        '소나타\"로부터 모티브를 가져왔으며, 사망 직전에 베토벤에 대한 또 '\n",
      "                                        '다른 기념비를 세웠다.\\n'\n",
      "                                        '\\n'\n",
      "                                        '1800-1801년에 작곡된 피아노 소나타의 영향 아래에 있는 '\n",
      "                                        '역사는 음악 작품에만 국한되지 않는다. 그것은 또한 문학과 조형 '\n",
      "                                        '예술, 모두에서 영감의 원천이 되었다. 그것은 대개 느린 첫 악장에 '\n",
      "                                        '초점이 맞추어져 있으며, 수많은 예술 작품 재현의 시도 대상이었다.',\n",
      "                                'title': '피아노 소나타 14번 (베토벤)',\n",
      "                                'url': 'TODO'},\n",
      "                    '_type': '_doc'}],\n",
      "          'max_score': 4.098283,\n",
      "          'total': {'relation': 'eq', 'value': 5}},\n",
      " 'timed_out': False,\n",
      " 'took': 31}\n"
     ]
    },
    {
     "name": "stderr",
     "output_type": "stream",
     "text": [
      "/opt/conda/lib/python3.8/site-packages/elasticsearch/connection/base.py:209: ElasticsearchWarning: Elasticsearch built-in security features are not enabled. Without authentication, your cluster could be accessible to anyone. See https://www.elastic.co/guide/en/elasticsearch/reference/7.15/security-minimal-setup.html to enable security.\n",
      "  warnings.warn(message, category=ElasticsearchWarning)\n"
     ]
    }
   ],
   "source": [
    "query = test_dataset[0][\"question\"]\n",
    "res = es.search(index=INDEX_NAME, q=query, size=10)\n",
    "pprint.pprint(res)"
   ]
  },
  {
   "cell_type": "code",
   "execution_count": null,
   "metadata": {},
   "outputs": [
    {
     "name": "stdout",
     "output_type": "stream",
     "text": [
      "Doc ID: '100'  Score:  4.10\n",
      "Doc ID: '84'  Score:  3.94\n",
      "Doc ID: '16'  Score:  3.72\n",
      "Doc ID: '67'  Score:  3.46\n",
      "Doc ID: '174'  Score:  2.78\n"
     ]
    }
   ],
   "source": [
    "for hit in res['hits']['hits']:\n",
    "    print(\"Doc ID: %3r  Score: %5.2f\" % (hit['_id'], hit['_score']))\n"
   ]
  },
  {
   "cell_type": "code",
   "execution_count": null,
   "metadata": {},
   "outputs": [],
   "source": [
    "\n"
   ]
  }
 ],
 "metadata": {
  "interpreter": {
   "hash": "d4d1e4263499bec80672ea0156c357c1ee493ec2b1c70f0acce89fc37c4a6abe"
  },
  "kernelspec": {
   "display_name": "Python 3.8.5 64-bit ('base': conda)",
   "name": "python3"
  },
  "language_info": {
   "codemirror_mode": {
    "name": "ipython",
    "version": 3
   },
   "file_extension": ".py",
   "mimetype": "text/x-python",
   "name": "python",
   "nbconvert_exporter": "python",
   "pygments_lexer": "ipython3",
   "version": "3.8.5"
  },
  "orig_nbformat": 4
 },
 "nbformat": 4,
 "nbformat_minor": 2
}
