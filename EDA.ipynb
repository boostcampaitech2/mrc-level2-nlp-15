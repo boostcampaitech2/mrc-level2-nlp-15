{
 "cells": [
  {
   "cell_type": "code",
   "execution_count": 1,
   "id": "e73b441d-31d1-45db-a22c-2dce6639ab50",
   "metadata": {},
   "outputs": [],
   "source": [
    "import pandas as pd\n",
    "from datasets import load_from_disk\n",
    "from collections import Counter\n",
    "import matplotlib.pyplot as plt"
   ]
  },
  {
   "cell_type": "markdown",
   "id": "14b03602-fb7f-4d34-86cd-ca458fa0ef6c",
   "metadata": {
    "tags": []
   },
   "source": [
    "### Loading Dataset: Train, Val, Test ###"
   ]
  },
  {
   "cell_type": "code",
   "execution_count": 2,
   "metadata": {},
   "outputs": [],
   "source": [
    "# https://stackoverflow.com/questions/2352181/how-to-use-a-dot-to-access-members-of-dictionary\n",
    "class dotdict(dict):\n",
    "    \"\"\"dot.notation access to dictionary attributes, as dict.key_name, not as dict[\"key_name\"] \"\"\"\n",
    "    __getattr__ = dict.get\n",
    "    __setattr__ = dict.__setitem__\n",
    "    __delattr__ = dict.__delitem__\n"
   ]
  },
  {
   "cell_type": "code",
   "execution_count": 3,
   "id": "c664f8c0-9992-4583-b18f-0d8b2f7b8a44",
   "metadata": {},
   "outputs": [],
   "source": [
    "import yaml\n",
    "\n",
    "# Read config.yaml file\n",
    "with open(\"config.yaml\") as infile:\n",
    "    SAVED_CFG = yaml.load(infile, Loader=yaml.FullLoader)\n",
    "    SAVED_CFG = dotdict(SAVED_CFG)\n",
    "\n",
    "# arguments setting\n",
    "data_args = dotdict(SAVED_CFG.data)\n",
    "model_args = dotdict(SAVED_CFG.custom_model)\n",
    "\n",
    "dataset = load_from_disk(data_args.dataset_name)\n",
    "### Includes Train & Validation data ###"
   ]
  },
  {
   "cell_type": "code",
   "execution_count": 4,
   "id": "13291f94-d09b-454e-8faf-29dfe4e786c9",
   "metadata": {},
   "outputs": [
    {
     "data": {
      "text/plain": [
       "DatasetDict({\n",
       "    train: Dataset({\n",
       "        features: ['__index_level_0__', 'answers', 'context', 'document_id', 'id', 'question', 'title'],\n",
       "        num_rows: 3952\n",
       "    })\n",
       "    validation: Dataset({\n",
       "        features: ['__index_level_0__', 'answers', 'context', 'document_id', 'id', 'question', 'title'],\n",
       "        num_rows: 240\n",
       "    })\n",
       "})"
      ]
     },
     "execution_count": 4,
     "metadata": {},
     "output_type": "execute_result"
    }
   ],
   "source": [
    "dataset"
   ]
  },
  {
   "cell_type": "code",
   "execution_count": 5,
   "id": "254f11d7-7a58-4b9a-83f4-3d0950f8649e",
   "metadata": {},
   "outputs": [
    {
     "data": {
      "text/plain": [
       "{'title': '미국 상원',\n",
       " 'context': '미국 상의원 또는 미국 상원(United States Senate)은 양원제인 미국 의회의 상원이다.\\\\n\\\\n미국 부통령이 상원의장이 된다. 각 주당 2명의 상원의원이 선출되어 100명의 상원의원으로 구성되어 있다. 임기는 6년이며, 2년마다 50개주 중 1/3씩 상원의원을 새로 선출하여 연방에 보낸다.\\\\n\\\\n미국 상원은 미국 하원과는 다르게 미국 대통령을 수반으로 하는 미국 연방 행정부에 각종 동의를 하는 기관이다. 하원이 세금과 경제에 대한 권한, 대통령을 포함한 대다수의 공무원을 파면할 권한을 갖고 있는 국민을 대표하는 기관인 반면 상원은 미국의 주를 대표한다. 즉 캘리포니아주, 일리노이주 같이 주 정부와 주 의회를 대표하는 기관이다. 그로 인하여 군대의 파병, 관료의 임명에 대한 동의, 외국 조약에 대한 승인 등 신속을 요하는 권한은 모두 상원에게만 있다. 그리고 하원에 대한 견제 역할(하원의 법안을 거부할 권한 등)을 담당한다. 2년의 임기로 인하여 급진적일 수밖에 없는 하원은 지나치게 급진적인 법안을 만들기 쉽다. 대표적인 예로 건강보험 개혁 당시 하원이 미국 연방 행정부에게 퍼블릭 옵션(공공건강보험기관)의 조항이 있는 반면 상원의 경우 하원안이 지나치게 세금이 많이 든다는 이유로 퍼블릭 옵션 조항을 제외하고 비영리건강보험기관이나 보험회사가 담당하도록 한 것이다. 이 경우처럼 상원은 하원이나 내각책임제가 빠지기 쉬운 국가들의 국회처럼 걸핏하면 발생하는 의회의 비정상적인 사태를 방지하는 기관이다. 상원은 급박한 처리사항의 경우가 아니면 법안을 먼저 내는 경우가 드물고 하원이 만든 법안을 수정하여 다시 하원에 되돌려보낸다. 이러한 방식으로 단원제가 빠지기 쉬운 함정을 미리 방지하는 것이다.날짜=2017-02-05',\n",
       " 'question': '대통령을 포함한 미국의 행정부 견제권을 갖는 국가 기관은?',\n",
       " 'id': 'mrc-1-000067',\n",
       " 'answers': {'answer_start': [235], 'text': ['하원']},\n",
       " 'document_id': 18293,\n",
       " '__index_level_0__': 42}"
      ]
     },
     "execution_count": 5,
     "metadata": {},
     "output_type": "execute_result"
    }
   ],
   "source": [
    "dataset['train'][0]"
   ]
  },
  {
   "cell_type": "markdown",
   "id": "0c684e90-f6eb-4463-8471-752087599f25",
   "metadata": {},
   "source": [
    "#### Converting to Pandas Dataframe for convenient analysis"
   ]
  },
  {
   "cell_type": "code",
   "execution_count": 6,
   "metadata": {},
   "outputs": [],
   "source": [
    "import pandas as pd\n",
    "def pull_out_dictionary(df_input: pd.DataFrame):\n",
    "    \"\"\"pull out str `{}` values from the pandas dataframe and shape it as a new column\"\"\"\n",
    "\n",
    "    df = df_input.copy()\n",
    "\n",
    "    # assign subject_entity and object_entity column values type as dictionary\n",
    "    # df[\"answers\"] = df[\"answers\"].apply(lambda x: eval(x))\n",
    "    \n",
    "    df = df.assign(\n",
    "        # subject_entity\n",
    "        answer_start=lambda x: x[\"answers\"].apply(lambda x: x[\"answer_start\"]),\n",
    "        text=lambda x: x[\"answers\"].apply(lambda x: x[\"text\"]),\n",
    "    )\n",
    "\n",
    "    # drop subject_entity and object_entity column\n",
    "    df = df.drop([\"answers\"], axis=1)\n",
    "\n",
    "    return df\n"
   ]
  },
  {
   "cell_type": "code",
   "execution_count": 7,
   "id": "a02a0072-7f1b-4ee1-aed0-55fa9d9891fa",
   "metadata": {},
   "outputs": [],
   "source": [
    "### Converting to Pandas dataframe for convenient analysis ###\n",
    "train_df = pull_out_dictionary(pd.DataFrame.from_records(dataset['train']))\n",
    "val_df = pull_out_dictionary(pd.DataFrame.from_records(dataset['validation']))"
   ]
  },
  {
   "cell_type": "code",
   "execution_count": 8,
   "id": "025dd367-f0cf-458e-81c2-201e41b3468b",
   "metadata": {},
   "outputs": [
    {
     "data": {
      "text/html": [
       "<div>\n",
       "<style scoped>\n",
       "    .dataframe tbody tr th:only-of-type {\n",
       "        vertical-align: middle;\n",
       "    }\n",
       "\n",
       "    .dataframe tbody tr th {\n",
       "        vertical-align: top;\n",
       "    }\n",
       "\n",
       "    .dataframe thead th {\n",
       "        text-align: right;\n",
       "    }\n",
       "</style>\n",
       "<table border=\"1\" class=\"dataframe\">\n",
       "  <thead>\n",
       "    <tr style=\"text-align: right;\">\n",
       "      <th></th>\n",
       "      <th>title</th>\n",
       "      <th>context</th>\n",
       "      <th>question</th>\n",
       "      <th>id</th>\n",
       "      <th>document_id</th>\n",
       "      <th>__index_level_0__</th>\n",
       "      <th>answer_start</th>\n",
       "      <th>text</th>\n",
       "    </tr>\n",
       "  </thead>\n",
       "  <tbody>\n",
       "    <tr>\n",
       "      <th>0</th>\n",
       "      <td>미국 상원</td>\n",
       "      <td>미국 상의원 또는 미국 상원(United States Senate)은 양원제인 미국...</td>\n",
       "      <td>대통령을 포함한 미국의 행정부 견제권을 갖는 국가 기관은?</td>\n",
       "      <td>mrc-1-000067</td>\n",
       "      <td>18293</td>\n",
       "      <td>42</td>\n",
       "      <td>[235]</td>\n",
       "      <td>[하원]</td>\n",
       "    </tr>\n",
       "    <tr>\n",
       "      <th>1</th>\n",
       "      <td>인사조직관리</td>\n",
       "      <td>'근대적 경영학' 또는 '고전적 경영학'에서 현대적 경영학으로 전환되는 시기는 19...</td>\n",
       "      <td>현대적 인사조직관리의 시발점이 된 책은?</td>\n",
       "      <td>mrc-0-004397</td>\n",
       "      <td>51638</td>\n",
       "      <td>2873</td>\n",
       "      <td>[212]</td>\n",
       "      <td>[《경영의 실제》]</td>\n",
       "    </tr>\n",
       "  </tbody>\n",
       "</table>\n",
       "</div>"
      ],
      "text/plain": [
       "    title                                            context  \\\n",
       "0   미국 상원  미국 상의원 또는 미국 상원(United States Senate)은 양원제인 미국...   \n",
       "1  인사조직관리  '근대적 경영학' 또는 '고전적 경영학'에서 현대적 경영학으로 전환되는 시기는 19...   \n",
       "\n",
       "                           question            id  document_id  \\\n",
       "0  대통령을 포함한 미국의 행정부 견제권을 갖는 국가 기관은?  mrc-1-000067        18293   \n",
       "1            현대적 인사조직관리의 시발점이 된 책은?  mrc-0-004397        51638   \n",
       "\n",
       "   __index_level_0__ answer_start        text  \n",
       "0                 42        [235]        [하원]  \n",
       "1               2873        [212]  [《경영의 실제》]  "
      ]
     },
     "execution_count": 8,
     "metadata": {},
     "output_type": "execute_result"
    }
   ],
   "source": [
    "### Train DF ###\n",
    "train_df.head(2)"
   ]
  },
  {
   "cell_type": "code",
   "execution_count": 20,
   "id": "afba1c12-1573-4b73-a73b-f2f400361a90",
   "metadata": {},
   "outputs": [
    {
     "data": {
      "text/html": [
       "<div>\n",
       "<style scoped>\n",
       "    .dataframe tbody tr th:only-of-type {\n",
       "        vertical-align: middle;\n",
       "    }\n",
       "\n",
       "    .dataframe tbody tr th {\n",
       "        vertical-align: top;\n",
       "    }\n",
       "\n",
       "    .dataframe thead th {\n",
       "        text-align: right;\n",
       "    }\n",
       "</style>\n",
       "<table border=\"1\" class=\"dataframe\">\n",
       "  <thead>\n",
       "    <tr style=\"text-align: right;\">\n",
       "      <th></th>\n",
       "      <th>title</th>\n",
       "      <th>context</th>\n",
       "      <th>question</th>\n",
       "      <th>id</th>\n",
       "      <th>document_id</th>\n",
       "      <th>__index_level_0__</th>\n",
       "      <th>answer_start</th>\n",
       "      <th>text</th>\n",
       "    </tr>\n",
       "  </thead>\n",
       "  <tbody>\n",
       "    <tr>\n",
       "      <th>38</th>\n",
       "      <td>중화민국의 동성결혼</td>\n",
       "      <td>2017년 5월 현재 동반자 등록제를 실시 중인 중화민국의 자치정부는 11 곳으로 ...</td>\n",
       "      <td>동반자 등록제를 최초로 실시한 중국의 도시는?</td>\n",
       "      <td>mrc-0-004654</td>\n",
       "      <td>46522</td>\n",
       "      <td>3036</td>\n",
       "      <td>[212]</td>\n",
       "      <td>[가오슝 시]</td>\n",
       "    </tr>\n",
       "    <tr>\n",
       "      <th>8</th>\n",
       "      <td>노트르담 다리</td>\n",
       "      <td>예부터 노트르담 다리는 큰 다리(Grand-pont)라고 불리면서 센 강을 가로지르...</td>\n",
       "      <td>루이 14세의 왕비 마리아 테래사는 어느 나라 공주인가?</td>\n",
       "      <td>mrc-0-002875</td>\n",
       "      <td>13804</td>\n",
       "      <td>1890</td>\n",
       "      <td>[625]</td>\n",
       "      <td>[스페인]</td>\n",
       "    </tr>\n",
       "    <tr>\n",
       "      <th>171</th>\n",
       "      <td>폰토스의 에바그리오스</td>\n",
       "      <td>에바그리오스는 《수행론》에서 영적 수행을 실천하는 수도사를 괴롭히는 유혹과 어려움에...</td>\n",
       "      <td>수행에 대해 근본적으로 의문을 제기함으로써 영적 수행자의 수행 의지를 갉아먹는 것은...</td>\n",
       "      <td>mrc-0-005154</td>\n",
       "      <td>56462</td>\n",
       "      <td>3356</td>\n",
       "      <td>[502]</td>\n",
       "      <td>[아케디아]</td>\n",
       "    </tr>\n",
       "    <tr>\n",
       "      <th>88</th>\n",
       "      <td>소칙</td>\n",
       "      <td>조조가 죽고, 서평의 국연이 반란을 일으켜 호강교위(護羌校尉)를 자칭하였으나, 소칙...</td>\n",
       "      <td>무위의 오랑캐들의 횡포로 길이 끊긴 사실을 소칙에게 알린 사람의 관직은?</td>\n",
       "      <td>mrc-0-005270</td>\n",
       "      <td>35771</td>\n",
       "      <td>3432</td>\n",
       "      <td>[256]</td>\n",
       "      <td>[무위태수]</td>\n",
       "    </tr>\n",
       "    <tr>\n",
       "      <th>182</th>\n",
       "      <td>Good Boy (백지영의 노래)</td>\n",
       "      <td>2012년 5월 22일 시민운동 단체 남성연대는 굿보이의 음원유통금지 가처분 신청을...</td>\n",
       "      <td>굿보이'에 대한 비판글이 올라온 곳은?</td>\n",
       "      <td>mrc-0-003566</td>\n",
       "      <td>34956</td>\n",
       "      <td>2337</td>\n",
       "      <td>[58]</td>\n",
       "      <td>[남성연대 홈페이지]</td>\n",
       "    </tr>\n",
       "    <tr>\n",
       "      <th>86</th>\n",
       "      <td>아구스틴 쿠에바</td>\n",
       "      <td>라틴아메리카의 자본주의를 이야기할 때, 종속이론을 빼놓고는 이야기할 수 없을 것이다...</td>\n",
       "      <td>쿠에바가 생각하는 자본주의 체제는?</td>\n",
       "      <td>mrc-0-003118</td>\n",
       "      <td>26141</td>\n",
       "      <td>2051</td>\n",
       "      <td>[1222]</td>\n",
       "      <td>[그 자체가 계급 모순을 가지는 체제]</td>\n",
       "    </tr>\n",
       "    <tr>\n",
       "      <th>106</th>\n",
       "      <td>대우 브로엄</td>\n",
       "      <td>1991년 10월에 로얄 살롱과 슈퍼 살롱의 마이너 체인지 차종으로 출시되었다. 당...</td>\n",
       "      <td>로얄 살롱에 부착된 후면 번호판의 기존 위치는 어디인가?</td>\n",
       "      <td>mrc-1-001313</td>\n",
       "      <td>17480</td>\n",
       "      <td>857</td>\n",
       "      <td>[120]</td>\n",
       "      <td>[트렁크]</td>\n",
       "    </tr>\n",
       "    <tr>\n",
       "      <th>157</th>\n",
       "      <td>성 바실리 대성당</td>\n",
       "      <td>사람들은 1880년대와 1890년대에 걸쳐 성당을 적절히 보수하기 위해 노력을 기울...</td>\n",
       "      <td>성당의 서쪽과 남쪽 부분에 난방이 가능해진 시기는?</td>\n",
       "      <td>mrc-0-005046</td>\n",
       "      <td>24533</td>\n",
       "      <td>3281</td>\n",
       "      <td>[885]</td>\n",
       "      <td>[1913년]</td>\n",
       "    </tr>\n",
       "    <tr>\n",
       "      <th>236</th>\n",
       "      <td>티칼</td>\n",
       "      <td>현재 우리가 볼 수 있는 티칼의 모습은 펜실베이니아 대학교와 과테말라 정부의 협조 ...</td>\n",
       "      <td>공놀이 경기장 중 일부는 어디에 위치하고 있나?</td>\n",
       "      <td>mrc-0-002095</td>\n",
       "      <td>12190</td>\n",
       "      <td>1378</td>\n",
       "      <td>[343]</td>\n",
       "      <td>['일곱 개의 신전 광장']</td>\n",
       "    </tr>\n",
       "    <tr>\n",
       "      <th>127</th>\n",
       "      <td>악마는 프라다를 입는다 (영화)</td>\n",
       "      <td>《악마는 프라다를 입는다》(The Devil Wears Prada)는 2003년에 ...</td>\n",
       "      <td>《악마는 프라다를 입는다》은 어느 국가의 영화인가요?</td>\n",
       "      <td>mrc-0-004527</td>\n",
       "      <td>29022</td>\n",
       "      <td>2954</td>\n",
       "      <td>[84]</td>\n",
       "      <td>[미국]</td>\n",
       "    </tr>\n",
       "    <tr>\n",
       "      <th>189</th>\n",
       "      <td>태양권계면</td>\n",
       "      <td>태양권계면(Heliopause)은 천문학에서 태양의 태양풍을 성간매질이 멈추게 하는...</td>\n",
       "      <td>태양풍을 멈추게 하는 것과 말단 충격의 틈을 무엇이라 부르는가?</td>\n",
       "      <td>mrc-1-000714</td>\n",
       "      <td>7635</td>\n",
       "      <td>458</td>\n",
       "      <td>[609]</td>\n",
       "      <td>[헬리오시스]</td>\n",
       "    </tr>\n",
       "    <tr>\n",
       "      <th>29</th>\n",
       "      <td>유팽조</td>\n",
       "      <td>경제 2년(기원전 155년) 3월 갑인일, 다른 형제들과 함께 제후왕으로 봉해져, ...</td>\n",
       "      <td>조경숙왕의 아들인 요자의 친어머니는 누구인가?</td>\n",
       "      <td>mrc-0-002457</td>\n",
       "      <td>38494</td>\n",
       "      <td>1606</td>\n",
       "      <td>[726]</td>\n",
       "      <td>[요희]</td>\n",
       "    </tr>\n",
       "    <tr>\n",
       "      <th>61</th>\n",
       "      <td>교황 비오 11세</td>\n",
       "      <td>오랫동안 학문에 몸 담아왔던 그는 교회 내에서 급속도로 출세가도를 달리기 시작했다....</td>\n",
       "      <td>아킬레 라티가 추기경으로 추대된 해는?</td>\n",
       "      <td>mrc-1-000459</td>\n",
       "      <td>6778</td>\n",
       "      <td>297</td>\n",
       "      <td>[47]</td>\n",
       "      <td>[1932년]</td>\n",
       "    </tr>\n",
       "    <tr>\n",
       "      <th>95</th>\n",
       "      <td>용인대학교 감로탱화</td>\n",
       "      <td>죽은 자가 지옥에서 벗어나 극락왕생할 것을 빌기 위해 만든 감로탱화인데, 탱화란 천...</td>\n",
       "      <td>탱화는 어느 종교와 관련이 있는가?</td>\n",
       "      <td>mrc-1-001328</td>\n",
       "      <td>52755</td>\n",
       "      <td>866</td>\n",
       "      <td>[83]</td>\n",
       "      <td>[불교]</td>\n",
       "    </tr>\n",
       "    <tr>\n",
       "      <th>12</th>\n",
       "      <td>캐나디안 케이퍼</td>\n",
       "      <td>테일러 대사는 캐나다 외무 장관 맥도널드와 클라크 총리에 지원을 요청하고 그들은 미...</td>\n",
       "      <td>멘데스가 요원들을 구하기 위해 간 도시는 어디인가?</td>\n",
       "      <td>mrc-0-002485</td>\n",
       "      <td>33785</td>\n",
       "      <td>1625</td>\n",
       "      <td>[430]</td>\n",
       "      <td>[테헤란]</td>\n",
       "    </tr>\n",
       "    <tr>\n",
       "      <th>139</th>\n",
       "      <td>살로메 알렉산드라</td>\n",
       "      <td>남편의 유언에 따라 탄압받던 바리사이파와 화해하여 민중에게 영향력을 미치던 바리사이...</td>\n",
       "      <td>반바리사이파의 반발을 불러일으킨 원인은 누구의 사망이었나요?</td>\n",
       "      <td>mrc-0-002253</td>\n",
       "      <td>59761</td>\n",
       "      <td>1487</td>\n",
       "      <td>[369]</td>\n",
       "      <td>[디오게네스]</td>\n",
       "    </tr>\n",
       "    <tr>\n",
       "      <th>120</th>\n",
       "      <td>꺼삐딴 리</td>\n",
       "      <td>서울 시내에서 고급 병원을 운영하고 있는 이인국 박사는 자신의 병원에서 가난한 환자...</td>\n",
       "      <td>이인국 박사가 석방되는 결과를 가져온 병은?</td>\n",
       "      <td>mrc-1-000291</td>\n",
       "      <td>27427</td>\n",
       "      <td>189</td>\n",
       "      <td>[444]</td>\n",
       "      <td>[혹]</td>\n",
       "    </tr>\n",
       "    <tr>\n",
       "      <th>92</th>\n",
       "      <td>고려 태조</td>\n",
       "      <td>신라는 왕건에게 호의를 보였다. 왕건이 신라에서 반란을 일으키지 않았다는 점과 신라...</td>\n",
       "      <td>견훤에게 살해당한 인물과 함께 태조를 대접한 왕은?</td>\n",
       "      <td>mrc-0-000905</td>\n",
       "      <td>5173</td>\n",
       "      <td>603</td>\n",
       "      <td>[209]</td>\n",
       "      <td>[경순왕]</td>\n",
       "    </tr>\n",
       "    <tr>\n",
       "      <th>54</th>\n",
       "      <td>합천 성산리 느티나무</td>\n",
       "      <td>느티나무는 우리나라를 비롯하여 일본, 대만, 중국 등의 따뜻한 지방에 분포하고 있다...</td>\n",
       "      <td>합천에서 나루터 역할을 대신하고 있는 것은?</td>\n",
       "      <td>mrc-0-000547</td>\n",
       "      <td>53305</td>\n",
       "      <td>373</td>\n",
       "      <td>[534]</td>\n",
       "      <td>[황강다리]</td>\n",
       "    </tr>\n",
       "    <tr>\n",
       "      <th>173</th>\n",
       "      <td>네거티브 광고</td>\n",
       "      <td>네거티브 광고(Negative Marketing)는 금기시되는 소재를 활용하거나 사...</td>\n",
       "      <td>네거티브 광고를 할 때 기업은 법적인 문제 외에 또 무엇을 생각해야 하는가?</td>\n",
       "      <td>mrc-0-002513</td>\n",
       "      <td>11796</td>\n",
       "      <td>1639</td>\n",
       "      <td>[296]</td>\n",
       "      <td>[소비자들의 반응]</td>\n",
       "    </tr>\n",
       "  </tbody>\n",
       "</table>\n",
       "</div>"
      ],
      "text/plain": [
       "                  title                                            context  \\\n",
       "38           중화민국의 동성결혼  2017년 5월 현재 동반자 등록제를 실시 중인 중화민국의 자치정부는 11 곳으로 ...   \n",
       "8               노트르담 다리  예부터 노트르담 다리는 큰 다리(Grand-pont)라고 불리면서 센 강을 가로지르...   \n",
       "171         폰토스의 에바그리오스  에바그리오스는 《수행론》에서 영적 수행을 실천하는 수도사를 괴롭히는 유혹과 어려움에...   \n",
       "88                   소칙  조조가 죽고, 서평의 국연이 반란을 일으켜 호강교위(護羌校尉)를 자칭하였으나, 소칙...   \n",
       "182  Good Boy (백지영의 노래)  2012년 5월 22일 시민운동 단체 남성연대는 굿보이의 음원유통금지 가처분 신청을...   \n",
       "86             아구스틴 쿠에바  라틴아메리카의 자본주의를 이야기할 때, 종속이론을 빼놓고는 이야기할 수 없을 것이다...   \n",
       "106              대우 브로엄  1991년 10월에 로얄 살롱과 슈퍼 살롱의 마이너 체인지 차종으로 출시되었다. 당...   \n",
       "157           성 바실리 대성당  사람들은 1880년대와 1890년대에 걸쳐 성당을 적절히 보수하기 위해 노력을 기울...   \n",
       "236                  티칼  현재 우리가 볼 수 있는 티칼의 모습은 펜실베이니아 대학교와 과테말라 정부의 협조 ...   \n",
       "127   악마는 프라다를 입는다 (영화)  《악마는 프라다를 입는다》(The Devil Wears Prada)는 2003년에 ...   \n",
       "189               태양권계면  태양권계면(Heliopause)은 천문학에서 태양의 태양풍을 성간매질이 멈추게 하는...   \n",
       "29                  유팽조  경제 2년(기원전 155년) 3월 갑인일, 다른 형제들과 함께 제후왕으로 봉해져, ...   \n",
       "61            교황 비오 11세  오랫동안 학문에 몸 담아왔던 그는 교회 내에서 급속도로 출세가도를 달리기 시작했다....   \n",
       "95           용인대학교 감로탱화  죽은 자가 지옥에서 벗어나 극락왕생할 것을 빌기 위해 만든 감로탱화인데, 탱화란 천...   \n",
       "12             캐나디안 케이퍼  테일러 대사는 캐나다 외무 장관 맥도널드와 클라크 총리에 지원을 요청하고 그들은 미...   \n",
       "139           살로메 알렉산드라  남편의 유언에 따라 탄압받던 바리사이파와 화해하여 민중에게 영향력을 미치던 바리사이...   \n",
       "120               꺼삐딴 리  서울 시내에서 고급 병원을 운영하고 있는 이인국 박사는 자신의 병원에서 가난한 환자...   \n",
       "92                고려 태조  신라는 왕건에게 호의를 보였다. 왕건이 신라에서 반란을 일으키지 않았다는 점과 신라...   \n",
       "54          합천 성산리 느티나무  느티나무는 우리나라를 비롯하여 일본, 대만, 중국 등의 따뜻한 지방에 분포하고 있다...   \n",
       "173             네거티브 광고  네거티브 광고(Negative Marketing)는 금기시되는 소재를 활용하거나 사...   \n",
       "\n",
       "                                              question            id  \\\n",
       "38                           동반자 등록제를 최초로 실시한 중국의 도시는?  mrc-0-004654   \n",
       "8                      루이 14세의 왕비 마리아 테래사는 어느 나라 공주인가?  mrc-0-002875   \n",
       "171  수행에 대해 근본적으로 의문을 제기함으로써 영적 수행자의 수행 의지를 갉아먹는 것은...  mrc-0-005154   \n",
       "88            무위의 오랑캐들의 횡포로 길이 끊긴 사실을 소칙에게 알린 사람의 관직은?  mrc-0-005270   \n",
       "182                              굿보이'에 대한 비판글이 올라온 곳은?  mrc-0-003566   \n",
       "86                                 쿠에바가 생각하는 자본주의 체제는?  mrc-0-003118   \n",
       "106                    로얄 살롱에 부착된 후면 번호판의 기존 위치는 어디인가?  mrc-1-001313   \n",
       "157                       성당의 서쪽과 남쪽 부분에 난방이 가능해진 시기는?  mrc-0-005046   \n",
       "236                         공놀이 경기장 중 일부는 어디에 위치하고 있나?  mrc-0-002095   \n",
       "127                      《악마는 프라다를 입는다》은 어느 국가의 영화인가요?  mrc-0-004527   \n",
       "189                태양풍을 멈추게 하는 것과 말단 충격의 틈을 무엇이라 부르는가?  mrc-1-000714   \n",
       "29                           조경숙왕의 아들인 요자의 친어머니는 누구인가?  mrc-0-002457   \n",
       "61                               아킬레 라티가 추기경으로 추대된 해는?  mrc-1-000459   \n",
       "95                                 탱화는 어느 종교와 관련이 있는가?  mrc-1-001328   \n",
       "12                        멘데스가 요원들을 구하기 위해 간 도시는 어디인가?  mrc-0-002485   \n",
       "139                  반바리사이파의 반발을 불러일으킨 원인은 누구의 사망이었나요?  mrc-0-002253   \n",
       "120                           이인국 박사가 석방되는 결과를 가져온 병은?  mrc-1-000291   \n",
       "92                        견훤에게 살해당한 인물과 함께 태조를 대접한 왕은?  mrc-0-000905   \n",
       "54                            합천에서 나루터 역할을 대신하고 있는 것은?  mrc-0-000547   \n",
       "173         네거티브 광고를 할 때 기업은 법적인 문제 외에 또 무엇을 생각해야 하는가?  mrc-0-002513   \n",
       "\n",
       "     document_id  __index_level_0__ answer_start                   text  \n",
       "38         46522               3036        [212]                [가오슝 시]  \n",
       "8          13804               1890        [625]                  [스페인]  \n",
       "171        56462               3356        [502]                 [아케디아]  \n",
       "88         35771               3432        [256]                 [무위태수]  \n",
       "182        34956               2337         [58]            [남성연대 홈페이지]  \n",
       "86         26141               2051       [1222]  [그 자체가 계급 모순을 가지는 체제]  \n",
       "106        17480                857        [120]                  [트렁크]  \n",
       "157        24533               3281        [885]                [1913년]  \n",
       "236        12190               1378        [343]        ['일곱 개의 신전 광장']  \n",
       "127        29022               2954         [84]                   [미국]  \n",
       "189         7635                458        [609]                [헬리오시스]  \n",
       "29         38494               1606        [726]                   [요희]  \n",
       "61          6778                297         [47]                [1932년]  \n",
       "95         52755                866         [83]                   [불교]  \n",
       "12         33785               1625        [430]                  [테헤란]  \n",
       "139        59761               1487        [369]                [디오게네스]  \n",
       "120        27427                189        [444]                    [혹]  \n",
       "92          5173                603        [209]                  [경순왕]  \n",
       "54         53305                373        [534]                 [황강다리]  \n",
       "173        11796               1639        [296]             [소비자들의 반응]  "
      ]
     },
     "execution_count": 20,
     "metadata": {},
     "output_type": "execute_result"
    }
   ],
   "source": [
    "### VAL DF ###\n",
    "val_df.sample(20)"
   ]
  },
  {
   "cell_type": "code",
   "execution_count": 10,
   "id": "01661236-6c0a-424c-9e6d-c99f6ee4fc02",
   "metadata": {},
   "outputs": [
    {
     "data": {
      "text/html": [
       "<div>\n",
       "<style scoped>\n",
       "    .dataframe tbody tr th:only-of-type {\n",
       "        vertical-align: middle;\n",
       "    }\n",
       "\n",
       "    .dataframe tbody tr th {\n",
       "        vertical-align: top;\n",
       "    }\n",
       "\n",
       "    .dataframe thead th {\n",
       "        text-align: right;\n",
       "    }\n",
       "</style>\n",
       "<table border=\"1\" class=\"dataframe\">\n",
       "  <thead>\n",
       "    <tr style=\"text-align: right;\">\n",
       "      <th></th>\n",
       "      <th>text</th>\n",
       "      <th>corpus_source</th>\n",
       "      <th>url</th>\n",
       "      <th>domain</th>\n",
       "      <th>title</th>\n",
       "      <th>author</th>\n",
       "      <th>html</th>\n",
       "      <th>document_id</th>\n",
       "    </tr>\n",
       "  </thead>\n",
       "  <tbody>\n",
       "    <tr>\n",
       "      <th>0</th>\n",
       "      <td>이 문서는 나라 목록이며, 전 세계 206개 나라의 각 현황과 주권 승인 정보를 개...</td>\n",
       "      <td>위키피디아</td>\n",
       "      <td>TODO</td>\n",
       "      <td>None</td>\n",
       "      <td>나라 목록</td>\n",
       "      <td>None</td>\n",
       "      <td>None</td>\n",
       "      <td>0</td>\n",
       "    </tr>\n",
       "    <tr>\n",
       "      <th>1</th>\n",
       "      <td>이 목록에 실린 국가 기준은 1933년 몬테비데오 협약 1장을 참고로 하였다. 협정...</td>\n",
       "      <td>위키피디아</td>\n",
       "      <td>TODO</td>\n",
       "      <td>None</td>\n",
       "      <td>나라 목록</td>\n",
       "      <td>None</td>\n",
       "      <td>None</td>\n",
       "      <td>1</td>\n",
       "    </tr>\n",
       "  </tbody>\n",
       "</table>\n",
       "</div>"
      ],
      "text/plain": [
       "                                                text corpus_source   url  \\\n",
       "0  이 문서는 나라 목록이며, 전 세계 206개 나라의 각 현황과 주권 승인 정보를 개...         위키피디아  TODO   \n",
       "1  이 목록에 실린 국가 기준은 1933년 몬테비데오 협약 1장을 참고로 하였다. 협정...         위키피디아  TODO   \n",
       "\n",
       "  domain  title author  html document_id  \n",
       "0   None  나라 목록   None  None           0  \n",
       "1   None  나라 목록   None  None           1  "
      ]
     },
     "execution_count": 10,
     "metadata": {},
     "output_type": "execute_result"
    }
   ],
   "source": [
    "import pandas as pd\n",
    "import numpy as np\n",
    "import json\n",
    "\n",
    "### TEST DF ###\n",
    "with open(\"/opt/ml/data/wikipedia_documents.json\", \"r\", encoding=\"utf-8\") as reader:\n",
    "    input_data = json.load(reader)\n",
    "test_df = pd.DataFrame(input_data).T\n",
    "test_df.head(2)"
   ]
  },
  {
   "cell_type": "code",
   "execution_count": 11,
   "id": "8284a4bc-57a3-4774-a340-69d8cdff13e4",
   "metadata": {},
   "outputs": [
    {
     "name": "stdout",
     "output_type": "stream",
     "text": [
      "Train Data Size: 3952\n",
      "Validation Data Size: 240\n",
      "Test Data Size: 60613\n"
     ]
    }
   ],
   "source": [
    "print(f\"Train Data Size: {len(train_df)}\")\n",
    "print(f\"Validation Data Size: {len(val_df)}\")\n",
    "print(f\"Test Data Size: {len(test_df)}\")"
   ]
  },
  {
   "cell_type": "code",
   "execution_count": 12,
   "metadata": {},
   "outputs": [
    {
     "data": {
      "text/plain": [
       "1    True\n",
       "Name: answer_start, dtype: bool"
      ]
     },
     "execution_count": 12,
     "metadata": {},
     "output_type": "execute_result"
    }
   ],
   "source": [
    "# check if there is only one value at lists inside of the column\n",
    "train_df.answer_start.apply(lambda x: len(x)).value_counts() == len(train_df)"
   ]
  },
  {
   "cell_type": "code",
   "execution_count": 13,
   "metadata": {},
   "outputs": [
    {
     "data": {
      "text/plain": [
       "1    True\n",
       "Name: text, dtype: bool"
      ]
     },
     "execution_count": 13,
     "metadata": {},
     "output_type": "execute_result"
    }
   ],
   "source": [
    "train_df.text.apply(lambda x: len(x)).value_counts() == len(train_df)"
   ]
  },
  {
   "cell_type": "code",
   "execution_count": 15,
   "metadata": {},
   "outputs": [
    {
     "data": {
      "text/plain": [
       "1    True\n",
       "Name: answer_start, dtype: bool"
      ]
     },
     "execution_count": 15,
     "metadata": {},
     "output_type": "execute_result"
    }
   ],
   "source": [
    "# check if there is only one value at lists inside of the column\n",
    "val_df.answer_start.apply(lambda x: len(x)).value_counts() == len(val_df)"
   ]
  },
  {
   "cell_type": "code",
   "execution_count": 18,
   "metadata": {},
   "outputs": [
    {
     "data": {
      "text/plain": [
       "1    240\n",
       "Name: text, dtype: int64"
      ]
     },
     "execution_count": 18,
     "metadata": {},
     "output_type": "execute_result"
    }
   ],
   "source": [
    "val_df.text.apply(lambda x: len(x)).value_counts() == len(val_df)"
   ]
  },
  {
   "cell_type": "markdown",
   "id": "f94f1bae-be1f-4f84-b19a-dc253a72cf05",
   "metadata": {
    "tags": []
   },
   "source": [
    "#### Analysis for 'answers' column"
   ]
  },
  {
   "cell_type": "code",
   "execution_count": 11,
   "id": "a2c694e3-eb31-4e40-a4a6-eb53b5ff9296",
   "metadata": {},
   "outputs": [],
   "source": [
    "### Answer word count ###"
   ]
  },
  {
   "cell_type": "code",
   "execution_count": 12,
   "id": "9aaccdbe-7e9c-4209-a815-c58ed4ceb940",
   "metadata": {},
   "outputs": [],
   "source": [
    "### Extracting only the 'text' parts from answers column ###\n",
    "answer_texts = [train_df.iloc[i]['answers']['text'] for i in range(len(train_df))]"
   ]
  },
  {
   "cell_type": "code",
   "execution_count": 13,
   "id": "9b8fa05f-ea31-41aa-9a40-e51e7efbb998",
   "metadata": {},
   "outputs": [
    {
     "data": {
      "text/plain": [
       "[['하원'],\n",
       " ['《경영의 실제》'],\n",
       " ['백성'],\n",
       " ['중국'],\n",
       " ['4개'],\n",
       " ['드래곤'],\n",
       " ['형양태수 왕식'],\n",
       " ['이탈리아군'],\n",
       " ['큰아들 유'],\n",
       " ['왕대마을']]"
      ]
     },
     "execution_count": 13,
     "metadata": {},
     "output_type": "execute_result"
    }
   ],
   "source": [
    "answer_texts[:10]"
   ]
  },
  {
   "cell_type": "code",
   "execution_count": 14,
   "id": "fd8870c6-f1f8-4f4f-a5a4-197a56b8aac8",
   "metadata": {},
   "outputs": [],
   "source": [
    "### Checking the length of answer texts splitted with space ' ' ###\n",
    "answer_text_lengths = [len(i[0].split()) for i in answer_texts]"
   ]
  },
  {
   "cell_type": "code",
   "execution_count": 15,
   "id": "c6e3cae7-3b0d-4dc7-899c-21e5c44517d3",
   "metadata": {},
   "outputs": [
    {
     "data": {
      "text/plain": [
       "[1, 2, 1, 1, 1, 1, 2, 1, 2, 1, 1, 3, 3, 1, 1, 1, 1, 1, 1, 2]"
      ]
     },
     "execution_count": 15,
     "metadata": {},
     "output_type": "execute_result"
    }
   ],
   "source": [
    "answer_text_lengths[:20]"
   ]
  },
  {
   "cell_type": "code",
   "execution_count": 16,
   "id": "10f82fdf-e076-4aa8-9ec5-981a7a1812f0",
   "metadata": {},
   "outputs": [],
   "source": [
    "number_of_answers = [len(i) for i in answer_texts]"
   ]
  },
  {
   "cell_type": "code",
   "execution_count": 17,
   "id": "30a11c36-8c51-4222-9a11-01bb30e72b7a",
   "metadata": {},
   "outputs": [
    {
     "data": {
      "text/plain": [
       "Counter({1: 3952})"
      ]
     },
     "execution_count": 17,
     "metadata": {},
     "output_type": "execute_result"
    }
   ],
   "source": [
    "Counter(number_of_answers)"
   ]
  },
  {
   "cell_type": "code",
   "execution_count": 18,
   "id": "76b07ee7-8693-4ac4-ba34-d645cdcea09c",
   "metadata": {},
   "outputs": [],
   "source": [
    "word_counts = Counter(answer_text_lengths)"
   ]
  },
  {
   "cell_type": "code",
   "execution_count": 19,
   "id": "ad0e7d14-d58f-4720-9466-ef7006c86804",
   "metadata": {},
   "outputs": [
    {
     "data": {
      "text/plain": [
       "Counter({1: 2288,\n",
       "         2: 1065,\n",
       "         3: 349,\n",
       "         5: 52,\n",
       "         8: 7,\n",
       "         6: 39,\n",
       "         4: 120,\n",
       "         7: 18,\n",
       "         15: 1,\n",
       "         9: 4,\n",
       "         13: 1,\n",
       "         20: 1,\n",
       "         10: 3,\n",
       "         14: 2,\n",
       "         18: 1,\n",
       "         16: 1})"
      ]
     },
     "execution_count": 19,
     "metadata": {},
     "output_type": "execute_result"
    }
   ],
   "source": [
    "word_counts"
   ]
  },
  {
   "cell_type": "code",
   "execution_count": 20,
   "id": "cdb56578-0a5d-4dba-9979-cad0139480dc",
   "metadata": {},
   "outputs": [],
   "source": [
    "counts = sorted([key for key,value in word_counts.items()])\n",
    "freq = [word_counts[count] for count in counts]"
   ]
  },
  {
   "cell_type": "code",
   "execution_count": 21,
   "id": "17d7b7fb-976a-4836-ba22-0aaa41df7e60",
   "metadata": {},
   "outputs": [
    {
     "data": {
      "text/plain": [
       "[1, 2, 3, 4, 5, 6, 7, 8, 9, 10, 13, 14, 15, 16, 18, 20]"
      ]
     },
     "execution_count": 21,
     "metadata": {},
     "output_type": "execute_result"
    }
   ],
   "source": [
    "counts"
   ]
  },
  {
   "cell_type": "code",
   "execution_count": 22,
   "id": "b2ce6dc1-6811-4f0c-ad07-788fd2cc57ab",
   "metadata": {},
   "outputs": [
    {
     "data": {
      "image/png": "[encoded data removed]",
      "text/plain": [
       "<Figure size 432x288 with 1 Axes>"
      ]
     },
     "metadata": {
      "needs_background": "light"
     },
     "output_type": "display_data"
    }
   ],
   "source": [
    "plt.bar(counts, freq, align = 'center')\n",
    "plt.xlabel('Word Counts')\n",
    "plt.ylabel('Freq')\n",
    "plt.show()"
   ]
  },
  {
   "cell_type": "markdown",
   "metadata": {},
   "source": [
    "## Check with klue/roberta-large tokenizer"
   ]
  },
  {
   "cell_type": "code",
   "execution_count": 8,
   "metadata": {},
   "outputs": [
    {
     "data": {
      "text/plain": [
       "{'model_name_or_path': 'klue/roberta-large',\n",
       " 'save_steps': 100,\n",
       " 'num_train_epochs': 3,\n",
       " 'learning_rate': 5e-05,\n",
       " 'batch_size': 32,\n",
       " 'warmup_steps': 300,\n",
       " 'weight_decay': 0.01,\n",
       " 'validation': False}"
      ]
     },
     "execution_count": 8,
     "metadata": {},
     "output_type": "execute_result"
    }
   ],
   "source": [
    "import logging\n",
    "import os\n",
    "import sys\n",
    "\n",
    "from typing import List, Callable, NoReturn, NewType, Any\n",
    "import dataclasses\n",
    "from datasets import load_metric, load_from_disk, Dataset, DatasetDict\n",
    "\n",
    "from transformers import AutoConfig, AutoModelForQuestionAnswering, AutoTokenizer\n",
    "\n",
    "from transformers import (\n",
    "    DataCollatorWithPadding,\n",
    "    EvalPrediction,\n",
    "    HfArgumentParser,\n",
    "    TrainingArguments,\n",
    "    set_seed,\n",
    ")\n",
    "\n",
    "from tokenizers import Tokenizer\n",
    "from tokenizers.models import WordPiece\n",
    "\n",
    "from baseline.utils_qa import postprocess_qa_predictions, check_no_error\n",
    "from baseline.trainer_qa import QuestionAnsweringTrainer\n",
    "from baseline.retrieval import SparseRetrieval\n",
    "\n",
    "import yaml\n",
    "\n",
    "# Read config.yaml file\n",
    "with open(\"config.yaml\") as infile:\n",
    "    SAVED_CFG = yaml.load(infile, Loader=yaml.FullLoader)\n",
    "    SAVED_CFG = dotdict(SAVED_CFG)\n",
    "\n",
    "# arguments setting\n",
    "data_args = dotdict(SAVED_CFG.data)\n",
    "model_args = dotdict(SAVED_CFG.custom_model)\n",
    "model_args"
   ]
  },
  {
   "cell_type": "code",
   "execution_count": 9,
   "metadata": {},
   "outputs": [],
   "source": [
    "import torch\n",
    "from datasets import load_metric, load_from_disk, Dataset, DatasetDict, concatenate_datasets\n",
    "from torch.utils.data import (DataLoader, RandomSampler, TensorDataset)\n",
    "\n",
    "datasets = load_from_disk(data_args.dataset_name)\n",
    "train_dataset_from_huggingface = datasets['train']\n",
    "valid_dataset_from_huggingface = datasets['validation']"
   ]
  },
  {
   "cell_type": "code",
   "execution_count": 11,
   "metadata": {},
   "outputs": [
    {
     "name": "stdout",
     "output_type": "stream",
     "text": [
      "klue/roberta-large\n"
     ]
    }
   ],
   "source": [
    "from transformers import AutoModel, AutoTokenizer, AutoConfig, AutoModelForSequenceClassification, Trainer, TrainingArguments\n",
    "\n",
    "print(model_args.model_name_or_path)\n",
    "tokenizer = AutoTokenizer.from_pretrained(model_args.model_name_or_path, model_input_names = [\"input_ids\", \"attention_mask\"])\n",
    "config = AutoConfig.from_pretrained(model_args.model_name_or_path)"
   ]
  },
  {
   "cell_type": "code",
   "execution_count": 12,
   "id": "a6af70cd-c925-4050-92ef-2759258fa8a4",
   "metadata": {},
   "outputs": [
    {
     "name": "stdout",
     "output_type": "stream",
     "text": [
      "Tokenizing 3,952 examples...\n",
      "  Tokenized 0.\n",
      "  Tokenized 3,000.\n",
      "DONE.\n"
     ]
    }
   ],
   "source": [
    "import logging\n",
    "\n",
    "# By default, the tokenizer will spit out a warning whenever we tokenize a \n",
    "# sample which ends up being more than 512 tokens. We don't care about that for\n",
    "# now, though, and this cell will produce a lot of those warnings! So we'll \n",
    "# adjust the logging settings to suppress those warnings and keep the output\n",
    "# cell cleaner.\n",
    "logging.getLogger(\"transformers.tokenization_utils_base\").setLevel(logging.ERROR)\n",
    "\n",
    "# Record the length of each sequence (in terms of BERT tokens).\n",
    "lengths = []\n",
    "\n",
    "print('Tokenizing {:,} examples...'.format(len(train_dataset_from_huggingface)))\n",
    "\n",
    "# For each example...\n",
    "for (i, ex) in enumerate(train_dataset_from_huggingface):\n",
    "\n",
    "    # Report progress.\n",
    "    if ((i % 3000) == 0):\n",
    "        print('  Tokenized {:,}.'.format(i))\n",
    "\n",
    "    # `encode` will:\n",
    "    #   (1) Tokenize the sentence.\n",
    "    #   (2) Prepend the `[CLS]` token to the start.\n",
    "    #   (3) Append the `[SEP]` token to the end.\n",
    "    #   (4) Map tokens to their IDs.\n",
    "    input_ids = tokenizer.encode(ex['question'], \n",
    "                                 ex['context'],\n",
    "                                 add_special_tokens = True,\n",
    "                                 truncation=False,\n",
    "                                 )\n",
    "\n",
    "    # Record the non-truncated length.\n",
    "    lengths.append(len(input_ids))\n",
    "\n",
    "print('DONE.')"
   ]
  },
  {
   "cell_type": "code",
   "execution_count": 35,
   "metadata": {},
   "outputs": [
    {
     "name": "stdout",
     "output_type": "stream",
     "text": [
      "Min length: 256 tokens\n",
      "Max length: 1,190 tokens\n",
      "Median length: 462.0 tokens\n",
      "3Q length: 611.0 tokens\n"
     ]
    }
   ],
   "source": [
    "import numpy as np\n",
    "\n",
    "print('Min length: {:,} tokens'.format(min(lengths)))\n",
    "print('Max length: {:,} tokens'.format(max(lengths)))\n",
    "print('Median length: {:,} tokens'.format(np.median(lengths)))\n",
    "print('3Q length: {:,} tokens'.format(np.percentile(lengths, 75)))"
   ]
  },
  {
   "cell_type": "code",
   "execution_count": 36,
   "metadata": {},
   "outputs": [
    {
     "name": "stderr",
     "output_type": "stream",
     "text": [
      "/opt/conda/lib/python3.8/site-packages/seaborn/distributions.py:2619: FutureWarning: `distplot` is a deprecated function and will be removed in a future version. Please adapt your code to use either `displot` (a figure-level function with similar flexibility) or `histplot` (an axes-level function for histograms).\n",
      "  warnings.warn(msg, FutureWarning)\n"
     ]
    },
    {
     "data": {
      "image/png": "[encoded data removed]",
      "text/plain": [
       "<Figure size 720x360 with 1 Axes>"
      ]
     },
     "metadata": {},
     "output_type": "display_data"
    }
   ],
   "source": [
    "import matplotlib.pyplot as plt\n",
    "import seaborn as sns\n",
    "import numpy as np\n",
    "\n",
    "sns.set(style='darkgrid')\n",
    "\n",
    "# Increase the plot size and font size.\n",
    "sns.set(font_scale=1.5)\n",
    "plt.rcParams[\"figure.figsize\"] = (10,5)\n",
    "\n",
    "# Truncate any sequence lengths greater than 512.\n",
    "# trunc_lengths = [min(l, 512) for l in lengths]\n",
    "\n",
    "# Plot the distribution of truncated lengths.\n",
    "sns.distplot(lengths, kde=False, rug=False)\n",
    "\n",
    "# Alternatively, you might try using a log scale on the x-axis, but this is \n",
    "# tricky. See here for one approach:\n",
    "# https://stackoverflow.com/questions/47850202/plotting-a-histogram-on-a-log-scale-with-matplotlib?rq=1\n",
    "#plt.xscale('log')\n",
    "\n",
    "plt.title('Sequence Lengths with KLUE Tokenizer\\n(Truncated to 512)')\n",
    "plt.xlabel('Sequence Length')\n",
    "plt.ylabel('# of Samples')\n",
    "\n",
    "plt.show()"
   ]
  },
  {
   "cell_type": "code",
   "execution_count": 38,
   "metadata": {},
   "outputs": [
    {
     "name": "stdout",
     "output_type": "stream",
     "text": [
      "How many comments will be truncated?\n",
      "\n",
      "max_len = 128  -->    3,952 of   3,952  (100.0%)  will be truncated \n",
      "max_len = 256  -->    3,951 of   3,952  (100.0%)  will be truncated \n",
      "max_len = 300  -->    3,788 of   3,952  (95.9%)  will be truncated \n",
      "max_len = 384  -->    2,742 of   3,952  (69.4%)  will be truncated \n",
      "max_len = 512  -->    1,545 of   3,952  (39.1%)  will be truncated \n",
      "max_len = 612  -->      985 of   3,952  (24.9%)  will be truncated \n"
     ]
    }
   ],
   "source": [
    "import numpy as np\n",
    "\n",
    "# Cast the list to a numpy array so we can use some numpy features.\n",
    "lengths = np.asarray(lengths)\n",
    "\n",
    "# Get the total number of comments.\n",
    "num_comments = len(lengths)\n",
    "\n",
    "# Check the following lengths:\n",
    "max_lens = [128, 256, 300, 384, 512, 612]\n",
    "\n",
    "print('How many comments will be truncated?\\n')\n",
    "\n",
    "# For each choice...\n",
    "for max_len in max_lens:\n",
    "\n",
    "    # Calculate how many comments will be truncacted.\n",
    "    num_over = np.sum(lengths > max_len)\n",
    "\n",
    "    # And as a percentage.\n",
    "    prcnt_over = float(num_over) / float(num_comments)\n",
    "\n",
    "    print('max_len = {:}  -->  {:>7,} of {:>7,}  ({:>5.1%})  ' \\\n",
    "          'will be truncated '.format(\n",
    "              max_len, num_over, num_comments, prcnt_over\n",
    "          ))"
   ]
  },
  {
   "cell_type": "code",
   "execution_count": null,
   "metadata": {},
   "outputs": [],
   "source": []
  }
 ],
 "metadata": {
  "interpreter": {
   "hash": "d4d1e4263499bec80672ea0156c357c1ee493ec2b1c70f0acce89fc37c4a6abe"
  },
  "kernelspec": {
   "display_name": "Python 3.8.5 64-bit ('base': conda)",
   "name": "python3"
  },
  "language_info": {
   "codemirror_mode": {
    "name": "ipython",
    "version": 3
   },
   "file_extension": ".py",
   "mimetype": "text/x-python",
   "name": "python",
   "nbconvert_exporter": "python",
   "pygments_lexer": "ipython3",
   "version": "3.8.5"
  }
 },
 "nbformat": 4,
 "nbformat_minor": 5
}
