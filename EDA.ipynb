{
 "cells": [
  {
   "cell_type": "code",
   "execution_count": 1,
   "id": "e73b441d-31d1-45db-a22c-2dce6639ab50",
   "metadata": {},
   "outputs": [],
   "source": [
    "import pandas as pd"
   ]
  },
  {
   "cell_type": "code",
   "execution_count": 2,
   "id": "a013403a-993e-4a6e-a819-ac73922a3fb6",
   "metadata": {},
   "outputs": [],
   "source": [
    "from datasets import load_from_disk\n",
    "from collections import Counter\n",
    "import matplotlib.pyplot as plt"
   ]
  },
  {
   "cell_type": "markdown",
   "id": "14b03602-fb7f-4d34-86cd-ca458fa0ef6c",
   "metadata": {
    "tags": []
   },
   "source": [
    "### Loading Dataset: Train, Val, Test ###"
   ]
  },
  {
   "cell_type": "code",
   "execution_count": 3,
   "id": "c664f8c0-9992-4583-b18f-0d8b2f7b8a44",
   "metadata": {},
   "outputs": [],
   "source": [
    "dataset = load_from_disk(\"../data/train_dataset/\")\n",
    "### Includes Train & Validation data ###\n",
    "\n",
    "test_dataset = load_from_disk(\"../data/test_dataset/\")"
   ]
  },
  {
   "cell_type": "code",
   "execution_count": 4,
   "id": "13291f94-d09b-454e-8faf-29dfe4e786c9",
   "metadata": {},
   "outputs": [
    {
     "data": {
      "text/plain": [
       "DatasetDict({\n",
       "    train: Dataset({\n",
       "        features: ['__index_level_0__', 'answers', 'context', 'document_id', 'id', 'question', 'title'],\n",
       "        num_rows: 3952\n",
       "    })\n",
       "    validation: Dataset({\n",
       "        features: ['__index_level_0__', 'answers', 'context', 'document_id', 'id', 'question', 'title'],\n",
       "        num_rows: 240\n",
       "    })\n",
       "})"
      ]
     },
     "execution_count": 4,
     "metadata": {},
     "output_type": "execute_result"
    }
   ],
   "source": [
    "dataset"
   ]
  },
  {
   "cell_type": "code",
   "execution_count": 13,
   "metadata": {},
   "outputs": [
    {
     "data": {
      "text/plain": [
       "True"
      ]
     },
     "execution_count": 13,
     "metadata": {},
     "output_type": "execute_result"
    }
   ],
   "source": [
    "dataset[\"train\"].features == dataset_combined.features"
   ]
  },
  {
   "cell_type": "code",
   "execution_count": 10,
   "id": "254f11d7-7a58-4b9a-83f4-3d0950f8649e",
   "metadata": {},
   "outputs": [
    {
     "data": {
      "text/plain": [
       "Dataset({\n",
       "    features: ['title', 'context', 'question', 'id', 'answers', 'document_id', '__index_level_0__'],\n",
       "    num_rows: 4192\n",
       "})"
      ]
     },
     "execution_count": 10,
     "metadata": {},
     "output_type": "execute_result"
    }
   ],
   "source": [
    "from datasets import concatenate_datasets\n",
    "dataset_combined = concatenate_datasets([dataset[\"train\"], dataset[\"validation\"]])\n",
    "\n",
    "dataset_combined"
   ]
  },
  {
   "cell_type": "markdown",
   "id": "0c684e90-f6eb-4463-8471-752087599f25",
   "metadata": {},
   "source": [
    "#### Converting to Pandas Dataframe for convenient analysis"
   ]
  },
  {
   "cell_type": "code",
   "execution_count": 7,
   "id": "a02a0072-7f1b-4ee1-aed0-55fa9d9891fa",
   "metadata": {},
   "outputs": [],
   "source": [
    "### Converting to Pandas dataframe for convenient analysis ###\n",
    "train_df = pd.DataFrame.from_records(dataset['train'])\n",
    "val_df = pd.DataFrame.from_records(dataset['validation'])\n",
    "test_df = pd.DataFrame.from_records(test_dataset['validation'])"
   ]
  },
  {
   "cell_type": "code",
   "execution_count": 8,
   "id": "025dd367-f0cf-458e-81c2-201e41b3468b",
   "metadata": {},
   "outputs": [
    {
     "data": {
      "text/html": [
       "<div>\n",
       "<style scoped>\n",
       "    .dataframe tbody tr th:only-of-type {\n",
       "        vertical-align: middle;\n",
       "    }\n",
       "\n",
       "    .dataframe tbody tr th {\n",
       "        vertical-align: top;\n",
       "    }\n",
       "\n",
       "    .dataframe thead th {\n",
       "        text-align: right;\n",
       "    }\n",
       "</style>\n",
       "<table border=\"1\" class=\"dataframe\">\n",
       "  <thead>\n",
       "    <tr style=\"text-align: right;\">\n",
       "      <th></th>\n",
       "      <th>title</th>\n",
       "      <th>context</th>\n",
       "      <th>question</th>\n",
       "      <th>id</th>\n",
       "      <th>answers</th>\n",
       "      <th>document_id</th>\n",
       "      <th>__index_level_0__</th>\n",
       "    </tr>\n",
       "  </thead>\n",
       "  <tbody>\n",
       "    <tr>\n",
       "      <th>0</th>\n",
       "      <td>미국 상원</td>\n",
       "      <td>미국 상의원 또는 미국 상원(United States Senate)은 양원제인 미국...</td>\n",
       "      <td>대통령을 포함한 미국의 행정부 견제권을 갖는 국가 기관은?</td>\n",
       "      <td>mrc-1-000067</td>\n",
       "      <td>{'answer_start': [235], 'text': ['하원']}</td>\n",
       "      <td>18293</td>\n",
       "      <td>42</td>\n",
       "    </tr>\n",
       "    <tr>\n",
       "      <th>1</th>\n",
       "      <td>인사조직관리</td>\n",
       "      <td>'근대적 경영학' 또는 '고전적 경영학'에서 현대적 경영학으로 전환되는 시기는 19...</td>\n",
       "      <td>현대적 인사조직관리의 시발점이 된 책은?</td>\n",
       "      <td>mrc-0-004397</td>\n",
       "      <td>{'answer_start': [212], 'text': ['《경영의 실제》']}</td>\n",
       "      <td>51638</td>\n",
       "      <td>2873</td>\n",
       "    </tr>\n",
       "    <tr>\n",
       "      <th>2</th>\n",
       "      <td>강희제</td>\n",
       "      <td>강희제는 강화된 황권으로 거의 황제 중심의 독단적으로 나라를 이끌어 갔기에 자칫 전...</td>\n",
       "      <td>강희제가 1717년에 쓴 글은 누구를 위해 쓰여졌는가?</td>\n",
       "      <td>mrc-1-000362</td>\n",
       "      <td>{'answer_start': [510], 'text': ['백성']}</td>\n",
       "      <td>5028</td>\n",
       "      <td>230</td>\n",
       "    </tr>\n",
       "    <tr>\n",
       "      <th>3</th>\n",
       "      <td>금동삼존불감</td>\n",
       "      <td>불상을 모시기 위해 나무나 돌, 쇠 등을 깎아 일반적인 건축물보다 작은 규모로 만든...</td>\n",
       "      <td>11~12세기에 제작된 본존불은 보통 어떤 나라의 특징이 전파되었나요?</td>\n",
       "      <td>mrc-0-001510</td>\n",
       "      <td>{'answer_start': [625], 'text': ['중국']}</td>\n",
       "      <td>34146</td>\n",
       "      <td>992</td>\n",
       "    </tr>\n",
       "    <tr>\n",
       "      <th>4</th>\n",
       "      <td>계사명 사리구</td>\n",
       "      <td>동아대학교박물관에서 소장하고 있는 계사명 사리구는 총 4개의 용기로 구성된 조선후기...</td>\n",
       "      <td>명문이 적힌 유물을 구성하는 그릇의 총 개수는?</td>\n",
       "      <td>mrc-0-000823</td>\n",
       "      <td>{'answer_start': [30], 'text': ['4개']}</td>\n",
       "      <td>47334</td>\n",
       "      <td>548</td>\n",
       "    </tr>\n",
       "  </tbody>\n",
       "</table>\n",
       "</div>"
      ],
      "text/plain": [
       "     title                                            context  \\\n",
       "0    미국 상원  미국 상의원 또는 미국 상원(United States Senate)은 양원제인 미국...   \n",
       "1   인사조직관리  '근대적 경영학' 또는 '고전적 경영학'에서 현대적 경영학으로 전환되는 시기는 19...   \n",
       "2      강희제  강희제는 강화된 황권으로 거의 황제 중심의 독단적으로 나라를 이끌어 갔기에 자칫 전...   \n",
       "3   금동삼존불감  불상을 모시기 위해 나무나 돌, 쇠 등을 깎아 일반적인 건축물보다 작은 규모로 만든...   \n",
       "4  계사명 사리구  동아대학교박물관에서 소장하고 있는 계사명 사리구는 총 4개의 용기로 구성된 조선후기...   \n",
       "\n",
       "                                  question            id  \\\n",
       "0         대통령을 포함한 미국의 행정부 견제권을 갖는 국가 기관은?  mrc-1-000067   \n",
       "1                   현대적 인사조직관리의 시발점이 된 책은?  mrc-0-004397   \n",
       "2           강희제가 1717년에 쓴 글은 누구를 위해 쓰여졌는가?  mrc-1-000362   \n",
       "3  11~12세기에 제작된 본존불은 보통 어떤 나라의 특징이 전파되었나요?  mrc-0-001510   \n",
       "4               명문이 적힌 유물을 구성하는 그릇의 총 개수는?  mrc-0-000823   \n",
       "\n",
       "                                         answers  document_id  \\\n",
       "0        {'answer_start': [235], 'text': ['하원']}        18293   \n",
       "1  {'answer_start': [212], 'text': ['《경영의 실제》']}        51638   \n",
       "2        {'answer_start': [510], 'text': ['백성']}         5028   \n",
       "3        {'answer_start': [625], 'text': ['중국']}        34146   \n",
       "4         {'answer_start': [30], 'text': ['4개']}        47334   \n",
       "\n",
       "   __index_level_0__  \n",
       "0                 42  \n",
       "1               2873  \n",
       "2                230  \n",
       "3                992  \n",
       "4                548  "
      ]
     },
     "execution_count": 8,
     "metadata": {},
     "output_type": "execute_result"
    }
   ],
   "source": [
    "### Train DF ###\n",
    "train_df.head()"
   ]
  },
  {
   "cell_type": "code",
   "execution_count": 9,
   "id": "afba1c12-1573-4b73-a73b-f2f400361a90",
   "metadata": {},
   "outputs": [
    {
     "data": {
      "text/html": [
       "<div>\n",
       "<style scoped>\n",
       "    .dataframe tbody tr th:only-of-type {\n",
       "        vertical-align: middle;\n",
       "    }\n",
       "\n",
       "    .dataframe tbody tr th {\n",
       "        vertical-align: top;\n",
       "    }\n",
       "\n",
       "    .dataframe thead th {\n",
       "        text-align: right;\n",
       "    }\n",
       "</style>\n",
       "<table border=\"1\" class=\"dataframe\">\n",
       "  <thead>\n",
       "    <tr style=\"text-align: right;\">\n",
       "      <th></th>\n",
       "      <th>title</th>\n",
       "      <th>context</th>\n",
       "      <th>question</th>\n",
       "      <th>id</th>\n",
       "      <th>answers</th>\n",
       "      <th>document_id</th>\n",
       "      <th>__index_level_0__</th>\n",
       "    </tr>\n",
       "  </thead>\n",
       "  <tbody>\n",
       "    <tr>\n",
       "      <th>0</th>\n",
       "      <td>전효숙</td>\n",
       "      <td>순천여자고등학교 졸업, 1973년 이화여자대학교를 졸업하고 1975년 제17회 사법...</td>\n",
       "      <td>처음으로 부실 경영인에 대한 보상 선고를 받은 회사는?</td>\n",
       "      <td>mrc-0-003264</td>\n",
       "      <td>{'answer_start': [284], 'text': ['한보철강']}</td>\n",
       "      <td>9027</td>\n",
       "      <td>2146</td>\n",
       "    </tr>\n",
       "    <tr>\n",
       "      <th>1</th>\n",
       "      <td>스토우빌선</td>\n",
       "      <td>요크 카운티 동쪽에 처음으로 여객 열차 운행이 시작한 시점은 1868년 토론토 &amp; ...</td>\n",
       "      <td>스카버러 남쪽과 코보콘그 마을의 철도 노선이 처음 연장된 연도는?</td>\n",
       "      <td>mrc-0-004762</td>\n",
       "      <td>{'answer_start': [146], 'text': ['1871년']}</td>\n",
       "      <td>51765</td>\n",
       "      <td>3106</td>\n",
       "    </tr>\n",
       "    <tr>\n",
       "      <th>2</th>\n",
       "      <td>촐라</td>\n",
       "      <td>촐라 정부\\n 촐라의 정부 체제는 전제군주제였으며,2001 촐라의 군주는 절대적인 ...</td>\n",
       "      <td>촌락에서 운영 위원 후보자 이름을 쓰기위해 사용된 것은?</td>\n",
       "      <td>mrc-1-001810</td>\n",
       "      <td>{'answer_start': [517], 'text': ['나뭇잎']}</td>\n",
       "      <td>15694</td>\n",
       "      <td>1180</td>\n",
       "    </tr>\n",
       "    <tr>\n",
       "      <th>3</th>\n",
       "      <td>백조 기사</td>\n",
       "      <td>프랑스의 십자군 무훈시는 1099년 예루살렘 왕국의 통치자가 된 고드프루아 드 부용...</td>\n",
       "      <td>로타이르가 백조를 구하기 위해 사용한 것은?</td>\n",
       "      <td>mrc-1-000219</td>\n",
       "      <td>{'answer_start': [1109], 'text': ['금대야']}</td>\n",
       "      <td>59536</td>\n",
       "      <td>141</td>\n",
       "    </tr>\n",
       "    <tr>\n",
       "      <th>4</th>\n",
       "      <td>탈관료제화</td>\n",
       "      <td>탈관료제화는 현대사회에서 관료제 성격이 약화되는 현상이다. 현대사회에서 관료제는 약...</td>\n",
       "      <td>의견을 자유롭게 나누는 것은 조직 내 어떤 관계에서 가능한가?</td>\n",
       "      <td>mrc-1-000285</td>\n",
       "      <td>{'answer_start': [386], 'text': ['수평적 관계']}</td>\n",
       "      <td>32991</td>\n",
       "      <td>184</td>\n",
       "    </tr>\n",
       "  </tbody>\n",
       "</table>\n",
       "</div>"
      ],
      "text/plain": [
       "   title                                            context  \\\n",
       "0    전효숙  순천여자고등학교 졸업, 1973년 이화여자대학교를 졸업하고 1975년 제17회 사법...   \n",
       "1  스토우빌선  요크 카운티 동쪽에 처음으로 여객 열차 운행이 시작한 시점은 1868년 토론토 & ...   \n",
       "2     촐라  촐라 정부\\n 촐라의 정부 체제는 전제군주제였으며,2001 촐라의 군주는 절대적인 ...   \n",
       "3  백조 기사  프랑스의 십자군 무훈시는 1099년 예루살렘 왕국의 통치자가 된 고드프루아 드 부용...   \n",
       "4  탈관료제화  탈관료제화는 현대사회에서 관료제 성격이 약화되는 현상이다. 현대사회에서 관료제는 약...   \n",
       "\n",
       "                               question            id  \\\n",
       "0        처음으로 부실 경영인에 대한 보상 선고를 받은 회사는?  mrc-0-003264   \n",
       "1  스카버러 남쪽과 코보콘그 마을의 철도 노선이 처음 연장된 연도는?  mrc-0-004762   \n",
       "2       촌락에서 운영 위원 후보자 이름을 쓰기위해 사용된 것은?  mrc-1-001810   \n",
       "3              로타이르가 백조를 구하기 위해 사용한 것은?  mrc-1-000219   \n",
       "4    의견을 자유롭게 나누는 것은 조직 내 어떤 관계에서 가능한가?  mrc-1-000285   \n",
       "\n",
       "                                       answers  document_id  __index_level_0__  \n",
       "0    {'answer_start': [284], 'text': ['한보철강']}         9027               2146  \n",
       "1   {'answer_start': [146], 'text': ['1871년']}        51765               3106  \n",
       "2     {'answer_start': [517], 'text': ['나뭇잎']}        15694               1180  \n",
       "3    {'answer_start': [1109], 'text': ['금대야']}        59536                141  \n",
       "4  {'answer_start': [386], 'text': ['수평적 관계']}        32991                184  "
      ]
     },
     "execution_count": 9,
     "metadata": {},
     "output_type": "execute_result"
    }
   ],
   "source": [
    "### VAL DF ###\n",
    "val_df.head()"
   ]
  },
  {
   "cell_type": "code",
   "execution_count": 10,
   "id": "01661236-6c0a-424c-9e6d-c99f6ee4fc02",
   "metadata": {},
   "outputs": [
    {
     "data": {
      "text/html": [
       "<div>\n",
       "<style scoped>\n",
       "    .dataframe tbody tr th:only-of-type {\n",
       "        vertical-align: middle;\n",
       "    }\n",
       "\n",
       "    .dataframe tbody tr th {\n",
       "        vertical-align: top;\n",
       "    }\n",
       "\n",
       "    .dataframe thead th {\n",
       "        text-align: right;\n",
       "    }\n",
       "</style>\n",
       "<table border=\"1\" class=\"dataframe\">\n",
       "  <thead>\n",
       "    <tr style=\"text-align: right;\">\n",
       "      <th></th>\n",
       "      <th>question</th>\n",
       "      <th>id</th>\n",
       "    </tr>\n",
       "  </thead>\n",
       "  <tbody>\n",
       "    <tr>\n",
       "      <th>0</th>\n",
       "      <td>유령'은 어느 행성에서 지구로 왔는가?</td>\n",
       "      <td>mrc-1-000653</td>\n",
       "    </tr>\n",
       "    <tr>\n",
       "      <th>1</th>\n",
       "      <td>용병회사의 경기가 좋아진 것은 무엇이 끝난 이후부터인가?</td>\n",
       "      <td>mrc-1-001113</td>\n",
       "    </tr>\n",
       "    <tr>\n",
       "      <th>2</th>\n",
       "      <td>돌푸스에게 불특정 기간동안 하원이 잠시 쉬는 것을 건의 받았던 인물은?</td>\n",
       "      <td>mrc-0-002191</td>\n",
       "    </tr>\n",
       "    <tr>\n",
       "      <th>3</th>\n",
       "      <td>마오리언어와 영어, 뉴질랜드 수화를 공식 언어로 사용하는 나라는?</td>\n",
       "      <td>mrc-0-003951</td>\n",
       "    </tr>\n",
       "    <tr>\n",
       "      <th>4</th>\n",
       "      <td>디엔비엔푸 전투에서 보응우옌잡이 상대한 국가는?</td>\n",
       "      <td>mrc-1-001272</td>\n",
       "    </tr>\n",
       "  </tbody>\n",
       "</table>\n",
       "</div>"
      ],
      "text/plain": [
       "                                  question            id\n",
       "0                    유령'은 어느 행성에서 지구로 왔는가?  mrc-1-000653\n",
       "1          용병회사의 경기가 좋아진 것은 무엇이 끝난 이후부터인가?  mrc-1-001113\n",
       "2  돌푸스에게 불특정 기간동안 하원이 잠시 쉬는 것을 건의 받았던 인물은?  mrc-0-002191\n",
       "3     마오리언어와 영어, 뉴질랜드 수화를 공식 언어로 사용하는 나라는?  mrc-0-003951\n",
       "4               디엔비엔푸 전투에서 보응우옌잡이 상대한 국가는?  mrc-1-001272"
      ]
     },
     "execution_count": 10,
     "metadata": {},
     "output_type": "execute_result"
    }
   ],
   "source": [
    "### TEST DF ###\n",
    "test_df.head()"
   ]
  },
  {
   "cell_type": "code",
   "execution_count": 11,
   "id": "8284a4bc-57a3-4774-a340-69d8cdff13e4",
   "metadata": {},
   "outputs": [
    {
     "name": "stdout",
     "output_type": "stream",
     "text": [
      "Train Data Size: 3952\n",
      "Validation Data Size: 240\n",
      "Test Data Size: 600\n"
     ]
    }
   ],
   "source": [
    "print(f\"Train Data Size: {len(train_df)}\")\n",
    "print(f\"Validation Data Size: {len(val_df)}\")\n",
    "print(f\"Test Data Size: {len(test_df)}\")"
   ]
  },
  {
   "cell_type": "code",
   "execution_count": 12,
   "metadata": {},
   "outputs": [],
   "source": [
    "from transformers import AutoTokenizer, AutoModelForSequenceClassification\n",
    "tokenizer = AutoTokenizer.from_pretrained(\"klue/roberta-large\")"
   ]
  },
  {
   "cell_type": "code",
   "execution_count": 21,
   "metadata": {},
   "outputs": [],
   "source": [
    "train_context = train_df['context'].tolist()\n",
    "val_context = val_df['context'].tolist()"
   ]
  },
  {
   "cell_type": "code",
   "execution_count": 13,
   "metadata": {},
   "outputs": [
    {
     "data": {
      "text/plain": [
       "32000"
      ]
     },
     "execution_count": 13,
     "metadata": {},
     "output_type": "execute_result"
    }
   ],
   "source": [
    "tokenizer.vocab_size"
   ]
  },
  {
   "cell_type": "code",
   "execution_count": 22,
   "metadata": {},
   "outputs": [],
   "source": [
    "res = []\n",
    "\n",
    "for i in range(len(train_context)):\n",
    "    res.append(tokenizer(\n",
    "        train_context[i],\n",
    "        return_tensors=\"pt\",\n",
    "        add_special_tokens = True\n",
    "    ))\n",
    "\n",
    "encoded_train_contexts = []\n",
    "\n",
    "for i in range(len(res)):\n",
    "    s = [tokenizer.convert_ids_to_tokens(s) for s in res[i]['input_ids']]\n",
    "    encoded_train_contexts.append(s[0])"
   ]
  },
  {
   "cell_type": "code",
   "execution_count": 23,
   "metadata": {},
   "outputs": [],
   "source": [
    "val_res = []\n",
    "\n",
    "for i in range(len(val_context)):\n",
    "    val_res.append(tokenizer(\n",
    "        val_context[i],\n",
    "        return_tensors=\"pt\",\n",
    "        add_special_tokens = True\n",
    "    ))\n",
    "\n",
    "encoded_val_contexts = []\n",
    "\n",
    "for i in range(len(val_res)):\n",
    "    s = [tokenizer.convert_ids_to_tokens(s) for s in val_res[i]['input_ids']]\n",
    "    encoded_val_contexts.append(s[0])"
   ]
  },
  {
   "cell_type": "code",
   "execution_count": 44,
   "metadata": {},
   "outputs": [
    {
     "name": "stdout",
     "output_type": "stream",
     "text": [
      "train token length\n",
      "count :  3952\n",
      "mean of len :  497.30161943319837\n",
      "median of len:  444.0\n",
      "std of len :  193.77720291573794\n",
      "max of len :  1174\n",
      "min of len :  241\n",
      "1Q Length : 348.0\n",
      "2Q Length : 444.0\n",
      "3Q Length : 594.0\n",
      "number of items that are bigger than 512: 1417 out of 3952\n"
     ]
    }
   ],
   "source": [
    "import numpy as np\n",
    "encoded_train_contexts_len = []\n",
    "\n",
    "for encoded_sentence in encoded_train_contexts:\n",
    "    encoded_train_contexts_len.append(len(encoded_sentence))\n",
    "encoded_train_contexts_len = np.array(encoded_train_contexts_len)\n",
    "\n",
    "print(\"train token length\")\n",
    "print(\"count : \", len(encoded_train_contexts_len))\n",
    "print(\"mean of len : \", np.mean(encoded_train_contexts_len))\n",
    "print(\"median of len: \", np.median(encoded_train_contexts_len))\n",
    "print(\"std of len : \", np.std(encoded_train_contexts_len))\n",
    "print(\"max of len : \", np.max(encoded_train_contexts_len))\n",
    "print(\"min of len : \", np.min(encoded_train_contexts_len))\n",
    "print('1Q Length : {}'.format(np.percentile(encoded_train_contexts_len, 25)))\n",
    "print('2Q Length : {}'.format(np.percentile(encoded_train_contexts_len, 50)))\n",
    "print('3Q Length : {}'.format(np.percentile(encoded_train_contexts_len, 75)))\n",
    "\n",
    "max_sequence_length = 512\n",
    "print(f\"number of items that are bigger than {max_sequence_length}:\" , len(encoded_train_contexts_len[encoded_train_contexts_len > max_sequence_length]), \"out of\", len(encoded_train_contexts_len))"
   ]
  },
  {
   "cell_type": "code",
   "execution_count": null,
   "metadata": {},
   "outputs": [],
   "source": [
    "# take a look at elements that are longer than max_sequence_length\n",
    "for i in range(len(encoded_train_contexts_len)):\n",
    "    if encoded_train_contexts_len[i] > max_sequence_length:\n",
    "        # get index number of the item\n",
    "        print(res[i])"
   ]
  },
  {
   "cell_type": "code",
   "execution_count": 41,
   "metadata": {},
   "outputs": [
    {
     "data": {
      "text/plain": [
       "{'whiskers': [<matplotlib.lines.Line2D at 0x7f61104a6ac0>,\n",
       "  <matplotlib.lines.Line2D at 0x7f61104a6e50>],\n",
       " 'caps': [<matplotlib.lines.Line2D at 0x7f61104b1220>,\n",
       "  <matplotlib.lines.Line2D at 0x7f61104b15b0>],\n",
       " 'boxes': [<matplotlib.lines.Line2D at 0x7f61104a6700>],\n",
       " 'medians': [<matplotlib.lines.Line2D at 0x7f61104b1940>],\n",
       " 'fliers': [<matplotlib.lines.Line2D at 0x7f61104bf0a0>],\n",
       " 'means': [<matplotlib.lines.Line2D at 0x7f61104b1cd0>]}"
      ]
     },
     "execution_count": 41,
     "metadata": {},
     "output_type": "execute_result"
    },
    {
     "data": {
      "image/png": "[encoded data removed]",
      "text/plain": [
       "<Figure size 864x360 with 1 Axes>"
      ]
     },
     "metadata": {
      "needs_background": "light"
     },
     "output_type": "display_data"
    }
   ],
   "source": [
    "# ignore matplotlib warning\n",
    "plt.figure(figsize=(12,5))\n",
    "plt.boxplot([encoded_train_contexts_len],\n",
    "            labels = ['Word'],\n",
    "            showmeans=True)"
   ]
  },
  {
   "cell_type": "code",
   "execution_count": 45,
   "metadata": {},
   "outputs": [
    {
     "name": "stdout",
     "output_type": "stream",
     "text": [
      "valid token length\n",
      "count :  240\n",
      "mean of len :  496.3041666666667\n",
      "median of len:  435.5\n",
      "std of len :  197.22014767590443\n",
      "max of len :  1153\n",
      "min of len :  267\n",
      "1Q Length : 341.25\n",
      "2Q Length : 435.5\n",
      "3Q Length : 599.25\n",
      "number of items that are bigger than 512: 91 out of 240\n"
     ]
    }
   ],
   "source": [
    "import numpy as np\n",
    "encoded_val_contexts_len = []\n",
    "\n",
    "for encoded_sentence in encoded_val_contexts:\n",
    "    encoded_val_contexts_len.append(len(encoded_sentence))\n",
    "encoded_val_contexts_len = np.array(encoded_val_contexts_len)\n",
    "\n",
    "print(\"valid token length\")\n",
    "print(\"count : \", len(encoded_val_contexts_len))\n",
    "print(\"mean of len : \", np.mean(encoded_val_contexts_len))\n",
    "print(\"median of len: \", np.median(encoded_val_contexts_len))\n",
    "print(\"std of len : \", np.std(encoded_val_contexts_len))\n",
    "print(\"max of len : \", np.max(encoded_val_contexts_len))\n",
    "print(\"min of len : \", np.min(encoded_val_contexts_len))\n",
    "print('1Q Length : {}'.format(np.percentile(encoded_val_contexts_len, 25)))\n",
    "print('2Q Length : {}'.format(np.percentile(encoded_val_contexts_len, 50)))\n",
    "print('3Q Length : {}'.format(np.percentile(encoded_val_contexts_len, 75)))\n",
    "\n",
    "max_sequence_length = 512\n",
    "print(f\"number of items that are bigger than {max_sequence_length}:\" , len(encoded_val_contexts_len[encoded_val_contexts_len > max_sequence_length]), \"out of\", len(encoded_val_contexts_len))"
   ]
  },
  {
   "cell_type": "code",
   "execution_count": 46,
   "metadata": {},
   "outputs": [
    {
     "data": {
      "text/plain": [
       "{'whiskers': [<matplotlib.lines.Line2D at 0x7f611040dc40>,\n",
       "  <matplotlib.lines.Line2D at 0x7f611040dfd0>],\n",
       " 'caps': [<matplotlib.lines.Line2D at 0x7f611041b3a0>,\n",
       "  <matplotlib.lines.Line2D at 0x7f611041b730>],\n",
       " 'boxes': [<matplotlib.lines.Line2D at 0x7f611047e8b0>],\n",
       " 'medians': [<matplotlib.lines.Line2D at 0x7f611041bac0>],\n",
       " 'fliers': [<matplotlib.lines.Line2D at 0x7f6110427220>],\n",
       " 'means': [<matplotlib.lines.Line2D at 0x7f611041be50>]}"
      ]
     },
     "execution_count": 46,
     "metadata": {},
     "output_type": "execute_result"
    },
    {
     "data": {
      "image/png": "[encoded data removed]",
      "text/plain": [
       "<Figure size 864x360 with 1 Axes>"
      ]
     },
     "metadata": {
      "needs_background": "light"
     },
     "output_type": "display_data"
    }
   ],
   "source": [
    "# ignore matplotlib warning\n",
    "plt.figure(figsize=(12,5))\n",
    "plt.boxplot([encoded_val_contexts_len],\n",
    "            labels = ['Word'],\n",
    "            showmeans=True)"
   ]
  },
  {
   "cell_type": "code",
   "execution_count": null,
   "metadata": {},
   "outputs": [],
   "source": []
  },
  {
   "cell_type": "code",
   "execution_count": null,
   "metadata": {},
   "outputs": [],
   "source": []
  },
  {
   "cell_type": "markdown",
   "id": "f94f1bae-be1f-4f84-b19a-dc253a72cf05",
   "metadata": {
    "tags": []
   },
   "source": [
    "#### Analysis for 'answers' column"
   ]
  },
  {
   "cell_type": "code",
   "execution_count": 11,
   "id": "a2c694e3-eb31-4e40-a4a6-eb53b5ff9296",
   "metadata": {},
   "outputs": [],
   "source": [
    "### Answer word count ###"
   ]
  },
  {
   "cell_type": "code",
   "execution_count": 12,
   "id": "9aaccdbe-7e9c-4209-a815-c58ed4ceb940",
   "metadata": {},
   "outputs": [],
   "source": [
    "### Extracting only the 'text' parts from answers column ###\n",
    "answer_texts = [train_df.iloc[i]['answers']['text'] for i in range(len(train_df))]"
   ]
  },
  {
   "cell_type": "code",
   "execution_count": 13,
   "id": "9b8fa05f-ea31-41aa-9a40-e51e7efbb998",
   "metadata": {},
   "outputs": [
    {
     "data": {
      "text/plain": [
       "[['하원'],\n",
       " ['《경영의 실제》'],\n",
       " ['백성'],\n",
       " ['중국'],\n",
       " ['4개'],\n",
       " ['드래곤'],\n",
       " ['형양태수 왕식'],\n",
       " ['이탈리아군'],\n",
       " ['큰아들 유'],\n",
       " ['왕대마을']]"
      ]
     },
     "execution_count": 13,
     "metadata": {},
     "output_type": "execute_result"
    }
   ],
   "source": [
    "answer_texts[:10]"
   ]
  },
  {
   "cell_type": "code",
   "execution_count": 14,
   "id": "fd8870c6-f1f8-4f4f-a5a4-197a56b8aac8",
   "metadata": {},
   "outputs": [],
   "source": [
    "### Checking the length of answer texts splitted with space ' ' ###\n",
    "answer_text_lengths = [len(i[0].split()) for i in answer_texts]"
   ]
  },
  {
   "cell_type": "code",
   "execution_count": 15,
   "id": "c6e3cae7-3b0d-4dc7-899c-21e5c44517d3",
   "metadata": {},
   "outputs": [
    {
     "data": {
      "text/plain": [
       "[1, 2, 1, 1, 1, 1, 2, 1, 2, 1, 1, 3, 3, 1, 1, 1, 1, 1, 1, 2]"
      ]
     },
     "execution_count": 15,
     "metadata": {},
     "output_type": "execute_result"
    }
   ],
   "source": [
    "answer_text_lengths[:20]"
   ]
  },
  {
   "cell_type": "code",
   "execution_count": 16,
   "id": "10f82fdf-e076-4aa8-9ec5-981a7a1812f0",
   "metadata": {},
   "outputs": [],
   "source": [
    "number_of_answers = [len(i) for i in answer_texts]"
   ]
  },
  {
   "cell_type": "code",
   "execution_count": 17,
   "id": "30a11c36-8c51-4222-9a11-01bb30e72b7a",
   "metadata": {},
   "outputs": [
    {
     "data": {
      "text/plain": [
       "Counter({1: 3952})"
      ]
     },
     "execution_count": 17,
     "metadata": {},
     "output_type": "execute_result"
    }
   ],
   "source": [
    "Counter(number_of_answers)"
   ]
  },
  {
   "cell_type": "code",
   "execution_count": 18,
   "id": "76b07ee7-8693-4ac4-ba34-d645cdcea09c",
   "metadata": {},
   "outputs": [],
   "source": [
    "word_counts = Counter(answer_text_lengths)"
   ]
  },
  {
   "cell_type": "code",
   "execution_count": 19,
   "id": "ad0e7d14-d58f-4720-9466-ef7006c86804",
   "metadata": {},
   "outputs": [
    {
     "data": {
      "text/plain": [
       "Counter({1: 2288,\n",
       "         2: 1065,\n",
       "         3: 349,\n",
       "         5: 52,\n",
       "         8: 7,\n",
       "         6: 39,\n",
       "         4: 120,\n",
       "         7: 18,\n",
       "         15: 1,\n",
       "         9: 4,\n",
       "         13: 1,\n",
       "         20: 1,\n",
       "         10: 3,\n",
       "         14: 2,\n",
       "         18: 1,\n",
       "         16: 1})"
      ]
     },
     "execution_count": 19,
     "metadata": {},
     "output_type": "execute_result"
    }
   ],
   "source": [
    "word_counts"
   ]
  },
  {
   "cell_type": "code",
   "execution_count": 20,
   "id": "cdb56578-0a5d-4dba-9979-cad0139480dc",
   "metadata": {},
   "outputs": [],
   "source": [
    "counts = sorted([key for key,value in word_counts.items()])\n",
    "freq = [word_counts[count] for count in counts]"
   ]
  },
  {
   "cell_type": "code",
   "execution_count": 21,
   "id": "17d7b7fb-976a-4836-ba22-0aaa41df7e60",
   "metadata": {},
   "outputs": [
    {
     "data": {
      "text/plain": [
       "[1, 2, 3, 4, 5, 6, 7, 8, 9, 10, 13, 14, 15, 16, 18, 20]"
      ]
     },
     "execution_count": 21,
     "metadata": {},
     "output_type": "execute_result"
    }
   ],
   "source": [
    "counts"
   ]
  },
  {
   "cell_type": "code",
   "execution_count": 22,
   "id": "b2ce6dc1-6811-4f0c-ad07-788fd2cc57ab",
   "metadata": {},
   "outputs": [
    {
     "data": {
      "image/png": "[encoded data removed]",
      "text/plain": [
       "<Figure size 432x288 with 1 Axes>"
      ]
     },
     "metadata": {
      "needs_background": "light"
     },
     "output_type": "display_data"
    }
   ],
   "source": [
    "plt.bar(counts, freq, align = 'center')\n",
    "plt.xlabel('Word Counts')\n",
    "plt.ylabel('Freq')\n",
    "plt.show()"
   ]
  },
  {
   "cell_type": "code",
   "execution_count": null,
   "id": "a6af70cd-c925-4050-92ef-2759258fa8a4",
   "metadata": {},
   "outputs": [],
   "source": []
  }
 ],
 "metadata": {
  "interpreter": {
   "hash": "d4d1e4263499bec80672ea0156c357c1ee493ec2b1c70f0acce89fc37c4a6abe"
  },
  "kernelspec": {
   "display_name": "Python 3.8.5 64-bit ('base': conda)",
   "name": "python3"
  },
  "language_info": {
   "codemirror_mode": {
    "name": "ipython",
    "version": 3
   },
   "file_extension": ".py",
   "mimetype": "text/x-python",
   "name": "python",
   "nbconvert_exporter": "python",
   "pygments_lexer": "ipython3",
   "version": "3.8.5"
  }
 },
 "nbformat": 4,
 "nbformat_minor": 5
}
