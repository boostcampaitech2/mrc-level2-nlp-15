{
 "cells": [
  {
   "cell_type": "code",
   "execution_count": 2,
   "id": "8388bdad-6ea3-4bbd-a0b4-89b43316bb42",
   "metadata": {},
   "outputs": [],
   "source": [
    "from datasets import load_from_disk"
   ]
  },
  {
   "cell_type": "code",
   "execution_count": 4,
   "id": "d28cf70d-f596-4cd5-9762-ae60167b3cbf",
   "metadata": {},
   "outputs": [],
   "source": [
    "x1 = pd.read_csv('output (1).json',sep='\\t')# best1\n"
   ]
  },
  {
   "cell_type": "code",
   "execution_count": 43,
   "id": "04305423-f655-43ac-9056-16bc03e7453f",
   "metadata": {},
   "outputs": [
    {
     "name": "stdout",
     "output_type": "stream",
     "text": [
      "defaultdict(None, {'사락사라': 0.9691236019134521, '지구에서, 사락사라': 0.028705529868602753, '40억년전 지구에서, 사락사라': 0.0014911353355273604, '지구': 0.0005296953022480011, '네페로스 행성': 0.0001049509592121467, '40억년전 지구': 2.7515487090568058e-05, '라': 4.5071628846926615e-06, '사락사라의 사람들이 자신들만의 낙원을 만들기 위해': 3.4565657642815495e-06, '사': 2.1729736090492224e-06, '40억년전': 1.9948886347265216e-06, '전 지구에서, 사락사라': 1.096518758458842e-06, '락사라': 1.047933210429619e-06, '사락사': 7.356471201092063e-07, '사락사라의 사람들이 자신들만의 낙원을 만들기 위해 지구에 착륙하였다.': 5.917633529861632e-07, '사락사라의 사람들이': 5.368176516640233e-07, '억년전 지구에서, 사락사라': 3.479474059986387e-07, '사라': 2.363526618864853e-07, '사락': 2.3162208151461527e-07, '사락사라의 사람들이 자신들만의 낙원': 2.0886272977804765e-07, '사락사라의 사람들이 자신들만의 낙원을 만들기 위해 지구': 2.0674464451531094e-07})\n"
     ]
    }
   ],
   "source": [
    "import json\n",
    "from collections import defaultdict,OrderedDict\n",
    "answers = {}\n",
    "for i in range(1,3):\n",
    "    with open(f'nbest_predictions{i}.json') as f:\n",
    "        json_data = json.load(f)\n",
    "    for idx,j in json_data.items():\n",
    "        answers[idx] = defaultdict()\n",
    "        for item in j:\n",
    "            try:\n",
    "                answers[idx][item['text']] += item['probability']\n",
    "            except:\n",
    "                answers[idx][item['text']] = item['probability']\n",
    "\n",
    "print(answers['mrc-1-000653'])"
   ]
  },
  {
   "cell_type": "code",
   "execution_count": 20,
   "id": "7ab209ea-21f3-495e-9d22-2cc3d560bcc5",
   "metadata": {},
   "outputs": [
    {
     "data": {
      "text/plain": [
       "'누가 시장으로 선출되면서 트랜짓 시티 계획안이 불발되었나?'"
      ]
     },
     "execution_count": 20,
     "metadata": {},
     "output_type": "execute_result"
    }
   ],
   "source": [
    "x['question'][12]"
   ]
  },
  {
   "cell_type": "code",
   "execution_count": null,
   "id": "d9e3dd94-6bf9-4187-b106-c6ccdc3bd9b9",
   "metadata": {},
   "outputs": [],
   "source": []
  }
 ],
 "metadata": {
  "kernelspec": {
   "display_name": "Python 3 (ipykernel)",
   "language": "python",
   "name": "python3"
  },
  "language_info": {
   "codemirror_mode": {
    "name": "ipython",
    "version": 3
   },
   "file_extension": ".py",
   "mimetype": "text/x-python",
   "name": "python",
   "nbconvert_exporter": "python",
   "pygments_lexer": "ipython3",
   "version": "3.8.5"
  }
 },
 "nbformat": 4,
 "nbformat_minor": 5
}
